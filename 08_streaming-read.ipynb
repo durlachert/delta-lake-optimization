{
 "cells": [
  {
   "cell_type": "markdown",
   "id": "8b5b2d9f-e0fa-4b02-b47a-4936c1768b49",
   "metadata": {},
   "source": [
    "# Stream Read Notebook"
   ]
  },
  {
   "cell_type": "markdown",
   "id": "081b054f-373e-4d4d-b842-0bb5862f82c7",
   "metadata": {},
   "source": [
    "This notebook performs the following operations:\n",
    "\n",
    "- Read data from Delta Lake table\n",
    "- Stream data to Apache Kafka"
   ]
  },
  {
   "cell_type": "code",
   "execution_count": null,
   "id": "24ee9086-5321-4433-8bf1-54ce06fc739f",
   "metadata": {},
   "outputs": [],
   "source": [
    "spark.stop()"
   ]
  },
  {
   "cell_type": "code",
   "execution_count": 11,
   "id": "d210bb96-fd78-4313-a495-d99349be9171",
   "metadata": {},
   "outputs": [],
   "source": [
    "# Special Apache Spark configuration with reduced resources for two applications\n",
    "\n",
    "from pyspark.sql import SparkSession\n",
    "import os\n",
    "\n",
    "spark = SparkSession.builder \\\n",
    "    .appName(\"StreamRead\") \\\n",
    "    .master(\"spark://192.168.0.144:7077\") \\\n",
    "    .config(\"spark.sql.extensions\", \"io.delta.sql.DeltaSparkSessionExtension\") \\\n",
    "    .config(\"spark.sql.catalog.spark_catalog\", \"org.apache.spark.sql.delta.catalog.DeltaCatalog\") \\\n",
    "    .config(\"spark.hadoop.hive.metastore.uris\", \"thrift://192.168.0.144:9083\") \\\n",
    "    .config(\"spark.hadoop.javax.jdo.option.ConnectionURL\", \"jdbc:mysql://192.168.0.144:3306/metastore_db\") \\\n",
    "    .config(\"spark.hadoop.javax.jdo.option.ConnectionDriverName\", \"com.mysql.cj.jdbc.Driver\") \\\n",
    "    .config(\"spark.hadoop.javax.jdo.option.ConnectionUserName\", \"lh\") \\\n",
    "    .config(\"spark.hadoop.javax.jdo.option.ConnectionPassword\", os.getenv('MYSQL', 'Default_Value')) \\\n",
    "    .config(\"spark.jars\", \"/usr/local/spark/jars/delta-storage-3.2.0.jar,/usr/local/spark/jars/delta-spark_2.12-3.2.0.jar,/usr/local/spark/jars/kafka-clients-3.5.1.jar,/usr/local/spark/jars/spark-sql-kafka-0-10_2.12-3.5.1.jar, /usr/local/spark/jars/spark-token-provider-kafka-0-10_2.12-3.5.1.jar, /usr/local/spark/jars/commons-pool2-2.11.1.jar\")    \\\n",
    "    .config(\"spark.delta.logStore.class\", \"org.apache.spark.sql.delta.storage.HDFSLogStore\") \\\n",
    "    .config(\"spark.executor.memory\", \"4g\") \\\n",
    "    .config(\"spark.executor.cores\", \"2\") \\\n",
    "    .config(\"spark.driver.cores\", \"6\") \\\n",
    "    .config(\"spark.driver.memory\", \"10g\") \\\n",
    "    .config(\"spark.driver.maxResultSize\", \"2g\") \\\n",
    "    .config(\"spark.hadoop.fs.defaultFS\", \"hdfs://192.168.0.144:9000\") \\\n",
    "    .config(\"spark.databricks.delta.clusteredTable.enableClusteringTablePreview\", \"true\") \\\n",
    "    .config(\"spark.sql.debug.maxToStringFields\", \"1000\") \\\n",
    "    .config(\"spark.executor.instances\", \"2\") \\\n",
    "    .config(\"spark.dynamicAllocation.enabled\", \"true\") \\\n",
    "    .config(\"spark.dynamicAllocation.minExecutors\", \"1\") \\\n",
    "    .config(\"spark.dynamicAllocation.maxExecutors\", \"2\") \\\n",
    "    .enableHiveSupport() \\\n",
    "    .getOrCreate()\n",
    "\n"
   ]
  },
  {
   "cell_type": "code",
   "execution_count": 13,
   "id": "dcdb5974-6360-439a-9956-bd28c0615977",
   "metadata": {},
   "outputs": [
    {
     "data": {
      "text/plain": [
       "' Create topic\\n!/usr/local/bin/kafka-topics.sh --create     --bootstrap-server localhost:9092     --replication-factor 1     --partitions 1     --topic delta\\n'"
      ]
     },
     "execution_count": 13,
     "metadata": {},
     "output_type": "execute_result"
    }
   ],
   "source": [
    "\"\"\" Create topic - Kafka on Worker Node 01\n",
    "!/usr/local/bin/kafka-topics.sh --create \\\n",
    "    --bootstrap-server localhost:9092 \\\n",
    "    --replication-factor 1 \\\n",
    "    --partitions 1 \\\n",
    "    --topic delta\n",
    "\"\"\""
   ]
  },
  {
   "cell_type": "code",
   "execution_count": null,
   "id": "697b1dbe-656f-485e-9fb3-c129a8fd092a",
   "metadata": {},
   "outputs": [],
   "source": [
    "from pyspark.sql.functions import col, to_json, struct, lit\n",
    "\n",
    "kafka_bootstrap_servers = \"192.168.0.145:9092\"\n",
    "kafka_topic = \"delta\"\n",
    "\n",
    "df = spark.readStream \\\n",
    "    .format(\"delta\") \\\n",
    "    .load(\"/datalake/raw_data/raw_data_2\")\n",
    "\n",
    "\n",
    "df_transformed = df.select(\n",
    "    col(\"timestamp\").cast(\"string\").alias(\"key\"),  \n",
    "    to_json(struct(\n",
    "        col(\"value\"),\n",
    "        col(\"country\"),\n",
    "        col(\"event_id\"),\n",
    "        col(\"actor_id\"),\n",
    "        col(\"year\"),\n",
    "        col(\"month\"),\n",
    "        col(\"day\"),\n",
    "        col(\"product_id\"),\n",
    "        col(\"location_id\"),\n",
    "        col(\"department_id\"),\n",
    "        col(\"campaign_id\"),\n",
    "        col(\"customer_id\")\n",
    "    )).alias(\"value\")  \n",
    ")\n",
    "\n",
    "query = df_transformed.writeStream \\\n",
    "    .format(\"kafka\") \\\n",
    "    .option(\"kafka.bootstrap.servers\", kafka_bootstrap_servers) \\\n",
    "    .option(\"topic\", kafka_topic) \\\n",
    "    .option(\"checkpointLocation\", \"/path/to/checkpoint/kafka\") \\\n",
    "    .start()\n",
    "\n",
    "query.awaitTermination()"
   ]
  },
  {
   "cell_type": "code",
   "execution_count": null,
   "id": "43d61b0e-b021-4743-86dd-fb930e3e1b57",
   "metadata": {},
   "outputs": [],
   "source": [
    "from pyspark.sql import SparkSession\n",
    "from pyspark.sql.functions import col, to_json, struct, lit\n",
    "import time\n",
    "\n",
    "kafka_bootstrap_servers = \"192.168.0.145:9092\"\n",
    "kafka_topic = \"delta\"\n",
    "\n",
    "df = spark.readStream \\\n",
    "    .format(\"delta\") \\\n",
    "    .load(\"/datalake/raw_data/raw_data_2\")\n",
    "\n",
    "df_transformed = df.select(\n",
    "    col(\"timestamp\").cast(\"string\").alias(\"key\"),  \n",
    "    to_json(struct(\n",
    "        col(\"value\"),\n",
    "        col(\"country\"),\n",
    "        col(\"event_id\"),\n",
    "        col(\"actor_id\"),\n",
    "        col(\"year\"),\n",
    "        col(\"month\"),\n",
    "        col(\"day\"),\n",
    "        col(\"product_id\"),\n",
    "        col(\"location_id\"),\n",
    "        col(\"department_id\"),\n",
    "        col(\"campaign_id\"),\n",
    "        col(\"customer_id\")\n",
    "    )).alias(\"value\")  \n",
    ")\n",
    "\n",
    "batch_count = 0\n",
    "max_batches = 10\n",
    "max_records_per_batch = 1000  \n",
    "\n",
    "def log_metrics(batch_df, batch_id):\n",
    "    global batch_count\n",
    "    batch_count += 1\n",
    "\n",
    "    limited_batch_df = batch_df.limit(max_records_per_batch)\n",
    "\n",
    "    start_time = time.time()\n",
    "    num_records = limited_batch_df.count()\n",
    "    end_time = time.time()\n",
    "    processing_time = end_time - start_time\n",
    "    avg_message_size = limited_batch_df.withColumn(\"size\", col(\"value\").cast(\"string\").length()).agg({\"size\": \"avg\"}).collect()[0][\"avg(size)\"]\n",
    "\n",
    "    print(f\"Batch ID: {batch_id}\")\n",
    "    print(f\"Number of records: {num_records}\")\n",
    "    print(f\"Processing time (seconds): {processing_time}\")\n",
    "    print(f\"Throughput (records/second): {num_records / processing_time if processing_time > 0 else float('inf')}\")\n",
    "    print(f\"Average message size (bytes): {avg_message_size}\")\n",
    "\n",
    "    limited_batch_df \\\n",
    "        .write \\\n",
    "        .format(\"kafka\") \\\n",
    "        .option(\"kafka.bootstrap.servers\", kafka_bootstrap_servers) \\\n",
    "        .option(\"topic\", kafka_topic) \\\n",
    "        .option(\"checkpointLocation\", \"/path/to/checkpoint/kafka\") \\\n",
    "        .save()\n",
    "\n",
    "    if batch_count >= max_batches:\n",
    "        query.stop()\n",
    "\n",
    "query = df_transformed.writeStream \\\n",
    "    .foreachBatch(log_metrics) \\\n",
    "    .start()\n",
    "\n",
    "query.awaitTermination()"
   ]
  }
 ],
 "metadata": {
  "kernelspec": {
   "display_name": "Python 3 (ipykernel)",
   "language": "python",
   "name": "python3"
  },
  "language_info": {
   "codemirror_mode": {
    "name": "ipython",
    "version": 3
   },
   "file_extension": ".py",
   "mimetype": "text/x-python",
   "name": "python",
   "nbconvert_exporter": "python",
   "pygments_lexer": "ipython3",
   "version": "3.10.12"
  }
 },
 "nbformat": 4,
 "nbformat_minor": 5
}
