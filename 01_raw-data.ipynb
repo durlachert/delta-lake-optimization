{
 "cells": [
  {
   "cell_type": "markdown",
   "id": "f2fa7be1-db62-4009-a7d9-a045b32f4d11",
   "metadata": {},
   "source": [
    "# Raw Data Notebook"
   ]
  },
  {
   "cell_type": "markdown",
   "id": "65bc277f-e90c-42f1-9f7a-9c6282df0266",
   "metadata": {},
   "source": [
    "This notebook performs the following operations:\n",
    "\n",
    "- Display Spark configuration\n",
    "- Create Delta Lake tables\n",
    "- Generate data and insert it into the table\n",
    "- Display table properties\n",
    "- Run queries\n",
    "- Display query execution time\n",
    "\n",
    "The raw data tables serve as the data source for the other tables in this project."
   ]
  },
  {
   "cell_type": "code",
   "execution_count": 1,
   "id": "73e9a156-06cb-43cc-947e-2786f67c334c",
   "metadata": {},
   "outputs": [
    {
     "name": "stderr",
     "output_type": "stream",
     "text": [
      "24/08/08 06:59:20 WARN NativeCodeLoader: Unable to load native-hadoop library for your platform... using builtin-java classes where applicable\n",
      "Setting default log level to \"WARN\".\n",
      "To adjust logging level use sc.setLogLevel(newLevel). For SparkR, use setLogLevel(newLevel).\n"
     ]
    }
   ],
   "source": [
    "from pyspark.sql import SparkSession\n",
    "import os\n",
    "\n",
    "spark = SparkSession.builder \\\n",
    "    .appName(\"RawData\") \\\n",
    "    .master(\"spark://192.168.0.144:7077\") \\\n",
    "    .config(\"spark.sql.extensions\", \"io.delta.sql.DeltaSparkSessionExtension\") \\\n",
    "    .config(\"spark.sql.catalog.spark_catalog\", \"org.apache.spark.sql.delta.catalog.DeltaCatalog\") \\\n",
    "    .config(\"spark.hadoop.hive.metastore.uris\", \"thrift://192.168.0.144:9083\") \\\n",
    "    .config(\"spark.hadoop.javax.jdo.option.ConnectionURL\", \"jdbc:mysql://192.168.0.144:3306/metastore_db\") \\\n",
    "    .config(\"spark.hadoop.javax.jdo.option.ConnectionDriverName\", \"com.mysql.cj.jdbc.Driver\") \\\n",
    "    .config(\"spark.hadoop.javax.jdo.option.ConnectionUserName\", \"lh\") \\\n",
    "    .config(\"spark.hadoop.javax.jdo.option.ConnectionPassword\", os.getenv('MYSQL', 'Default_Value')) \\\n",
    "    .config(\"spark.jars\", \"/usr/local/spark/jars/delta-storage-3.2.0.jar,/usr/local/spark/jars/delta-spark_2.12-3.2.0.jar\")    \\\n",
    "    .config(\"spark.delta.logStore.class\", \"org.apache.spark.sql.delta.storage.HDFSLogStore\") \\\n",
    "    .config(\"spark.executor.memory\", \"9g\") \\\n",
    "    .config(\"spark.executor.cores\", \"3\") \\\n",
    "    .config(\"spark.driver.memory\", \"19g\") \\\n",
    "    .config(\"spark.driver.maxResultSize\", \"2g\") \\\n",
    "    .config(\"spark.hadoop.fs.defaultFS\", \"hdfs://192.168.0.144:9000\") \\\n",
    "    .config(\"spark.databricks.delta.clusteredTable.enableClusteringTablePreview\", \"true\") \\\n",
    "    .enableHiveSupport() \\\n",
    "    .getOrCreate()"
   ]
  },
  {
   "cell_type": "code",
   "execution_count": 11,
   "id": "cb65454d-33a7-4ecb-b700-8fa84d9f283a",
   "metadata": {},
   "outputs": [
    {
     "data": {
      "text/plain": [
       "[('spark.sql.warehouse.dir', 'file:/home/lh/spark-warehouse'),\n",
       " ('spark.app.startTime', '1722863728957'),\n",
       " ('spark.hadoop.javax.jdo.option.ConnectionUserName', 'lh'),\n",
       " ('spark.app.id', 'app-20240805131532-0000'),\n",
       " ('spark.jars',\n",
       "  '/usr/local/spark/jars/delta-storage-3.2.0.jar,/usr/local/spark/jars/delta-spark_2.12-3.2.0.jar'),\n",
       " ('spark.hadoop.javax.jdo.option.ConnectionURL',\n",
       "  'jdbc:mysql://192.168.0.144:3306/metastore_db'),\n",
       " ('spark.app.submitTime', '1722863728538'),\n",
       " ('spark.repl.local.jars',\n",
       "  'file:///usr/local/spark/jars/delta-storage-3.2.0.jar,file:///usr/local/spark/jars/delta-spark_2.12-3.2.0.jar'),\n",
       " ('spark.delta.logStore.class',\n",
       "  'org.apache.spark.sql.delta.storage.HDFSLogStore'),\n",
       " ('spark.driver.memory', '19g'),\n",
       " ('spark.hadoop.javax.jdo.option.ConnectionPassword', 'Default_Value'),\n",
       " ('spark.serializer.objectStreamReset', '100'),\n",
       " ('spark.executor.cores', '3'),\n",
       " ('spark.driver.port', '41161'),\n",
       " ('spark.submit.deployMode', 'client'),\n",
       " ('spark.app.name', 'MyApp04'),\n",
       " ('spark.driver.host', 'lh'),\n",
       " ('spark.driver.extraJavaOptions',\n",
       "  '-Djava.net.preferIPv6Addresses=false -XX:+IgnoreUnrecognizedVMOptions --add-opens=java.base/java.lang=ALL-UNNAMED --add-opens=java.base/java.lang.invoke=ALL-UNNAMED --add-opens=java.base/java.lang.reflect=ALL-UNNAMED --add-opens=java.base/java.io=ALL-UNNAMED --add-opens=java.base/java.net=ALL-UNNAMED --add-opens=java.base/java.nio=ALL-UNNAMED --add-opens=java.base/java.util=ALL-UNNAMED --add-opens=java.base/java.util.concurrent=ALL-UNNAMED --add-opens=java.base/java.util.concurrent.atomic=ALL-UNNAMED --add-opens=java.base/jdk.internal.ref=ALL-UNNAMED --add-opens=java.base/sun.nio.ch=ALL-UNNAMED --add-opens=java.base/sun.nio.cs=ALL-UNNAMED --add-opens=java.base/sun.security.action=ALL-UNNAMED --add-opens=java.base/sun.util.calendar=ALL-UNNAMED --add-opens=java.security.jgss/sun.security.krb5=ALL-UNNAMED -Djdk.reflect.useDirectMethodHandle=false'),\n",
       " ('spark.executor.memory', '9g'),\n",
       " ('spark.hadoop.hive.metastore.uris', 'thrift://192.168.0.144:9083'),\n",
       " ('spark.databricks.delta.clusteredTable.enableClusteringTablePreview',\n",
       "  'true'),\n",
       " ('spark.executor.id', 'driver'),\n",
       " ('spark.app.initial.jar.urls',\n",
       "  'spark://lh:41161/jars/delta-storage-3.2.0.jar,spark://lh:41161/jars/delta-spark_2.12-3.2.0.jar'),\n",
       " ('spark.hadoop.fs.defaultFS', 'hdfs://192.168.0.144:9000'),\n",
       " ('spark.hadoop.javax.jdo.option.ConnectionDriverName',\n",
       "  'com.mysql.cj.jdbc.Driver'),\n",
       " ('spark.sql.catalogImplementation', 'hive'),\n",
       " ('spark.sql.extensions', 'io.delta.sql.DeltaSparkSessionExtension'),\n",
       " ('spark.rdd.compress', 'True'),\n",
       " ('spark.executor.extraJavaOptions',\n",
       "  '-Djava.net.preferIPv6Addresses=false -XX:+IgnoreUnrecognizedVMOptions --add-opens=java.base/java.lang=ALL-UNNAMED --add-opens=java.base/java.lang.invoke=ALL-UNNAMED --add-opens=java.base/java.lang.reflect=ALL-UNNAMED --add-opens=java.base/java.io=ALL-UNNAMED --add-opens=java.base/java.net=ALL-UNNAMED --add-opens=java.base/java.nio=ALL-UNNAMED --add-opens=java.base/java.util=ALL-UNNAMED --add-opens=java.base/java.util.concurrent=ALL-UNNAMED --add-opens=java.base/java.util.concurrent.atomic=ALL-UNNAMED --add-opens=java.base/jdk.internal.ref=ALL-UNNAMED --add-opens=java.base/sun.nio.ch=ALL-UNNAMED --add-opens=java.base/sun.nio.cs=ALL-UNNAMED --add-opens=java.base/sun.security.action=ALL-UNNAMED --add-opens=java.base/sun.util.calendar=ALL-UNNAMED --add-opens=java.security.jgss/sun.security.krb5=ALL-UNNAMED -Djdk.reflect.useDirectMethodHandle=false'),\n",
       " ('spark.driver.maxResultSize', '2g'),\n",
       " ('spark.submit.pyFiles', ''),\n",
       " ('spark.master', 'spark://192.168.0.144:7077'),\n",
       " ('spark.ui.showConsoleProgress', 'true'),\n",
       " ('spark.sql.catalog.spark_catalog',\n",
       "  'org.apache.spark.sql.delta.catalog.DeltaCatalog')]"
      ]
     },
     "execution_count": 11,
     "metadata": {},
     "output_type": "execute_result"
    }
   ],
   "source": [
    "spark.sparkContext.getConf().getAll()"
   ]
  },
  {
   "cell_type": "code",
   "execution_count": 2,
   "id": "5094ee55-7606-4c2a-ae37-b8bea30c6bc8",
   "metadata": {},
   "outputs": [],
   "source": [
    "db='raw_data'\n",
    "delta_db_path = 'hdfs://192.168.0.144:9000/datalake/raw_data'"
   ]
  },
  {
   "cell_type": "code",
   "execution_count": 3,
   "id": "7de54808-41cd-4a6b-a842-99aff2883433",
   "metadata": {},
   "outputs": [
    {
     "data": {
      "text/plain": [
       "DataFrame[]"
      ]
     },
     "execution_count": 3,
     "metadata": {},
     "output_type": "execute_result"
    }
   ],
   "source": [
    "#spark.sql(f\"DROP DATABASE {db} CASCADE\")\n",
    "#spark.sql(f\"CREATE DATABASE {db} LOCATION '{delta_db_path}'\")\n",
    "spark.sql(f\"USE DATABASE {db}\")"
   ]
  },
  {
   "cell_type": "code",
   "execution_count": 4,
   "id": "9ce524e2-73b1-4ac9-b52e-4c8bd5d2ab69",
   "metadata": {},
   "outputs": [
    {
     "name": "stdout",
     "output_type": "stream",
     "text": [
      "Default Parallelism: 15\n",
      "Shuffle Partitions: 200\n"
     ]
    }
   ],
   "source": [
    "default_parallelism = spark.sparkContext.defaultParallelism\n",
    "print(f\"Default Parallelism: {default_parallelism}\")\n",
    "#spark.conf.set(\"spark.default.parallelism\", \"100\")\n",
    "shuffle_partitions = spark.conf.get(\"spark.sql.shuffle.partitions\")\n",
    "print(f\"Shuffle Partitions: {shuffle_partitions}\")\n",
    "#spark.conf.set(\"spark.sql.shuffle.partitions\", \"100\")"
   ]
  },
  {
   "cell_type": "code",
   "execution_count": null,
   "id": "5d96a186-45d4-4fb5-a690-ffe2461a4c66",
   "metadata": {},
   "outputs": [],
   "source": [
    "log_path = \"hdfs://192.168.0.144:9000/spark/history\"\n",
    "event_log_df = spark.read.json(log_path)\n",
    "event_log_df.printSchema()\n",
    "event_log_df.show()"
   ]
  },
  {
   "cell_type": "code",
   "execution_count": 26,
   "id": "48cdab4b-b75e-4a58-a5b2-91f8f3824573",
   "metadata": {
    "scrolled": true
   },
   "outputs": [
    {
     "name": "stdout",
     "output_type": "stream",
     "text": [
      "Spark Version: 3.5.1\n",
      "Master: spark://192.168.0.144:7077\n",
      "App Name: MyApp04\n",
      "Spark Web UI: http://lh:4040\n",
      "Is Spark Context active? True\n",
      "\n",
      "Spark Configuration Settings:\n",
      "spark.app.id: app-20240729150139-0001\n",
      "spark.app.initial.jar.urls: spark://lh:40405/jars/delta-spark_2.12-3.2.0.jar,spark://lh:40405/jars/delta-storage-3.2.0.jar\n",
      "spark.app.name: MyApp04\n",
      "spark.app.startTime: 1722265299187\n",
      "spark.app.submitTime: 1722265228321\n",
      "spark.databricks.delta.clusteredTable.enableClusteringTablePreview: true\n",
      "spark.delta.logStore.class: org.apache.spark.sql.delta.storage.HDFSLogStore\n",
      "spark.driver.extraJavaOptions: -Djava.net.preferIPv6Addresses=false -XX:+IgnoreUnrecognizedVMOptions --add-opens=java.base/java.lang=ALL-UNNAMED --add-opens=java.base/java.lang.invoke=ALL-UNNAMED --add-opens=java.base/java.lang.reflect=ALL-UNNAMED --add-opens=java.base/java.io=ALL-UNNAMED --add-opens=java.base/java.net=ALL-UNNAMED --add-opens=java.base/java.nio=ALL-UNNAMED --add-opens=java.base/java.util=ALL-UNNAMED --add-opens=java.base/java.util.concurrent=ALL-UNNAMED --add-opens=java.base/java.util.concurrent.atomic=ALL-UNNAMED --add-opens=java.base/jdk.internal.ref=ALL-UNNAMED --add-opens=java.base/sun.nio.ch=ALL-UNNAMED --add-opens=java.base/sun.nio.cs=ALL-UNNAMED --add-opens=java.base/sun.security.action=ALL-UNNAMED --add-opens=java.base/sun.util.calendar=ALL-UNNAMED --add-opens=java.security.jgss/sun.security.krb5=ALL-UNNAMED -Djdk.reflect.useDirectMethodHandle=false\n",
      "spark.driver.host: lh\n",
      "spark.driver.maxResultSize: 2g\n",
      "spark.driver.memory: 19g\n",
      "spark.driver.port: 40405\n",
      "spark.executor.cores: 3\n",
      "spark.executor.extraJavaOptions: -Djava.net.preferIPv6Addresses=false -XX:+IgnoreUnrecognizedVMOptions --add-opens=java.base/java.lang=ALL-UNNAMED --add-opens=java.base/java.lang.invoke=ALL-UNNAMED --add-opens=java.base/java.lang.reflect=ALL-UNNAMED --add-opens=java.base/java.io=ALL-UNNAMED --add-opens=java.base/java.net=ALL-UNNAMED --add-opens=java.base/java.nio=ALL-UNNAMED --add-opens=java.base/java.util=ALL-UNNAMED --add-opens=java.base/java.util.concurrent=ALL-UNNAMED --add-opens=java.base/java.util.concurrent.atomic=ALL-UNNAMED --add-opens=java.base/jdk.internal.ref=ALL-UNNAMED --add-opens=java.base/sun.nio.ch=ALL-UNNAMED --add-opens=java.base/sun.nio.cs=ALL-UNNAMED --add-opens=java.base/sun.security.action=ALL-UNNAMED --add-opens=java.base/sun.util.calendar=ALL-UNNAMED --add-opens=java.security.jgss/sun.security.krb5=ALL-UNNAMED -Djdk.reflect.useDirectMethodHandle=false\n",
      "spark.executor.id: driver\n",
      "spark.executor.memory: 9g\n",
      "spark.hadoop.fs.defaultFS: hdfs://192.168.0.144:9000\n",
      "spark.hadoop.hive.metastore.uris: thrift://192.168.0.144:9083\n",
      "spark.hadoop.javax.jdo.option.ConnectionDriverName: com.mysql.cj.jdbc.Driver\n",
      "spark.hadoop.javax.jdo.option.ConnectionPassword: Default_Value\n",
      "spark.hadoop.javax.jdo.option.ConnectionURL: jdbc:mysql://192.168.0.144:3306/metastore_db\n",
      "spark.hadoop.javax.jdo.option.ConnectionUserName: lh\n",
      "spark.jars: /usr/local/spark/jars/delta-storage-3.2.0.jar,/usr/local/spark/jars/delta-spark_2.12-3.2.0.jar\n",
      "spark.master: spark://192.168.0.144:7077\n",
      "spark.rdd.compress: True\n",
      "spark.repl.local.jars: file:///usr/local/spark/jars/delta-storage-3.2.0.jar,file:///usr/local/spark/jars/delta-spark_2.12-3.2.0.jar\n",
      "spark.serializer.objectStreamReset: 100\n",
      "spark.sql.catalog.spark_catalog: org.apache.spark.sql.delta.catalog.DeltaCatalog\n",
      "spark.sql.catalogImplementation: hive\n",
      "spark.sql.extensions: io.delta.sql.DeltaSparkSessionExtension\n",
      "spark.sql.warehouse.dir: file:/home/lh/spark-warehouse\n",
      "spark.submit.deployMode: client\n",
      "spark.submit.pyFiles: \n",
      "spark.ui.showConsoleProgress: true\n",
      "\n",
      "Executor Configuration:\n",
      "Executor Memory: 9g\n",
      "Executor Cores: 3\n",
      "Executor Instances: Not Set\n",
      "Driver Memory: 19g\n",
      "Driver Cores: Not Set\n",
      "\n",
      "System Properties:\n",
      "spark.driver.memory: 19g\n",
      "spark.executor.cores: 3\n",
      "spark.executor.memory: 9g\n",
      "\n",
      "Hive-related Spark Configuration:\n",
      "spark.hadoop.hive.metastore.uris: thrift://192.168.0.144:9083\n",
      "\n",
      "Hive Databases:\n",
      "+---------+\n",
      "|namespace|\n",
      "+---------+\n",
      "|default  |\n",
      "|raw_data |\n",
      "+---------+\n",
      "\n",
      "\n",
      "Details of 'default' Database:\n",
      "+--------------+---------------------------------------------+\n",
      "|info_name     |info_value                                   |\n",
      "+--------------+---------------------------------------------+\n",
      "|Catalog Name  |spark_catalog                                |\n",
      "|Namespace Name|default                                      |\n",
      "|Comment       |Default Hive database                        |\n",
      "|Location      |hdfs://192.168.0.144:9000/user/hive/warehouse|\n",
      "|Owner         |public                                       |\n",
      "|Properties    |                                             |\n",
      "+--------------+---------------------------------------------+\n",
      "\n",
      "\n",
      "Tables in default Database:\n",
      "+---------+----------------+-----------+\n",
      "|namespace|       tableName|isTemporary|\n",
      "+---------+----------------+-----------+\n",
      "|  default|observation_data|      false|\n",
      "+---------+----------------+-----------+\n"
     ]
    }
   ],
   "source": [
    "# Print configuration details\n",
    "\n",
    "print(\"Spark Version:\", spark.sparkContext.version)\n",
    "print(\"Master:\", spark.sparkContext.master)\n",
    "print(\"App Name:\", spark.sparkContext.appName)\n",
    "print(\"Spark Web UI:\", spark.sparkContext.uiWebUrl)\n",
    "\n",
    "print(\"Is Spark Context active?\", not spark.sparkContext._jsc.sc().isStopped())\n",
    "\n",
    "print(\"\\nSpark Configuration Settings:\")\n",
    "for item in sorted(spark.sparkContext.getConf().getAll()):\n",
    "    print(f\"{item[0]}: {item[1]}\")\n",
    "\n",
    "print(\"\\nExecutor Configuration:\")\n",
    "print(\"Executor Memory:\", spark.conf.get(\"spark.executor.memory\", \"Not Set\"))\n",
    "print(\"Executor Cores:\", spark.conf.get(\"spark.executor.cores\", \"Not Set\"))\n",
    "print(\"Executor Instances:\", spark.conf.get(\"spark.executor.instances\", \"Not Set\"))\n",
    "\n",
    "print(\"Driver Memory:\", spark.conf.get(\"spark.driver.memory\", \"Not Set\"))\n",
    "print(\"Driver Cores:\", spark.conf.get(\"spark.driver.cores\", \"Not Set\"))\n",
    "\n",
    "print(\"\\nSystem Properties:\")\n",
    "for prop in spark.sparkContext.getConf().getAll():\n",
    "    if \"memory\" in prop[0] or \"cores\" in prop[0]:\n",
    "        print(f\"{prop[0]}: {prop[1]}\")\n",
    "\n",
    "print(\"\\nHive-related Spark Configuration:\")\n",
    "for k, v in spark.sparkContext.getConf().getAll():\n",
    "    if \"hive\" in k:\n",
    "        print(f\"{k}: {v}\")\n",
    "\n",
    "print(\"\\nHive Databases:\")\n",
    "spark.sql(\"SHOW DATABASES\").show(truncate=False)\n",
    "\n",
    "print(\"\\nDetails of 'default' Database:\")\n",
    "spark.sql(\"DESCRIBE DATABASE EXTENDED default\").show(truncate=False)\n",
    "\n",
    "print(\"\\nTables in default Database:\")\n",
    "spark.sql(\"SHOW TABLES IN default\").show()"
   ]
  },
  {
   "cell_type": "code",
   "execution_count": 12,
   "id": "5f23c8bc-9157-49ad-8900-24cc22646112",
   "metadata": {},
   "outputs": [
    {
     "name": "stdout",
     "output_type": "stream",
     "text": [
      "Databases:\n",
      "+----------------+\n",
      "|       namespace|\n",
      "+----------------+\n",
      "|      compaction|\n",
      "|         default|\n",
      "|liquidclustering|\n",
      "|       partition|\n",
      "|        raw_data|\n",
      "|          stream|\n",
      "|          zorder|\n",
      "+----------------+\n",
      "\n",
      "Tables in 'raw_data' database:\n",
      "+---------+--------------+-----------+\n",
      "|namespace|tableName     |isTemporary|\n",
      "+---------+--------------+-----------+\n",
      "|raw_data |campaign_dim  |false      |\n",
      "|raw_data |customer_dim  |false      |\n",
      "|raw_data |department_dim|false      |\n",
      "|raw_data |location_dim  |false      |\n",
      "|raw_data |product_dim   |false      |\n",
      "|raw_data |raw_data_2    |false      |\n",
      "|raw_data |raw_data_4    |false      |\n",
      "|raw_data |raw_data_8    |false      |\n",
      "|raw_data |rawdata_2     |false      |\n",
      "|raw_data |rawdata_4     |false      |\n",
      "|raw_data |rawdata_8     |false      |\n",
      "+---------+--------------+-----------+\n"
     ]
    },
    {
     "name": "stderr",
     "output_type": "stream",
     "text": [
      "                                                                                \r"
     ]
    },
    {
     "name": "stdout",
     "output_type": "stream",
     "text": [
      "+------+------------------------------------+---------------------------------+-----------+------------------------------------------------------+----------------------+-----------------------+----------------+-----------------+--------+-----------+----------+----------------+----------------+------------------------+\n",
      "|format|id                                  |name                             |description|location                                              |createdAt             |lastModified           |partitionColumns|clusteringColumns|numFiles|sizeInBytes|properties|minReaderVersion|minWriterVersion|tableFeatures           |\n",
      "+------+------------------------------------+---------------------------------+-----------+------------------------------------------------------+----------------------+-----------------------+----------------+-----------------+--------+-----------+----------+----------------+----------------+------------------------+\n",
      "|delta |ca00d492-cf92-40e9-80ee-6a159e8811cf|spark_catalog.raw_data.raw_data_2|NULL       |hdfs://192.168.0.144:9000/datalake/raw_data/raw_data_2|2024-07-29 15:04:12.15|2024-07-29 16:17:10.386|[]              |[]               |15      |43358996135|{}        |1               |2               |[appendOnly, invariants]|\n",
      "+------+------------------------------------+---------------------------------+-----------+------------------------------------------------------+----------------------+-----------------------+----------------+-----------------+--------+-----------+----------+----------------+----------------+------------------------+\n",
      "\n",
      "+-------------+---------+-------+\n",
      "|col_name     |data_type|comment|\n",
      "+-------------+---------+-------+\n",
      "|timestamp    |timestamp|NULL   |\n",
      "|value        |double   |NULL   |\n",
      "|country      |string   |NULL   |\n",
      "|event_id     |bigint   |NULL   |\n",
      "|actor_id     |bigint   |NULL   |\n",
      "|year         |int      |NULL   |\n",
      "|month        |bigint   |NULL   |\n",
      "|day          |bigint   |NULL   |\n",
      "|product_id   |int      |NULL   |\n",
      "|location_id  |int      |NULL   |\n",
      "|department_id|int      |NULL   |\n",
      "|campaign_id  |int      |NULL   |\n",
      "|customer_id  |int      |NULL   |\n",
      "+-------------+---------+-------+\n"
     ]
    }
   ],
   "source": [
    "print(\"Databases:\")\n",
    "spark.sql(\"SHOW DATABASES\").show()\n",
    "spark.sql(\"USE raw_data\")\n",
    "print(\"Tables in 'raw_data' database:\")\n",
    "spark.sql(\"SHOW TABLES\").show(truncate=False)\n",
    "spark.sql(\"DESCRIBE DETAIL raw_data_2\").show(truncate=False)\n",
    "spark.sql(\"DESCRIBE TABLE raw_data_2\").show(truncate=False)"
   ]
  },
  {
   "cell_type": "code",
   "execution_count": 5,
   "id": "49433fa6-6c83-43b9-a2ae-b873a86691fb",
   "metadata": {},
   "outputs": [
    {
     "name": "stderr",
     "output_type": "stream",
     "text": [
      "24/07/31 16:31:18 WARN HiveExternalCatalog: Couldn't find corresponding Hive SerDe for data source provider delta. Persisting data source table `spark_catalog`.`raw_data`.`product_dim` into Hive metastore in Spark SQL specific format, which is NOT compatible with Hive.\n",
      "24/07/31 16:31:18 WARN SessionState: METASTORE_FILTER_HOOK will be ignored, since hive.security.authorization.manager is set to instance of HiveAuthorizerFactory.\n",
      "24/07/31 16:31:20 WARN HiveExternalCatalog: Couldn't find corresponding Hive SerDe for data source provider delta. Persisting data source table `spark_catalog`.`raw_data`.`location_dim` into Hive metastore in Spark SQL specific format, which is NOT compatible with Hive.\n",
      "24/07/31 16:31:23 WARN HiveExternalCatalog: Couldn't find corresponding Hive SerDe for data source provider delta. Persisting data source table `spark_catalog`.`raw_data`.`department_dim` into Hive metastore in Spark SQL specific format, which is NOT compatible with Hive.\n",
      "24/07/31 16:31:24 WARN HiveExternalCatalog: Couldn't find corresponding Hive SerDe for data source provider delta. Persisting data source table `spark_catalog`.`raw_data`.`campaign_dim` into Hive metastore in Spark SQL specific format, which is NOT compatible with Hive.\n",
      "24/07/31 16:31:25 WARN HiveExternalCatalog: Couldn't find corresponding Hive SerDe for data source provider delta. Persisting data source table `spark_catalog`.`raw_data`.`customer_dim` into Hive metastore in Spark SQL specific format, which is NOT compatible with Hive.\n"
     ]
    }
   ],
   "source": [
    "# Create dimension tables\n",
    "\n",
    "tables = [\n",
    "    {\n",
    "        \"name\": \"product_dim\",\n",
    "        \"columns\": \"\"\"\n",
    "            product_id INT,\n",
    "            product_name STRING,\n",
    "            product_category STRING,\n",
    "            product_price DOUBLE\n",
    "        \"\"\"\n",
    "    },\n",
    "    {\n",
    "        \"name\": \"location_dim\",\n",
    "        \"columns\": \"\"\"\n",
    "            location_id INT,\n",
    "            location_name STRING,\n",
    "            city STRING,\n",
    "            state STRING,\n",
    "            country STRING\n",
    "        \"\"\"\n",
    "    },\n",
    "    {\n",
    "        \"name\": \"department_dim\",\n",
    "        \"columns\": \"\"\"\n",
    "            department_id INT,\n",
    "            department_name STRING,\n",
    "            department_head STRING\n",
    "        \"\"\"\n",
    "    },\n",
    "    {\n",
    "        \"name\": \"campaign_dim\",\n",
    "        \"columns\": \"\"\"\n",
    "            campaign_id INT,\n",
    "            campaign_name STRING,\n",
    "            start_date DATE,\n",
    "            end_date DATE\n",
    "        \"\"\"\n",
    "    },\n",
    "    {\n",
    "        \"name\": \"customer_dim\",\n",
    "        \"columns\": \"\"\"\n",
    "            customer_id INT,\n",
    "            customer_name STRING,\n",
    "            customer_email STRING,\n",
    "            customer_segment STRING\n",
    "        \"\"\"\n",
    "    }\n",
    "]\n",
    "\n",
    "for table in tables:\n",
    "    spark.sql(f\"\"\"\n",
    "    CREATE TABLE {table['name']} (\n",
    "        {table['columns']}\n",
    "    )\n",
    "    USING delta;\n",
    "    \"\"\")"
   ]
  },
  {
   "cell_type": "code",
   "execution_count": 6,
   "id": "1bc5e6ca-8340-40cd-a428-79e4bb6cc06b",
   "metadata": {},
   "outputs": [
    {
     "name": "stderr",
     "output_type": "stream",
     "text": [
      "                                                                                \r"
     ]
    }
   ],
   "source": [
    "# Fill dimension tables with data\n",
    "\n",
    "data = {\n",
    "    \"product_dim\": [\n",
    "        (1, 'Product A', 'Category 1', 19.99),\n",
    "        (2, 'Product B', 'Category 2', 29.99),\n",
    "        (3, 'Product C', 'Category 1', 39.99),\n",
    "        (4, 'Product D', 'Category 3', 49.99),\n",
    "        (5, 'Product E', 'Category 2', 59.99),\n",
    "        (6, 'Product F', 'Category 4', 69.99),\n",
    "        (7, 'Product G', 'Category 1', 79.99),\n",
    "        (8, 'Product H', 'Category 5', 89.99),\n",
    "        (9, 'Product I', 'Category 3', 99.99),\n",
    "        (10, 'Product J', 'Category 2', 109.99)\n",
    "    ],\n",
    "    \"location_dim\": [\n",
    "        (1, 'Location A', 'New York', 'NY', 'USA'),\n",
    "        (2, 'Location B', 'Los Angeles', 'CA', 'USA'),\n",
    "        (3, 'Location C', 'Chicago', 'IL', 'USA'),\n",
    "        (4, 'Location D', 'Houston', 'TX', 'USA'),\n",
    "        (5, 'Location E', 'Phoenix', 'AZ', 'USA'),\n",
    "        (6, 'Location F', 'Philadelphia', 'PA', 'USA'),\n",
    "        (7, 'Location G', 'San Antonio', 'TX', 'USA'),\n",
    "        (8, 'Location H', 'San Diego', 'CA', 'USA'),\n",
    "        (9, 'Location I', 'Dallas', 'TX', 'USA'),\n",
    "        (10, 'Location J', 'San Jose', 'CA', 'USA')\n",
    "    ],\n",
    "    \"department_dim\": [\n",
    "        (1, 'Sales', 'Alice Smith'),\n",
    "        (2, 'Marketing', 'Bob Jones'),\n",
    "        (3, 'Engineering', 'Charlie Brown'),\n",
    "        (4, 'HR', 'Diana Green'),\n",
    "        (5, 'Finance', 'Eve White'),\n",
    "        (6, 'Product', 'Frank Black'),\n",
    "        (7, 'Customer Support', 'Grace Blue'),\n",
    "        (8, 'IT', 'Hank Red'),\n",
    "        (9, 'Logistics', 'Ivy Yellow'),\n",
    "        (10, 'Legal', 'Jack Orange')\n",
    "    ],\n",
    "    \"campaign_dim\": [\n",
    "        (1, 'Campaign 1', '2024-01-01', '2024-01-31'),\n",
    "        (2, 'Campaign 2', '2024-02-01', '2024-02-28'),\n",
    "        (3, 'Campaign 3', '2024-03-01', '2024-03-31'),\n",
    "        (4, 'Campaign 4', '2024-04-01', '2024-04-30'),\n",
    "        (5, 'Campaign 5', '2024-05-01', '2024-05-31'),\n",
    "        (6, 'Campaign 6', '2024-06-01', '2024-06-30'),\n",
    "        (7, 'Campaign 7', '2024-07-01', '2024-07-31'),\n",
    "        (8, 'Campaign 8', '2024-08-01', '2024-08-31'),\n",
    "        (9, 'Campaign 9', '2024-09-01', '2024-09-30'),\n",
    "        (10, 'Campaign 10', '2024-10-01', '2024-10-31')\n",
    "    ],\n",
    "    \"customer_dim\": [\n",
    "        (1, 'John Doe', 'john.doe@example.com', 'Premium'),\n",
    "        (2, 'Jane Smith', 'jane.smith@example.com', 'Standard'),\n",
    "        (3, 'Michael Brown', 'michael.brown@example.com', 'Standard'),\n",
    "        (4, 'Emily Davis', 'emily.davis@example.com', 'Premium'),\n",
    "        (5, 'Chris Johnson', 'chris.johnson@example.com', 'Basic'),\n",
    "        (6, 'Olivia Martin', 'olivia.martin@example.com', 'Premium'),\n",
    "        (7, 'Liam Lee', 'liam.lee@example.com', 'Standard'),\n",
    "        (8, 'Sophia Wilson', 'sophia.wilson@example.com', 'Basic'),\n",
    "        (9, 'Jackson Moore', 'jackson.moore@example.com', 'Standard'),\n",
    "        (10, 'Ava Taylor', 'ava.taylor@example.com', 'Premium')\n",
    "    ]\n",
    "}\n",
    "\n",
    "for table, values in data.items():\n",
    "    values_str = \", \".join(str(value) for value in values)\n",
    "    spark.sql(f\"\"\"\n",
    "    INSERT INTO {table} VALUES\n",
    "    {values_str}\n",
    "    \"\"\")"
   ]
  },
  {
   "cell_type": "code",
   "execution_count": 19,
   "id": "d61baa16-3d6a-48bd-ad66-878b8af64eb6",
   "metadata": {
    "scrolled": true
   },
   "outputs": [
    {
     "name": "stderr",
     "output_type": "stream",
     "text": [
      "24/07/29 15:04:05 WARN HiveExternalCatalog: Couldn't find corresponding Hive SerDe for data source provider delta. Persisting data source table `spark_catalog`.`raw_data`.`raw_data_8` into Hive metastore in Spark SQL specific format, which is NOT compatible with Hive.\n",
      "24/07/29 15:04:05 WARN SessionState: METASTORE_FILTER_HOOK will be ignored, since hive.security.authorization.manager is set to instance of HiveAuthorizerFactory.\n",
      "24/07/29 15:04:12 WARN HiveExternalCatalog: Couldn't find corresponding Hive SerDe for data source provider delta. Persisting data source table `spark_catalog`.`raw_data`.`raw_data_4` into Hive metastore in Spark SQL specific format, which is NOT compatible with Hive.\n",
      "24/07/29 15:04:12 WARN HiveExternalCatalog: Couldn't find corresponding Hive SerDe for data source provider delta. Persisting data source table `spark_catalog`.`raw_data`.`raw_data_2` into Hive metastore in Spark SQL specific format, which is NOT compatible with Hive.\n"
     ]
    },
    {
     "name": "stdout",
     "output_type": "stream",
     "text": [
      "Inserting data into table: raw_data_8\n"
     ]
    },
    {
     "name": "stderr",
     "output_type": "stream",
     "text": [
      "24/07/29 15:04:13 WARN SparkStringUtils: Truncated the string representation of a plan since it was too large. This behavior can be adjusted by setting 'spark.sql.debug.maxToStringFields'.\n",
      "                                                                                \r"
     ]
    },
    {
     "name": "stdout",
     "output_type": "stream",
     "text": [
      "CPU times: user 525 ms, sys: 469 ms, total: 994 ms\n",
      "Wall time: 39min 47s\n",
      "Inserting data into table: raw_data_4\n"
     ]
    },
    {
     "name": "stderr",
     "output_type": "stream",
     "text": [
      "                                                                                \r"
     ]
    },
    {
     "name": "stdout",
     "output_type": "stream",
     "text": [
      "CPU times: user 338 ms, sys: 208 ms, total: 546 ms\n",
      "Wall time: 20min 44s\n",
      "Inserting data into table: raw_data_2\n"
     ]
    },
    {
     "name": "stderr",
     "output_type": "stream",
     "text": [
      "[Stage 8:=====================================================>   (14 + 1) / 15]\r"
     ]
    },
    {
     "name": "stdout",
     "output_type": "stream",
     "text": [
      "CPU times: user 137 ms, sys: 161 ms, total: 298 ms\n",
      "Wall time: 12min 25s\n"
     ]
    },
    {
     "name": "stderr",
     "output_type": "stream",
     "text": [
      "                                                                                \r"
     ]
    }
   ],
   "source": [
    "# Create raw data and insert it into the existing Delta Lake tables\n",
    "\n",
    "import subprocess\n",
    "import matplotlib.pyplot as plt\n",
    "import random\n",
    "from pyspark.sql.functions import lit, rand, expr, year, month, dayofmonth, concat, lpad, element_at, array\n",
    "from pyspark.sql.types import StringType, StructType, StructField, DateType, TimestampType, DoubleType, LongType, IntegerType\n",
    "from pyspark.sql import SparkSession\n",
    "from datetime import datetime, timedelta\n",
    "import itertools\n",
    "import random\n",
    "from pyspark.sql.functions import lit, rand, udf, col, expr, year, month, dayofmonth, concat, lpad\n",
    "from pyspark.sql.types import StringType\n",
    "\n",
    "\n",
    "# Parameters\n",
    "num_tables = 3  # Number of table pairs to create\n",
    "max_rows = 8  # Maximum number of rows for the largest table 8000000000\n",
    "\n",
    "row_counts = [max_rows // (2 ** i) for i in range(num_pairs)]\n",
    "\n",
    "\n",
    "\"\"\"\n",
    "Create and initialize a specified number of partitioned and non-partitioned Delta Lake tables.\n",
    "Each pair of tables (partitioned and non-partitioned) is dropped if it exists and then recreated \n",
    "with the specified schema.\n",
    "\"\"\"\n",
    "for i in range(num_tables):\n",
    "    raw_data = f\"raw_data_{row_counts[i]}\"\n",
    "    \n",
    "    # Drop tables if they exist\n",
    "    spark.sql(f\"DROP TABLE IF EXISTS {raw_data}\")\n",
    "\n",
    "    spark.sql(f\"\"\"\n",
    "    CREATE TABLE {raw_data} (\n",
    "        timestamp TIMESTAMP,\n",
    "        value DOUBLE,\n",
    "        country STRING,\n",
    "        event_id LONG,\n",
    "        actor_id LONG,\n",
    "        year INT,\n",
    "        month LONG,\n",
    "        day LONG,\n",
    "        product_id INT,          \n",
    "        location_id INT,         \n",
    "        department_id INT,      \n",
    "        campaign_id INT,         \n",
    "        customer_id INT        \n",
    "    )\n",
    "    USING delta;\n",
    "    \"\"\")\n",
    "\n",
    "countries = [\"USA\", \"Canada\", \"Mexico\", \"Brazil\", \"Argentina\", \"UK\", \"France\", \"Germany\", \"Italy\", \"Spain\",\n",
    "             \"China\", \"Japan\", \"South Korea\", \"India\", \"Australia\", \"New Zealand\", \"South Africa\", \"Egypt\", \"Nigeria\", \"Kenya\",\n",
    "             \"Russia\", \"Turkey\", \"Saudi Arabia\", \"Indonesia\", \"Thailand\", \"Malaysia\", \"Philippines\", \"Vietnam\", \"Singapore\", \"Pakistan\",\n",
    "             \"Bangladesh\", \"Sri Lanka\", \"Nepal\", \"Bhutan\", \"Maldives\"]\n",
    "\n",
    "\n",
    "def generate_data(timestamp, nrows):\n",
    "    \"\"\"\n",
    "    Generate a DataFrame with synthetic data based on the given timestamp and number of rows.\n",
    "\n",
    "    This function creates a DataFrame with the specified number of rows (`nrows`), where each row contains:\n",
    "    - A timestamp incremented by 0.1 seconds for each row.\n",
    "    - A random value for the `value` column.\n",
    "    - A random country selected from a predefined list of countries.\n",
    "    - Sequential event and actor IDs.\n",
    "    - Year, month, and day components derived from the timestamp.\n",
    "\n",
    "    Parameters:\n",
    "    timestamp (datetime): The base timestamp used to generate the date and initial timestamp for each row.\n",
    "    nrows (int): The number of rows to generate in the DataFrame.\n",
    "\n",
    "    Returns:\n",
    "    DataFrame: A Spark DataFrame with the generated data, including columns for date, timestamp, value, country,\n",
    "               event_id, actor_id, year, month, and day.\n",
    "\n",
    "    Example:\n",
    "    >>> from datetime import datetime\n",
    "    >>> df = generate_data(datetime(2024, 6, 1), 1000)\n",
    "    >>> df.show(3)\n",
    "    +--------------------+-------------------+--------+--------+--------+----+------+--------+----------+-----------+-------------+-----------+-----------+\n",
    "|           timestamp|              value| country|event_id|actor_id|year| month|     day|product_id|location_id|department_id|campaign_id|customer_id|\n",
    "+---------------------+-------------------+---------+--------+--------+----+------+--------+----------+-----------+-------------+-----------+-----------+\n",
    "|timestamp            |value              |country  |event_id|actor_id|year|month |day     |product_id|location_id|department_id|campaign_id|customer_id|\n",
    "+---------------------+-------------------+---------+--------+--------+----+------+--------+----------+-----------+-------------+-----------+-----------+\n",
    "|2024-06-03 09:42:13.3|0.6414014977824959 |Australia|212261  |4862    |2024|202406|20240603|4         |4          |4            |4          |4          |\n",
    "|2024-06-03 09:42:13.4|0.7582936836987177 |UK       |351215  |1334    |2024|202406|20240603|5         |5          |5            |5          |5          |\n",
    "|2024-06-03 09:42:13.5|0.44169132871707106|Sri Lanka|886013  |6109    |2024|202406|20240603|6         |6          |6            |6          |6          |\n",
    "+---------------------+-------------------+---------+--------+--------+----+------+--------+----------+-----------+-------------+-----------+-----------+    \"\"\"\n",
    "    date = timestamp.date()\n",
    "    return spark.range(nrows*1000000000).select(\n",
    "        (lit(timestamp) + expr(\"INTERVAL 0.1 SECOND\") * col(\"id\")).alias(\"timestamp\"),\n",
    "        rand().alias(\"value\"),\n",
    "        element_at(array([lit(country) for country in countries]), (rand() * len(countries)).cast(\"int\") + 1).alias(\"country\"),\n",
    "        (rand() * 1000000).cast(\"long\").alias(\"event_id\"),\n",
    "        (rand() * 10000).cast(\"long\").alias(\"actor_id\"),\n",
    "        year((lit(timestamp) + expr(\"INTERVAL 0.1 SECOND\") * col(\"id\"))).alias(\"year\"),\n",
    "        concat(\n",
    "            year((lit(timestamp) + expr(\"INTERVAL 0.1 SECOND\") * col(\"id\"))).cast(\"string\"),\n",
    "            lpad(month((lit(timestamp) + expr(\"INTERVAL 0.1 SECOND\") * col(\"id\"))).cast(\"string\"), 2, '0')\n",
    "        ).cast(\"long\").alias(\"month\"),\n",
    "        concat(\n",
    "            year((lit(timestamp) + expr(\"INTERVAL 0.1 SECOND\") * col(\"id\"))).cast(\"string\"),\n",
    "            lpad(month((lit(timestamp) + expr(\"INTERVAL 0.1 SECOND\") * col(\"id\"))).cast(\"string\"), 2, '0'),\n",
    "            lpad(dayofmonth((lit(timestamp) + expr(\"INTERVAL 0.1 SECOND\") * col(\"id\"))).cast(\"string\"), 2, '0')\n",
    "        ).cast(\"long\").alias(\"day\"),\n",
    "        expr(\"id % 10 + 1\").cast(\"int\").alias(\"product_id\"),       \n",
    "        expr(\"id % 10 + 1\").cast(\"int\").alias(\"location_id\"),      \n",
    "        expr(\"id % 10 + 1\").cast(\"int\").alias(\"department_id\"),    \n",
    "        expr(\"id % 10 + 1\").cast(\"int\").alias(\"campaign_id\"),       \n",
    "        expr(\"id % 10 + 1\").cast(\"int\").alias(\"customer_id\")        \n",
    "    )\n",
    "\n",
    "\n",
    "for i, rows in enumerate(row_counts):\n",
    "    timestamp = datetime(2024, 1, 1) + timedelta(hours=i)\n",
    "    \n",
    "    raw_data = f\"raw_data_{row_counts[i]}\"\n",
    "    \n",
    "    print(f\"Inserting data into table: {raw_data}\")\n",
    "    insert_data_part_table_name = generate_data(timestamp, rows)\n",
    "    %time insert_data_part_table_name.write.format(\"delta\").mode(\"append\").saveAsTable(raw_data)"
   ]
  },
  {
   "cell_type": "code",
   "execution_count": 18,
   "id": "03180f07-8532-476b-a963-2487f73308c7",
   "metadata": {},
   "outputs": [],
   "source": [
    "# Display table properties\n",
    "\n",
    "import subprocess\n",
    "import matplotlib.pyplot as plt\n",
    "import os\n",
    "\n",
    "def display_table_properties(spark, database, tables):\n",
    "    # Set Hadoop environment variables\n",
    "    os.environ['HADOOP_HOME'] = '/usr/local/hadoop'\n",
    "    os.environ['PATH'] = os.environ['PATH'] + ':' + os.environ['HADOOP_HOME'] + '/bin'\n",
    "\n",
    "    spark.sql(f\"USE {database}\")\n",
    "\n",
    "    table_details = []\n",
    "\n",
    "    for table_name in tables:\n",
    "        describe_df = spark.sql(f\"DESCRIBE DETAIL {table_name}\")\n",
    "        describe_detail = describe_df.collect()[0].asDict()\n",
    "        hdfs_location = describe_detail['location']\n",
    "        num_files = describe_detail['numFiles']\n",
    "        partition_columns = describe_detail['partitionColumns']\n",
    "\n",
    "        result = subprocess.run([\"hdfs\", \"dfs\", \"-du\", \"-s\", hdfs_location], capture_output=True, text=True)\n",
    "        size = int(result.stdout.split()[0])\n",
    "\n",
    "        count_result = subprocess.run([\"hdfs\", \"dfs\", \"-count\", hdfs_location], capture_output=True, text=True)\n",
    "        subdirectories = int(count_result.stdout.split()[0]) - 1  \n",
    "\n",
    "        row_count_df = spark.sql(f\"SELECT COUNT(*) AS row_count FROM {table_name}\")\n",
    "        row_count = row_count_df.collect()[0]['row_count']\n",
    "\n",
    "        table_details.append((table_name, hdfs_location, size, num_files, partition_columns, subdirectories, row_count))\n",
    "\n",
    "    for table in table_details:\n",
    "        print(f\"Table: {table[0]}, HDFS Directory: {table[1]}, Size: {table[2]} bytes, Number of Files: {table[3]}, Partition Columns: {table[4]}, Subdirectories: {table[5]}, Number of Rows: {table[6]}\")\n",
    "\n",
    "    # Extract data for plotting\n",
    "    table_names = [table[0] for table in table_details]\n",
    "    sizes = [table[2] / (1024 ** 3) for table in table_details] \n",
    "    num_files = [table[3] for table in table_details]\n",
    "    subdirectories = [table[5] for table in table_details]\n",
    "    row_counts = [table[6] for table in table_details]\n",
    "\n",
    "    fig, axs = plt.subplots(4, 1, figsize=(6, 12))\n",
    "\n",
    "    axs[0].bar(table_names, sizes, color='b')\n",
    "    axs[0].set_title('Table Sizes')\n",
    "    axs[0].set_ylabel('Size (GB)')\n",
    "    axs[0].tick_params(axis='x', rotation=45)\n",
    "\n",
    "    axs[1].bar(table_names, num_files, color='g')\n",
    "    axs[1].set_title('Number of Files')\n",
    "    axs[1].set_ylabel('Files')\n",
    "    axs[1].tick_params(axis='x', rotation=45)\n",
    "\n",
    "    axs[2].bar(table_names, subdirectories, color='r')\n",
    "    axs[2].set_title('Number of Subdirectories')\n",
    "    axs[2].set_ylabel('Subdirectories')\n",
    "    axs[2].tick_params(axis='x', rotation=45)\n",
    "\n",
    "    axs[3].bar(table_names, row_counts, color='c')\n",
    "    axs[3].set_title('Number of Rows')\n",
    "    axs[3].set_ylabel('Rows')\n",
    "    axs[3].tick_params(axis='x', rotation=45)\n",
    "\n",
    "    plt.tight_layout()\n",
    "    plt.show()"
   ]
  },
  {
   "cell_type": "code",
   "execution_count": 19,
   "id": "badadcec-92e2-47a3-912b-242177df43ff",
   "metadata": {},
   "outputs": [
    {
     "name": "stdout",
     "output_type": "stream",
     "text": [
      "Table: raw_data_2, HDFS Directory: hdfs://192.168.0.144:9000/datalake/raw_data/raw_data_2, Size: 43359013259 bytes, Number of Files: 15, Partition Columns: [], Subdirectories: 2, Number of Rows: 2000000000\n",
      "Table: raw_data_4, HDFS Directory: hdfs://192.168.0.144:9000/datalake/raw_data/raw_data_4, Size: 86718037909 bytes, Number of Files: 15, Partition Columns: [], Subdirectories: 2, Number of Rows: 4000000000\n",
      "Table: raw_data_8, HDFS Directory: hdfs://192.168.0.144:9000/datalake/raw_data/raw_data_8, Size: 173433056152 bytes, Number of Files: 15, Partition Columns: [], Subdirectories: 2, Number of Rows: 8000000000\n"
     ]
    },
    {
     "data": {
      "image/png": "[encoded data removed]",
      "text/plain": [
       "<Figure size 600x1200 with 4 Axes>"
      ]
     },
     "metadata": {},
     "output_type": "display_data"
    }
   ],
   "source": [
    "display_table_properties(spark, \"raw_data\", ['raw_data_2', 'raw_data_4', 'raw_data_8'])"
   ]
  },
  {
   "cell_type": "code",
   "execution_count": 2,
   "id": "0a0a3fa0-492c-431b-92f2-673bb4af2851",
   "metadata": {},
   "outputs": [],
   "source": [
    "from pyspark.sql import SparkSession\n",
    "from py4j.java_gateway import java_import\n",
    "\n",
    "java_import(spark._jvm, \"org.apache.hadoop.fs.FileSystem\")\n",
    "java_import(spark._jvm, \"org.apache.hadoop.fs.Path\")\n",
    "\n",
    "def list_hdfs_directory(hdfs_path, level=0):\n",
    "    hadoop_conf = spark._jsc.hadoopConfiguration()\n",
    "    fs = spark._jvm.FileSystem.get(hadoop_conf)\n",
    "    path = spark._jvm.Path(hdfs_path)\n",
    "    \n",
    "    if level == 0:\n",
    "        print(f\"Listing contents of: {hdfs_path}\")\n",
    "    \n",
    "    status = fs.listStatus(path)\n",
    "    \n",
    "    for file_status in status:\n",
    "        file_path = file_status.getPath()\n",
    "        is_dir = file_status.isDirectory()\n",
    "        size = file_status.getLen() if not is_dir else 0\n",
    "        indent = ' ' * (level * 2)\n",
    "        if is_dir:\n",
    "            print(f\"{indent}- {file_path.getName()}/\")\n",
    "            list_hdfs_directory(file_path.toString(), level + 1)\n",
    "        else:\n",
    "            size_mb = size / (1024 * 1024)\n",
    "            print(f\"{indent}- {file_path.getName()} ({size_mb:.2f} MB)\")"
   ]
  },
  {
   "cell_type": "code",
   "execution_count": 31,
   "id": "de31a4a8-86db-4d23-99e3-2f5db3949034",
   "metadata": {},
   "outputs": [],
   "source": [
    "import time\n",
    "import matplotlib.pyplot as plt\n",
    "import pandas as pd\n",
    "from pyspark.sql.types import StructType, StructField, StringType\n",
    "\n",
    "\n",
    "num_executions = 2\n",
    "\n",
    "\n",
    "def measure_execution_time(query):\n",
    "    spark.catalog.clearCache()\n",
    "    start_time = time.time()\n",
    "    spark.sql(query).show() \n",
    "    end_time = time.time()\n",
    "    return end_time - start_time\n",
    "\n",
    "def get_average_execution_times(query_template, num_executions, tables):\n",
    "    execution_times = {table: [] for table in tables}\n",
    "    for table in tables:\n",
    "        for _ in range(num_executions):\n",
    "            query = query_template.format(table=table)\n",
    "            try:\n",
    "                execution_time = measure_execution_time(query)\n",
    "                print(f\"{table}: {execution_time} seconds\")\n",
    "                execution_times[table].append(execution_time)\n",
    "            except Exception as e:\n",
    "                print(f\"Error for table {table}: {e}\")\n",
    "    average_times = {table: sum(times) / num_executions for table, times in execution_times.items()}\n",
    "    return average_times"
   ]
  },
  {
   "cell_type": "code",
   "execution_count": 32,
   "id": "ed9f78be-235d-4d0a-8759-3983b16d5b39",
   "metadata": {},
   "outputs": [],
   "source": [
    "query1 = \"\"\"\n",
    "SELECT\n",
    "    raw_data.product_dim.product_name,\n",
    "    raw_data.location_dim.city,\n",
    "    raw_data.location_dim.state,\n",
    "    raw_data.location_dim.country,\n",
    "    COUNT({table}.event_id) AS event_count\n",
    "FROM\n",
    "    {table}\n",
    "JOIN\n",
    "    raw_data.product_dim ON {table}.product_id = raw_data.product_dim.product_id\n",
    "JOIN\n",
    "    raw_data.location_dim ON {table}.location_id = raw_data.location_dim.location_id\n",
    "WHERE\n",
    "    {table}.event_id BETWEEN 459999 AND 999999  \n",
    "    AND {table}.actor_id IN (5001, 5002, 5003)  \n",
    "GROUP BY\n",
    "    raw_data.product_dim.product_name,\n",
    "    raw_data.location_dim.city,\n",
    "    raw_data.location_dim.state,\n",
    "    raw_data.location_dim.country;\n",
    "\"\"\"\n",
    "\n",
    "query2 = \"\"\"\n",
    "SELECT\n",
    "    raw_data.product_dim.product_name,\n",
    "    raw_data.location_dim.city,\n",
    "    raw_data.location_dim.state,\n",
    "    raw_data.location_dim.country,\n",
    "    avg({table}.value) AS total_value\n",
    "FROM\n",
    "    {table}\n",
    "JOIN\n",
    "    raw_data.product_dim ON {table}.product_id = raw_data.product_dim.product_id\n",
    "JOIN\n",
    "    raw_data.location_dim ON {table}.location_id = raw_data.location_dim.location_id\n",
    "WHERE\n",
    "    {table}.event_id BETWEEN 459999 AND 999999  \n",
    "    AND {table}.actor_id IN (5001, 5002, 5003)  \n",
    "GROUP BY\n",
    "    raw_data.product_dim.product_name,\n",
    "    raw_data.location_dim.city,\n",
    "    raw_data.location_dim.state,\n",
    "    raw_data.location_dim.country\n",
    "ORDER BY\n",
    "    total_value DESC;\n",
    "\"\"\""
   ]
  },
  {
   "cell_type": "code",
   "execution_count": 42,
   "id": "674498db-96ad-41fd-8d60-13c7f801a020",
   "metadata": {},
   "outputs": [
    {
     "name": "stderr",
     "output_type": "stream",
     "text": [
      "                                                                                \r"
     ]
    },
    {
     "name": "stdout",
     "output_type": "stream",
     "text": [
      "+------------+------------+-----+-------+-----------+\n",
      "|product_name|        city|state|country|event_count|\n",
      "+------------+------------+-----+-------+-----------+\n",
      "|   Product G| San Antonio|   TX|    USA|     129012|\n",
      "|   Product D|     Houston|   TX|    USA|     129594|\n",
      "|   Product H|   San Diego|   CA|    USA|     129806|\n",
      "|   Product B| Los Angeles|   CA|    USA|     129185|\n",
      "|   Product F|Philadelphia|   PA|    USA|     129374|\n",
      "|   Product C|     Chicago|   IL|    USA|     129489|\n",
      "|   Product J|    San Jose|   CA|    USA|     129137|\n",
      "|   Product E|     Phoenix|   AZ|    USA|     129858|\n",
      "|   Product I|      Dallas|   TX|    USA|     129584|\n",
      "|   Product A|    New York|   NY|    USA|     129076|\n",
      "+------------+------------+-----+-------+-----------+\n",
      "\n",
      "raw_data.raw_data_8: 315.76779437065125 seconds\n"
     ]
    },
    {
     "name": "stderr",
     "output_type": "stream",
     "text": [
      "                                                                                \r"
     ]
    },
    {
     "name": "stdout",
     "output_type": "stream",
     "text": [
      "+------------+------------+-----+-------+-----------+\n",
      "|product_name|        city|state|country|event_count|\n",
      "+------------+------------+-----+-------+-----------+\n",
      "|   Product G| San Antonio|   TX|    USA|     129012|\n",
      "|   Product D|     Houston|   TX|    USA|     129594|\n",
      "|   Product H|   San Diego|   CA|    USA|     129806|\n",
      "|   Product B| Los Angeles|   CA|    USA|     129185|\n",
      "|   Product F|Philadelphia|   PA|    USA|     129374|\n",
      "|   Product C|     Chicago|   IL|    USA|     129489|\n",
      "|   Product J|    San Jose|   CA|    USA|     129137|\n",
      "|   Product E|     Phoenix|   AZ|    USA|     129858|\n",
      "|   Product I|      Dallas|   TX|    USA|     129584|\n",
      "|   Product A|    New York|   NY|    USA|     129076|\n",
      "+------------+------------+-----+-------+-----------+\n",
      "\n",
      "raw_data.raw_data_8: 317.3780951499939 seconds\n"
     ]
    },
    {
     "name": "stderr",
     "output_type": "stream",
     "text": [
      "                                                                                \r"
     ]
    },
    {
     "name": "stdout",
     "output_type": "stream",
     "text": [
      "+------------+------------+-----+-------+-----------+\n",
      "|product_name|        city|state|country|event_count|\n",
      "+------------+------------+-----+-------+-----------+\n",
      "|   Product G| San Antonio|   TX|    USA|      64622|\n",
      "|   Product D|     Houston|   TX|    USA|      64944|\n",
      "|   Product H|   San Diego|   CA|    USA|      64856|\n",
      "|   Product B| Los Angeles|   CA|    USA|      64775|\n",
      "|   Product F|Philadelphia|   PA|    USA|      64727|\n",
      "|   Product C|     Chicago|   IL|    USA|      64872|\n",
      "|   Product J|    San Jose|   CA|    USA|      64522|\n",
      "|   Product E|     Phoenix|   AZ|    USA|      64419|\n",
      "|   Product I|      Dallas|   TX|    USA|      64561|\n",
      "|   Product A|    New York|   NY|    USA|      65019|\n",
      "+------------+------------+-----+-------+-----------+\n",
      "\n",
      "raw_data.raw_data_4: 158.78275227546692 seconds\n"
     ]
    },
    {
     "name": "stderr",
     "output_type": "stream",
     "text": [
      "                                                                                \r"
     ]
    },
    {
     "name": "stdout",
     "output_type": "stream",
     "text": [
      "+------------+------------+-----+-------+-----------+\n",
      "|product_name|        city|state|country|event_count|\n",
      "+------------+------------+-----+-------+-----------+\n",
      "|   Product G| San Antonio|   TX|    USA|      64622|\n",
      "|   Product D|     Houston|   TX|    USA|      64944|\n",
      "|   Product H|   San Diego|   CA|    USA|      64856|\n",
      "|   Product B| Los Angeles|   CA|    USA|      64775|\n",
      "|   Product F|Philadelphia|   PA|    USA|      64727|\n",
      "|   Product C|     Chicago|   IL|    USA|      64872|\n",
      "|   Product J|    San Jose|   CA|    USA|      64522|\n",
      "|   Product E|     Phoenix|   AZ|    USA|      64419|\n",
      "|   Product I|      Dallas|   TX|    USA|      64561|\n",
      "|   Product A|    New York|   NY|    USA|      65019|\n",
      "+------------+------------+-----+-------+-----------+\n",
      "\n",
      "raw_data.raw_data_4: 155.5425579547882 seconds\n"
     ]
    },
    {
     "name": "stderr",
     "output_type": "stream",
     "text": [
      "                                                                                \r"
     ]
    },
    {
     "name": "stdout",
     "output_type": "stream",
     "text": [
      "+------------+------------+-----+-------+-----------+\n",
      "|product_name|        city|state|country|event_count|\n",
      "+------------+------------+-----+-------+-----------+\n",
      "|   Product G| San Antonio|   TX|    USA|      32631|\n",
      "|   Product D|     Houston|   TX|    USA|      32344|\n",
      "|   Product H|   San Diego|   CA|    USA|      32430|\n",
      "|   Product B| Los Angeles|   CA|    USA|      32449|\n",
      "|   Product F|Philadelphia|   PA|    USA|      32521|\n",
      "|   Product C|     Chicago|   IL|    USA|      32367|\n",
      "|   Product J|    San Jose|   CA|    USA|      32434|\n",
      "|   Product E|     Phoenix|   AZ|    USA|      31985|\n",
      "|   Product I|      Dallas|   TX|    USA|      32415|\n",
      "|   Product A|    New York|   NY|    USA|      32485|\n",
      "+------------+------------+-----+-------+-----------+\n",
      "\n",
      "raw_data.raw_data_2: 82.47847986221313 seconds\n"
     ]
    },
    {
     "name": "stderr",
     "output_type": "stream",
     "text": [
      "                                                                                \r"
     ]
    },
    {
     "name": "stdout",
     "output_type": "stream",
     "text": [
      "+------------+------------+-----+-------+-----------+\n",
      "|product_name|        city|state|country|event_count|\n",
      "+------------+------------+-----+-------+-----------+\n",
      "|   Product G| San Antonio|   TX|    USA|      32631|\n",
      "|   Product D|     Houston|   TX|    USA|      32344|\n",
      "|   Product H|   San Diego|   CA|    USA|      32430|\n",
      "|   Product B| Los Angeles|   CA|    USA|      32449|\n",
      "|   Product F|Philadelphia|   PA|    USA|      32521|\n",
      "|   Product C|     Chicago|   IL|    USA|      32367|\n",
      "|   Product J|    San Jose|   CA|    USA|      32434|\n",
      "|   Product E|     Phoenix|   AZ|    USA|      31985|\n",
      "|   Product I|      Dallas|   TX|    USA|      32415|\n",
      "|   Product A|    New York|   NY|    USA|      32485|\n",
      "+------------+------------+-----+-------+-----------+\n",
      "\n",
      "raw_data.raw_data_2: 20.929062128067017 seconds\n"
     ]
    },
    {
     "name": "stderr",
     "output_type": "stream",
     "text": [
      "                                                                                \r"
     ]
    },
    {
     "name": "stdout",
     "output_type": "stream",
     "text": [
      "+------------+------------+-----+-------+-------------------+\n",
      "|product_name|        city|state|country|        total_value|\n",
      "+------------+------------+-----+-------+-------------------+\n",
      "|   Product E|     Phoenix|   AZ|    USA|    0.5010757481535|\n",
      "|   Product H|   San Diego|   CA|    USA|  0.500947222412117|\n",
      "|   Product F|Philadelphia|   PA|    USA| 0.5001008811954079|\n",
      "|   Product B| Los Angeles|   CA|    USA| 0.4999832558688133|\n",
      "|   Product I|      Dallas|   TX|    USA|0.49985058897066803|\n",
      "|   Product J|    San Jose|   CA|    USA| 0.4997748955942486|\n",
      "|   Product C|     Chicago|   IL|    USA|0.49974124095402966|\n",
      "|   Product D|     Houston|   TX|    USA| 0.4996519597379443|\n",
      "|   Product G| San Antonio|   TX|    USA|  0.499410154100651|\n",
      "|   Product A|    New York|   NY|    USA|  0.499406847874357|\n",
      "+------------+------------+-----+-------+-------------------+\n",
      "\n",
      "raw_data.raw_data_8: 683.1311182975769 seconds\n"
     ]
    },
    {
     "name": "stderr",
     "output_type": "stream",
     "text": [
      "                                                                                \r"
     ]
    },
    {
     "name": "stdout",
     "output_type": "stream",
     "text": [
      "+------------+------------+-----+-------+-------------------+\n",
      "|product_name|        city|state|country|        total_value|\n",
      "+------------+------------+-----+-------+-------------------+\n",
      "|   Product E|     Phoenix|   AZ|    USA| 0.5010757481535009|\n",
      "|   Product H|   San Diego|   CA|    USA| 0.5009472224121169|\n",
      "|   Product F|Philadelphia|   PA|    USA| 0.5001008811954079|\n",
      "|   Product B| Los Angeles|   CA|    USA| 0.4999832558688136|\n",
      "|   Product I|      Dallas|   TX|    USA| 0.4998505889706677|\n",
      "|   Product J|    San Jose|   CA|    USA| 0.4997748955942478|\n",
      "|   Product C|     Chicago|   IL|    USA| 0.4997412409540292|\n",
      "|   Product D|     Houston|   TX|    USA| 0.4996519597379444|\n",
      "|   Product G| San Antonio|   TX|    USA|0.49941015410065126|\n",
      "|   Product A|    New York|   NY|    USA| 0.4994068478743569|\n",
      "+------------+------------+-----+-------+-------------------+\n",
      "\n",
      "raw_data.raw_data_8: 699.6166398525238 seconds\n"
     ]
    },
    {
     "name": "stderr",
     "output_type": "stream",
     "text": [
      "                                                                                \r"
     ]
    },
    {
     "name": "stdout",
     "output_type": "stream",
     "text": [
      "+------------+------------+-----+-------+-------------------+\n",
      "|product_name|        city|state|country|        total_value|\n",
      "+------------+------------+-----+-------+-------------------+\n",
      "|   Product F|Philadelphia|   PA|    USA| 0.5022000765926842|\n",
      "|   Product A|    New York|   NY|    USA| 0.5008204747541596|\n",
      "|   Product B| Los Angeles|   CA|    USA| 0.5008013129552867|\n",
      "|   Product J|    San Jose|   CA|    USA| 0.5000059130434588|\n",
      "|   Product D|     Houston|   TX|    USA| 0.4997475603913507|\n",
      "|   Product C|     Chicago|   IL|    USA|0.49967255107844655|\n",
      "|   Product E|     Phoenix|   AZ|    USA|0.49953924485342305|\n",
      "|   Product G| San Antonio|   TX|    USA| 0.4992121103595735|\n",
      "|   Product H|   San Diego|   CA|    USA|0.49893596041525573|\n",
      "|   Product I|      Dallas|   TX|    USA| 0.4973974535278992|\n",
      "+------------+------------+-----+-------+-------------------+\n",
      "\n",
      "raw_data.raw_data_4: 352.54128861427307 seconds\n"
     ]
    },
    {
     "name": "stderr",
     "output_type": "stream",
     "text": [
      "                                                                                \r"
     ]
    },
    {
     "name": "stdout",
     "output_type": "stream",
     "text": [
      "+------------+------------+-----+-------+-------------------+\n",
      "|product_name|        city|state|country|        total_value|\n",
      "+------------+------------+-----+-------+-------------------+\n",
      "|   Product F|Philadelphia|   PA|    USA| 0.5022000765926846|\n",
      "|   Product A|    New York|   NY|    USA| 0.5008204747541601|\n",
      "|   Product B| Los Angeles|   CA|    USA| 0.5008013129552871|\n",
      "|   Product J|    San Jose|   CA|    USA| 0.5000059130434583|\n",
      "|   Product D|     Houston|   TX|    USA|0.49974756039135076|\n",
      "|   Product C|     Chicago|   IL|    USA|0.49967255107844677|\n",
      "|   Product E|     Phoenix|   AZ|    USA| 0.4995392448534231|\n",
      "|   Product G| San Antonio|   TX|    USA| 0.4992121103595735|\n",
      "|   Product H|   San Diego|   CA|    USA| 0.4989359604152557|\n",
      "|   Product I|      Dallas|   TX|    USA| 0.4973974535278992|\n",
      "+------------+------------+-----+-------+-------------------+\n",
      "\n",
      "raw_data.raw_data_4: 356.64430022239685 seconds\n"
     ]
    },
    {
     "name": "stderr",
     "output_type": "stream",
     "text": [
      "                                                                                \r"
     ]
    },
    {
     "name": "stdout",
     "output_type": "stream",
     "text": [
      "+------------+------------+-----+-------+-------------------+\n",
      "|product_name|        city|state|country|        total_value|\n",
      "+------------+------------+-----+-------+-------------------+\n",
      "|   Product A|    New York|   NY|    USA| 0.5015558495734485|\n",
      "|   Product B| Los Angeles|   CA|    USA| 0.5011096474770599|\n",
      "|   Product C|     Chicago|   IL|    USA| 0.5008908753221757|\n",
      "|   Product H|   San Diego|   CA|    USA| 0.5007208712183089|\n",
      "|   Product G| San Antonio|   TX|    USA|  0.500310912461969|\n",
      "|   Product I|      Dallas|   TX|    USA| 0.5002221445729886|\n",
      "|   Product E|     Phoenix|   AZ|    USA| 0.5000374692367248|\n",
      "|   Product F|Philadelphia|   PA|    USA|0.49995533903887696|\n",
      "|   Product J|    San Jose|   CA|    USA|0.49965061718335746|\n",
      "|   Product D|     Houston|   TX|    USA|0.49826045859983265|\n",
      "+------------+------------+-----+-------+-------------------+\n",
      "\n",
      "raw_data.raw_data_2: 178.0951635837555 seconds\n"
     ]
    },
    {
     "name": "stderr",
     "output_type": "stream",
     "text": [
      "[Stage 284:====================================================>(329 + 1) / 330]\r"
     ]
    },
    {
     "name": "stdout",
     "output_type": "stream",
     "text": [
      "+------------+------------+-----+-------+-------------------+\n",
      "|product_name|        city|state|country|        total_value|\n",
      "+------------+------------+-----+-------+-------------------+\n",
      "|   Product A|    New York|   NY|    USA| 0.5015558495734487|\n",
      "|   Product B| Los Angeles|   CA|    USA|   0.50110964747706|\n",
      "|   Product C|     Chicago|   IL|    USA| 0.5008908753221754|\n",
      "|   Product H|   San Diego|   CA|    USA|  0.500720871218309|\n",
      "|   Product G| San Antonio|   TX|    USA| 0.5003109124619692|\n",
      "|   Product I|      Dallas|   TX|    USA| 0.5002221445729886|\n",
      "|   Product E|     Phoenix|   AZ|    USA| 0.5000374692367247|\n",
      "|   Product F|Philadelphia|   PA|    USA| 0.4999553390388766|\n",
      "|   Product J|    San Jose|   CA|    USA|  0.499650617183357|\n",
      "|   Product D|     Houston|   TX|    USA|0.49826045859983303|\n",
      "+------------+------------+-----+-------+-------------------+\n",
      "\n",
      "raw_data.raw_data_2: 181.08292293548584 seconds\n"
     ]
    },
    {
     "name": "stderr",
     "output_type": "stream",
     "text": [
      "                                                                                \r"
     ]
    }
   ],
   "source": [
    "tables = [\n",
    "    'raw_data.raw_data_8',\n",
    "    'raw_data.raw_data_4',\n",
    "    'raw_data.raw_data_2'\n",
    "]\n",
    "\n",
    "average_times_query1 = get_average_execution_times(query1, num_executions, tables)\n",
    "average_times_query2 = get_average_execution_times(query2, num_executions, tables)"
   ]
  },
  {
   "cell_type": "code",
   "execution_count": 43,
   "id": "ae3c5254-d7cc-4dba-bc62-a60bb107ab05",
   "metadata": {},
   "outputs": [
    {
     "name": "stdout",
     "output_type": "stream",
     "text": [
      "{'raw_data.raw_data_8': 316.57294476032257, 'raw_data.raw_data_4': 157.16265511512756, 'raw_data.raw_data_2': 51.703770995140076}\n",
      "{'raw_data.raw_data_8': 691.3738790750504, 'raw_data.raw_data_4': 354.59279441833496, 'raw_data.raw_data_2': 179.58904325962067}\n"
     ]
    }
   ],
   "source": [
    "print(average_times_query1)\n",
    "print(average_times_query2)"
   ]
  },
  {
   "cell_type": "code",
   "execution_count": 55,
   "id": "35f136b2-c806-40ef-aab0-5a312cde346a",
   "metadata": {},
   "outputs": [],
   "source": [
    "import pandas as pd\n",
    "import matplotlib.pyplot as plt\n",
    "\n",
    "def plot_comparison(avg_time1, avg_time2):\n",
    "    plt.rcParams.update({'font.size': 14})  \n",
    "    plt.rcParams.update({'axes.titlesize': 14}) \n",
    "    plt.rcParams.update({'axes.labelsize': 14})  \n",
    "    plt.rcParams.update({'xtick.labelsize': 14})  \n",
    "    plt.rcParams.update({'ytick.labelsize': 14}) \n",
    "    plt.rcParams.update({'legend.fontsize': 14})  \n",
    "    plt.rcParams.update({'font.family': 'serif'})\n",
    "    plt.rcParams.update({'font.serif': 'DejaVu Serif'})\n",
    "\n",
    "    df_before = pd.DataFrame(list(avg_time1.items()), columns=[\"Table\", \"Average Execution Query 1\"])\n",
    "    df_after = pd.DataFrame(list(avg_time2.items()), columns=[\"Table\", \"Average Execution Query 2\"])\n",
    "    df = df_before.merge(df_after, on=\"Table\")\n",
    "\n",
    "    ax = df.plot(kind=\"bar\", x=\"Table\", figsize=(12, 6))\n",
    "    plt.ylabel('Average Execution Time (seconds)')\n",
    "    plt.xlabel('')\n",
    "    plt.title(f'Average Query Execution Time for Each Table')\n",
    "    plt.xticks(rotation=0)\n",
    "    \n",
    "    plt.ylim(0, 1200)\n",
    "    legend = ax.legend(loc='upper left', bbox_to_anchor=(0, 1), prop={'size': 12})  \n",
    "\n",
    "    for p in ax.patches:\n",
    "        height = p.get_height()\n",
    "        ax.annotate(f'{height:.2f}', \n",
    "                    (p.get_x() + p.get_width() / 2., height * 1.01), \n",
    "                    ha='center', va='bottom')\n",
    "\n",
    "    plt.tight_layout()\n",
    "    plt.savefig(f'raw_table_performance_12.png', dpi=500)\n",
    "    plt.show()"
   ]
  },
  {
   "cell_type": "code",
   "execution_count": 49,
   "id": "aea1afd7-2c97-4179-8035-85de963a594c",
   "metadata": {},
   "outputs": [
    {
     "data": {
      "image/png": "[encoded data removed]",
      "text/plain": [
       "<Figure size 1200x600 with 1 Axes>"
      ]
     },
     "metadata": {},
     "output_type": "display_data"
    }
   ],
   "source": [
    "plot_comparison(average_times_query1, average_times_query2)"
   ]
  },
  {
   "cell_type": "code",
   "execution_count": 50,
   "id": "a2a843b6-0301-4c78-bfb1-9f9b38866fe2",
   "metadata": {},
   "outputs": [
    {
     "name": "stderr",
     "output_type": "stream",
     "text": [
      "                                                                                \r"
     ]
    },
    {
     "name": "stdout",
     "output_type": "stream",
     "text": [
      "+------------+------------+-----+-------+-----------+\n",
      "|product_name|        city|state|country|event_count|\n",
      "+------------+------------+-----+-------+-----------+\n",
      "|   Product G| San Antonio|   TX|    USA|      32631|\n",
      "|   Product D|     Houston|   TX|    USA|      32344|\n",
      "|   Product H|   San Diego|   CA|    USA|      32430|\n",
      "|   Product B| Los Angeles|   CA|    USA|      32449|\n",
      "|   Product F|Philadelphia|   PA|    USA|      32521|\n",
      "|   Product C|     Chicago|   IL|    USA|      32367|\n",
      "|   Product J|    San Jose|   CA|    USA|      32434|\n",
      "|   Product E|     Phoenix|   AZ|    USA|      31985|\n",
      "|   Product I|      Dallas|   TX|    USA|      32415|\n",
      "|   Product A|    New York|   NY|    USA|      32485|\n",
      "+------------+------------+-----+-------+-----------+\n",
      "\n",
      "compaction.compaction_table_2: 85.3748390674591 seconds\n"
     ]
    },
    {
     "name": "stderr",
     "output_type": "stream",
     "text": [
      "                                                                                \r"
     ]
    },
    {
     "name": "stdout",
     "output_type": "stream",
     "text": [
      "+------------+------------+-----+-------+-----------+\n",
      "|product_name|        city|state|country|event_count|\n",
      "+------------+------------+-----+-------+-----------+\n",
      "|   Product G| San Antonio|   TX|    USA|      32631|\n",
      "|   Product D|     Houston|   TX|    USA|      32344|\n",
      "|   Product H|   San Diego|   CA|    USA|      32430|\n",
      "|   Product B| Los Angeles|   CA|    USA|      32449|\n",
      "|   Product F|Philadelphia|   PA|    USA|      32521|\n",
      "|   Product C|     Chicago|   IL|    USA|      32367|\n",
      "|   Product J|    San Jose|   CA|    USA|      32434|\n",
      "|   Product E|     Phoenix|   AZ|    USA|      31985|\n",
      "|   Product I|      Dallas|   TX|    USA|      32415|\n",
      "|   Product A|    New York|   NY|    USA|      32485|\n",
      "+------------+------------+-----+-------+-----------+\n",
      "\n",
      "compaction.compaction_table_2: 86.09685063362122 seconds\n"
     ]
    },
    {
     "name": "stderr",
     "output_type": "stream",
     "text": [
      "                                                                                \r"
     ]
    },
    {
     "name": "stdout",
     "output_type": "stream",
     "text": [
      "+------------+------------+-----+-------+-----------+\n",
      "|product_name|        city|state|country|event_count|\n",
      "+------------+------------+-----+-------+-----------+\n",
      "|   Product G| San Antonio|   TX|    USA|      64622|\n",
      "|   Product D|     Houston|   TX|    USA|      64944|\n",
      "|   Product H|   San Diego|   CA|    USA|      64856|\n",
      "|   Product B| Los Angeles|   CA|    USA|      64775|\n",
      "|   Product F|Philadelphia|   PA|    USA|      64727|\n",
      "|   Product C|     Chicago|   IL|    USA|      64872|\n",
      "|   Product J|    San Jose|   CA|    USA|      64522|\n",
      "|   Product E|     Phoenix|   AZ|    USA|      64419|\n",
      "|   Product I|      Dallas|   TX|    USA|      64561|\n",
      "|   Product A|    New York|   NY|    USA|      65019|\n",
      "+------------+------------+-----+-------+-----------+\n",
      "\n",
      "compaction.compaction_table_4: 167.2150251865387 seconds\n"
     ]
    },
    {
     "name": "stderr",
     "output_type": "stream",
     "text": [
      "                                                                                \r"
     ]
    },
    {
     "name": "stdout",
     "output_type": "stream",
     "text": [
      "+------------+------------+-----+-------+-----------+\n",
      "|product_name|        city|state|country|event_count|\n",
      "+------------+------------+-----+-------+-----------+\n",
      "|   Product G| San Antonio|   TX|    USA|      64622|\n",
      "|   Product D|     Houston|   TX|    USA|      64944|\n",
      "|   Product H|   San Diego|   CA|    USA|      64856|\n",
      "|   Product B| Los Angeles|   CA|    USA|      64775|\n",
      "|   Product F|Philadelphia|   PA|    USA|      64727|\n",
      "|   Product C|     Chicago|   IL|    USA|      64872|\n",
      "|   Product J|    San Jose|   CA|    USA|      64522|\n",
      "|   Product E|     Phoenix|   AZ|    USA|      64419|\n",
      "|   Product I|      Dallas|   TX|    USA|      64561|\n",
      "|   Product A|    New York|   NY|    USA|      65019|\n",
      "+------------+------------+-----+-------+-----------+\n",
      "\n",
      "compaction.compaction_table_4: 166.0828561782837 seconds\n"
     ]
    },
    {
     "name": "stderr",
     "output_type": "stream",
     "text": [
      "                                                                                \r"
     ]
    },
    {
     "name": "stdout",
     "output_type": "stream",
     "text": [
      "+------------+------------+-----+-------+-----------+\n",
      "|product_name|        city|state|country|event_count|\n",
      "+------------+------------+-----+-------+-----------+\n",
      "|   Product G| San Antonio|   TX|    USA|     129012|\n",
      "|   Product D|     Houston|   TX|    USA|     129594|\n",
      "|   Product H|   San Diego|   CA|    USA|     129806|\n",
      "|   Product B| Los Angeles|   CA|    USA|     129185|\n",
      "|   Product F|Philadelphia|   PA|    USA|     129374|\n",
      "|   Product C|     Chicago|   IL|    USA|     129489|\n",
      "|   Product J|    San Jose|   CA|    USA|     129137|\n",
      "|   Product E|     Phoenix|   AZ|    USA|     129858|\n",
      "|   Product I|      Dallas|   TX|    USA|     129584|\n",
      "|   Product A|    New York|   NY|    USA|     129076|\n",
      "+------------+------------+-----+-------+-----------+\n",
      "\n",
      "compaction.compaction_table_8: 339.2235949039459 seconds\n"
     ]
    },
    {
     "name": "stderr",
     "output_type": "stream",
     "text": [
      "                                                                                \r"
     ]
    },
    {
     "name": "stdout",
     "output_type": "stream",
     "text": [
      "+------------+------------+-----+-------+-----------+\n",
      "|product_name|        city|state|country|event_count|\n",
      "+------------+------------+-----+-------+-----------+\n",
      "|   Product G| San Antonio|   TX|    USA|     129012|\n",
      "|   Product D|     Houston|   TX|    USA|     129594|\n",
      "|   Product H|   San Diego|   CA|    USA|     129806|\n",
      "|   Product B| Los Angeles|   CA|    USA|     129185|\n",
      "|   Product F|Philadelphia|   PA|    USA|     129374|\n",
      "|   Product C|     Chicago|   IL|    USA|     129489|\n",
      "|   Product J|    San Jose|   CA|    USA|     129137|\n",
      "|   Product E|     Phoenix|   AZ|    USA|     129858|\n",
      "|   Product I|      Dallas|   TX|    USA|     129584|\n",
      "|   Product A|    New York|   NY|    USA|     129076|\n",
      "+------------+------------+-----+-------+-----------+\n",
      "\n",
      "compaction.compaction_table_8: 335.0047254562378 seconds\n"
     ]
    },
    {
     "name": "stderr",
     "output_type": "stream",
     "text": [
      "                                                                                \r"
     ]
    },
    {
     "name": "stdout",
     "output_type": "stream",
     "text": [
      "+------------+------------+-----+-------+-------------------+\n",
      "|product_name|        city|state|country|        total_value|\n",
      "+------------+------------+-----+-------+-------------------+\n",
      "|   Product A|    New York|   NY|    USA| 0.5015558495734488|\n",
      "|   Product B| Los Angeles|   CA|    USA| 0.5011096474770599|\n",
      "|   Product C|     Chicago|   IL|    USA| 0.5008908753221757|\n",
      "|   Product H|   San Diego|   CA|    USA| 0.5007208712183088|\n",
      "|   Product G| San Antonio|   TX|    USA| 0.5003109124619691|\n",
      "|   Product I|      Dallas|   TX|    USA| 0.5002221445729884|\n",
      "|   Product E|     Phoenix|   AZ|    USA| 0.5000374692367248|\n",
      "|   Product F|Philadelphia|   PA|    USA| 0.4999553390388763|\n",
      "|   Product J|    San Jose|   CA|    USA|0.49965061718335746|\n",
      "|   Product D|     Houston|   TX|    USA|0.49826045859983326|\n",
      "+------------+------------+-----+-------+-------------------+\n",
      "\n",
      "compaction.compaction_table_2: 154.64741921424866 seconds\n"
     ]
    },
    {
     "name": "stderr",
     "output_type": "stream",
     "text": [
      "                                                                                \r"
     ]
    },
    {
     "name": "stdout",
     "output_type": "stream",
     "text": [
      "+------------+------------+-----+-------+------------------+\n",
      "|product_name|        city|state|country|       total_value|\n",
      "+------------+------------+-----+-------+------------------+\n",
      "|   Product A|    New York|   NY|    USA|0.5015558495734485|\n",
      "|   Product B| Los Angeles|   CA|    USA|0.5011096474770599|\n",
      "|   Product C|     Chicago|   IL|    USA| 0.500890875322176|\n",
      "|   Product H|   San Diego|   CA|    USA|0.5007208712183085|\n",
      "|   Product G| San Antonio|   TX|    USA|0.5003109124619692|\n",
      "|   Product I|      Dallas|   TX|    USA|0.5002221445729887|\n",
      "|   Product E|     Phoenix|   AZ|    USA|0.5000374692367248|\n",
      "|   Product F|Philadelphia|   PA|    USA| 0.499955339038877|\n",
      "|   Product J|    San Jose|   CA|    USA|0.4996506171833577|\n",
      "|   Product D|     Houston|   TX|    USA|0.4982604585998333|\n",
      "+------------+------------+-----+-------+------------------+\n",
      "\n",
      "compaction.compaction_table_2: 160.34433436393738 seconds\n"
     ]
    },
    {
     "name": "stderr",
     "output_type": "stream",
     "text": [
      "                                                                                \r"
     ]
    },
    {
     "name": "stdout",
     "output_type": "stream",
     "text": [
      "+------------+------------+-----+-------+-------------------+\n",
      "|product_name|        city|state|country|        total_value|\n",
      "+------------+------------+-----+-------+-------------------+\n",
      "|   Product F|Philadelphia|   PA|    USA| 0.5022000765926847|\n",
      "|   Product A|    New York|   NY|    USA| 0.5008204747541594|\n",
      "|   Product B| Los Angeles|   CA|    USA| 0.5008013129552872|\n",
      "|   Product J|    San Jose|   CA|    USA| 0.5000059130434582|\n",
      "|   Product D|     Houston|   TX|    USA| 0.4997475603913502|\n",
      "|   Product C|     Chicago|   IL|    USA|0.49967255107844716|\n",
      "|   Product E|     Phoenix|   AZ|    USA|0.49953924485342216|\n",
      "|   Product G| San Antonio|   TX|    USA| 0.4992121103595736|\n",
      "|   Product H|   San Diego|   CA|    USA|0.49893596041525523|\n",
      "|   Product I|      Dallas|   TX|    USA|0.49739745352789905|\n",
      "+------------+------------+-----+-------+-------------------+\n",
      "\n",
      "compaction.compaction_table_4: 374.73852276802063 seconds\n"
     ]
    },
    {
     "name": "stderr",
     "output_type": "stream",
     "text": [
      "                                                                                \r"
     ]
    },
    {
     "name": "stdout",
     "output_type": "stream",
     "text": [
      "+------------+------------+-----+-------+-------------------+\n",
      "|product_name|        city|state|country|        total_value|\n",
      "+------------+------------+-----+-------+-------------------+\n",
      "|   Product F|Philadelphia|   PA|    USA| 0.5022000765926845|\n",
      "|   Product A|    New York|   NY|    USA| 0.5008204747541595|\n",
      "|   Product B| Los Angeles|   CA|    USA| 0.5008013129552874|\n",
      "|   Product J|    San Jose|   CA|    USA| 0.5000059130434586|\n",
      "|   Product D|     Houston|   TX|    USA| 0.4997475603913497|\n",
      "|   Product C|     Chicago|   IL|    USA|0.49967255107844727|\n",
      "|   Product E|     Phoenix|   AZ|    USA| 0.4995392448534229|\n",
      "|   Product G| San Antonio|   TX|    USA| 0.4992121103595735|\n",
      "|   Product H|   San Diego|   CA|    USA|0.49893596041525506|\n",
      "|   Product I|      Dallas|   TX|    USA| 0.4973974535278989|\n",
      "+------------+------------+-----+-------+-------------------+\n",
      "\n",
      "compaction.compaction_table_4: 432.6733775138855 seconds\n"
     ]
    },
    {
     "name": "stderr",
     "output_type": "stream",
     "text": [
      "                                                                                \r"
     ]
    },
    {
     "name": "stdout",
     "output_type": "stream",
     "text": [
      "+------------+------------+-----+-------+-------------------+\n",
      "|product_name|        city|state|country|        total_value|\n",
      "+------------+------------+-----+-------+-------------------+\n",
      "|   Product E|     Phoenix|   AZ|    USA| 0.5010757481535001|\n",
      "|   Product H|   San Diego|   CA|    USA| 0.5009472224121173|\n",
      "|   Product F|Philadelphia|   PA|    USA| 0.5001008811954082|\n",
      "|   Product B| Los Angeles|   CA|    USA| 0.4999832558688135|\n",
      "|   Product I|      Dallas|   TX|    USA| 0.4998505889706679|\n",
      "|   Product J|    San Jose|   CA|    USA|0.49977489559424776|\n",
      "|   Product C|     Chicago|   IL|    USA|  0.499741240954029|\n",
      "|   Product D|     Houston|   TX|    USA|0.49965195973794535|\n",
      "|   Product G| San Antonio|   TX|    USA|0.49941015410065126|\n",
      "|   Product A|    New York|   NY|    USA| 0.4994068478743574|\n",
      "+------------+------------+-----+-------+-------------------+\n",
      "\n",
      "compaction.compaction_table_8: 988.5828995704651 seconds\n"
     ]
    },
    {
     "name": "stderr",
     "output_type": "stream",
     "text": [
      "[Stage 422:==================================================>(1291 + 4) / 1295]\r"
     ]
    },
    {
     "name": "stdout",
     "output_type": "stream",
     "text": [
      "+------------+------------+-----+-------+-------------------+\n",
      "|product_name|        city|state|country|        total_value|\n",
      "+------------+------------+-----+-------+-------------------+\n",
      "|   Product E|     Phoenix|   AZ|    USA| 0.5010757481535003|\n",
      "|   Product H|   San Diego|   CA|    USA| 0.5009472224121169|\n",
      "|   Product F|Philadelphia|   PA|    USA| 0.5001008811954084|\n",
      "|   Product B| Los Angeles|   CA|    USA| 0.4999832558688146|\n",
      "|   Product I|      Dallas|   TX|    USA|0.49985058897066814|\n",
      "|   Product J|    San Jose|   CA|    USA| 0.4997748955942478|\n",
      "|   Product C|     Chicago|   IL|    USA|0.49974124095402866|\n",
      "|   Product D|     Houston|   TX|    USA|0.49965195973794463|\n",
      "|   Product G| San Antonio|   TX|    USA| 0.4994101541006516|\n",
      "|   Product A|    New York|   NY|    USA| 0.4994068478743572|\n",
      "+------------+------------+-----+-------+-------------------+\n",
      "\n",
      "compaction.compaction_table_8: 1009.429545879364 seconds\n"
     ]
    },
    {
     "name": "stderr",
     "output_type": "stream",
     "text": [
      "                                                                                \r"
     ]
    }
   ],
   "source": [
    "tables = [\n",
    "    'compaction.compaction_table_2',\n",
    "    'compaction.compaction_table_4',\n",
    "    'compaction.compaction_table_8'\n",
    "]\n",
    "\n",
    "average_times_query1 = get_average_execution_times(query1, num_executions, tables)\n",
    "average_times_query2 = get_average_execution_times(query2, num_executions, tables)"
   ]
  },
  {
   "cell_type": "code",
   "execution_count": 51,
   "id": "d82c3cc7-b2c3-4f89-8389-35d8febe1be1",
   "metadata": {},
   "outputs": [
    {
     "name": "stdout",
     "output_type": "stream",
     "text": [
      "{'compaction.compaction_table_2': 85.73584485054016, 'compaction.compaction_table_4': 166.6489406824112, 'compaction.compaction_table_8': 337.11416018009186}\n",
      "{'compaction.compaction_table_2': 157.49587678909302, 'compaction.compaction_table_4': 403.70595014095306, 'compaction.compaction_table_8': 999.0062227249146}\n"
     ]
    }
   ],
   "source": [
    "print(average_times_query1)\n",
    "print(average_times_query2)"
   ]
  },
  {
   "cell_type": "code",
   "execution_count": 56,
   "id": "124f2735-b70c-4fff-a10b-426bf5828713",
   "metadata": {},
   "outputs": [
    {
     "data": {
      "image/png": "[encoded data removed]",
      "text/plain": [
       "<Figure size 1200x600 with 1 Axes>"
      ]
     },
     "metadata": {},
     "output_type": "display_data"
    }
   ],
   "source": [
    "plot_comparison(average_times_query1, average_times_query2)"
   ]
  }
 ],
 "metadata": {
  "kernelspec": {
   "display_name": "Python 3 (ipykernel)",
   "language": "python",
   "name": "python3"
  },
  "language_info": {
   "codemirror_mode": {
    "name": "ipython",
    "version": 3
   },
   "file_extension": ".py",
   "mimetype": "text/x-python",
   "name": "python",
   "nbconvert_exporter": "python",
   "pygments_lexer": "ipython3",
   "version": "3.10.12"
  }
 },
 "nbformat": 4,
 "nbformat_minor": 5
}
