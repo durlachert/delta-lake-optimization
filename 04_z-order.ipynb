{
 "cells": [
  {
   "cell_type": "markdown",
   "id": "311a93d0-572c-4f6f-8c01-fe0b90c6f529",
   "metadata": {},
   "source": [
    "# Z-Order Notebook"
   ]
  },
  {
   "cell_type": "markdown",
   "id": "a1837b36-3dd7-4e70-992e-05043ce2f5d5",
   "metadata": {},
   "source": [
    "This notebook performs the following operations:\n",
    "\n",
    "- Create Delta Lake tables\n",
    "- Generate data and insert it into the table\n",
    "- Apply Z-Order optimization\n",
    "- Display table properties\n",
    "- Run queries\n",
    "- Display query execution time"
   ]
  },
  {
   "cell_type": "code",
   "execution_count": 6,
   "id": "8cc46d78-9eb6-499b-b3eb-9edcc660e7fd",
   "metadata": {},
   "outputs": [],
   "source": [
    "spark.stop()"
   ]
  },
  {
   "cell_type": "code",
   "execution_count": 1,
   "id": "87207086-841a-42ea-b154-1ed7b792a84c",
   "metadata": {},
   "outputs": [
    {
     "name": "stderr",
     "output_type": "stream",
     "text": [
      "24/08/08 06:46:44 WARN NativeCodeLoader: Unable to load native-hadoop library for your platform... using builtin-java classes where applicable\n",
      "Setting default log level to \"WARN\".\n",
      "To adjust logging level use sc.setLogLevel(newLevel). For SparkR, use setLogLevel(newLevel).\n"
     ]
    }
   ],
   "source": [
    "from pyspark.sql import SparkSession\n",
    "import os\n",
    "\n",
    "spark = SparkSession.builder \\\n",
    "    .appName(\"ZOrder\") \\\n",
    "    .master(\"spark://192.168.0.144:7077\") \\\n",
    "    .config(\"spark.sql.extensions\", \"io.delta.sql.DeltaSparkSessionExtension\") \\\n",
    "    .config(\"spark.sql.catalog.spark_catalog\", \"org.apache.spark.sql.delta.catalog.DeltaCatalog\") \\\n",
    "    .config(\"spark.hadoop.hive.metastore.uris\", \"thrift://192.168.0.144:9083\") \\\n",
    "    .config(\"spark.hadoop.javax.jdo.option.ConnectionURL\", \"jdbc:mysql://192.168.0.144:3306/metastore_db\") \\\n",
    "    .config(\"spark.hadoop.javax.jdo.option.ConnectionDriverName\", \"com.mysql.cj.jdbc.Driver\") \\\n",
    "    .config(\"spark.hadoop.javax.jdo.option.ConnectionUserName\", \"lh\") \\\n",
    "    .config(\"spark.hadoop.javax.jdo.option.ConnectionPassword\", os.getenv('MYSQL', 'Default_Value')) \\\n",
    "    .config(\"spark.jars\", \"/usr/local/spark/jars/delta-storage-3.2.0.jar,/usr/local/spark/jars/delta-spark_2.12-3.2.0.jar\")    \\\n",
    "    .config(\"spark.delta.logStore.class\", \"org.apache.spark.sql.delta.storage.HDFSLogStore\") \\\n",
    "    .config(\"spark.executor.memory\", \"9g\") \\\n",
    "    .config(\"spark.executor.cores\", \"3\") \\\n",
    "    .config(\"spark.driver.memory\", \"19g\") \\\n",
    "    .config(\"spark.driver.maxResultSize\", \"2g\") \\\n",
    "    .config(\"spark.hadoop.fs.defaultFS\", \"hdfs://192.168.0.144:9000\") \\\n",
    "    .config(\"spark.databricks.delta.clusteredTable.enableClusteringTablePreview\", \"true\") \\\n",
    "    .config(\"spark.sql.debug.maxToStringFields\", \"1000\") \\\n",
    "    .enableHiveSupport() \\\n",
    "    .getOrCreate()"
   ]
  },
  {
   "cell_type": "code",
   "execution_count": 2,
   "id": "d2cf5a7e-0d7b-4a4d-86ed-aa6c31a853fb",
   "metadata": {},
   "outputs": [
    {
     "name": "stdout",
     "output_type": "stream",
     "text": [
      "Databases:\n",
      "+----------------+\n",
      "|       namespace|\n",
      "+----------------+\n",
      "|      compaction|\n",
      "|         default|\n",
      "|liquidclustering|\n",
      "|       partition|\n",
      "|    pyspark_test|\n",
      "|        raw_data|\n",
      "|      scala_test|\n",
      "|          zorder|\n",
      "+----------------+\n",
      "\n",
      "Tables in 'zorder' database:\n",
      "+---------+------------------------------+-----------+\n",
      "|namespace|tableName                     |isTemporary|\n",
      "+---------+------------------------------+-----------+\n",
      "|zorder   |campaign_dim                  |false      |\n",
      "|zorder   |customer_dim                  |false      |\n",
      "|zorder   |department_dim                |false      |\n",
      "|zorder   |location_dim                  |false      |\n",
      "|zorder   |product_dim                   |false      |\n",
      "|zorder   |pyspark_test_2                |false      |\n",
      "|zorder   |pyspark_test_4                |false      |\n",
      "|zorder   |pyspark_test_8                |false      |\n",
      "|zorder   |zorder_eventid_actorid_table_2|false      |\n",
      "|zorder   |zorder_eventid_actorid_table_4|false      |\n",
      "|zorder   |zorder_eventid_actorid_table_8|false      |\n",
      "+---------+------------------------------+-----------+\n",
      "\n"
     ]
    }
   ],
   "source": [
    "print(\"Databases:\")\n",
    "spark.sql(\"SHOW DATABASES\").show()\n",
    "spark.sql(\"USE zorder\")\n",
    "print(\"Tables in 'zorder' database:\")\n",
    "spark.sql(\"SHOW TABLES\").show(truncate=False)"
   ]
  },
  {
   "cell_type": "code",
   "execution_count": 2,
   "id": "4eb0471b-2218-416b-836d-5fa0838730ca",
   "metadata": {},
   "outputs": [],
   "source": [
    "db='zorder'\n",
    "delta_db_path = 'hdfs://192.168.0.144:9000/datalake/zorder'"
   ]
  },
  {
   "cell_type": "code",
   "execution_count": 26,
   "id": "ac9fee04-8cff-4926-af6f-7a4483db8372",
   "metadata": {},
   "outputs": [
    {
     "data": {
      "text/plain": [
       "DataFrame[]"
      ]
     },
     "execution_count": 26,
     "metadata": {},
     "output_type": "execute_result"
    }
   ],
   "source": [
    "#spark.sql(f\"drop DATABASE {db} CASCADE\")\n",
    "#spark.sql(f\"CREATE DATABASE {db} LOCATION '{delta_db_path}'\")\n",
    "spark.sql(f\"use database zorder\")"
   ]
  },
  {
   "cell_type": "code",
   "execution_count": 7,
   "id": "15b63632-1ca3-4c22-822a-3bb0297881ba",
   "metadata": {},
   "outputs": [
    {
     "name": "stderr",
     "output_type": "stream",
     "text": [
      "24/07/29 20:36:27 WARN HiveExternalCatalog: Couldn't find corresponding Hive SerDe for data source provider delta. Persisting data source table `spark_catalog`.`zorder`.`zorder_eventid_actorid_table_8` into Hive metastore in Spark SQL specific format, which is NOT compatible with Hive.\n",
      "24/07/29 20:36:27 WARN SessionState: METASTORE_FILTER_HOOK will be ignored, since hive.security.authorization.manager is set to instance of HiveAuthorizerFactory.\n",
      "24/07/29 20:36:30 WARN HiveExternalCatalog: Couldn't find corresponding Hive SerDe for data source provider delta. Persisting data source table `spark_catalog`.`zorder`.`zorder_eventid_table_8` into Hive metastore in Spark SQL specific format, which is NOT compatible with Hive.\n",
      "24/07/29 20:36:31 WARN HiveExternalCatalog: Couldn't find corresponding Hive SerDe for data source provider delta. Persisting data source table `spark_catalog`.`zorder`.`zorder_eventid_actorid_table_4` into Hive metastore in Spark SQL specific format, which is NOT compatible with Hive.\n",
      "24/07/29 20:36:34 WARN HiveExternalCatalog: Couldn't find corresponding Hive SerDe for data source provider delta. Persisting data source table `spark_catalog`.`zorder`.`zorder_eventid_table_4` into Hive metastore in Spark SQL specific format, which is NOT compatible with Hive.\n",
      "24/07/29 20:36:34 WARN HiveExternalCatalog: Couldn't find corresponding Hive SerDe for data source provider delta. Persisting data source table `spark_catalog`.`zorder`.`zorder_eventid_actorid_table_2` into Hive metastore in Spark SQL specific format, which is NOT compatible with Hive.\n",
      "24/07/29 20:36:36 WARN HiveExternalCatalog: Couldn't find corresponding Hive SerDe for data source provider delta. Persisting data source table `spark_catalog`.`zorder`.`zorder_eventid_table_2` into Hive metastore in Spark SQL specific format, which is NOT compatible with Hive.\n"
     ]
    }
   ],
   "source": [
    "import subprocess\n",
    "import matplotlib.pyplot as plt\n",
    "import random\n",
    "from pyspark.sql.functions import lit, rand, expr, year, month, dayofmonth, concat, lpad, element_at, array\n",
    "from pyspark.sql.types import StringType, StructType, StructField, DateType, TimestampType, DoubleType, LongType, IntegerType\n",
    "from pyspark.sql import SparkSession\n",
    "from datetime import datetime, timedelta\n",
    "import itertools\n",
    "import random\n",
    "from pyspark.sql.functions import lit, rand, udf, col, expr, year, month, dayofmonth, concat, lpad\n",
    "from pyspark.sql.types import StringType\n",
    "\n",
    "\n",
    "# Parameters\n",
    "num_pairs = 3  # Number of table pairs to create\n",
    "max_rows = 8  # Maximum number of rows for the largest table 8000000000\n",
    "\n",
    "row_counts = [max_rows // (2 ** i) for i in range(num_pairs)]\n",
    "\n",
    "\n",
    "\"\"\"\n",
    "Create and initialize a specified number of partitioned and non-partitioned Delta Lake tables.\n",
    "Each pair of tables (partitioned and non-partitioned) is dropped if it exists and then recreated \n",
    "with the specified schema.\n",
    "\"\"\"\n",
    "for i in range(num_pairs):\n",
    "    zorder_table_name = f\"zorder_eventid_actorid_table_{row_counts[i]}\"\n",
    "    zorder_table_name_sd = f\"zorder_eventid_table_{row_counts[i]}\"\n",
    "    \n",
    "    spark.sql(f\"DROP TABLE IF EXISTS {zorder_table_name}\")\n",
    "    spark.sql(f\"DROP TABLE IF EXISTS {zorder_table_name_sd}\")\n",
    "    \n",
    "    spark.sql(f\"\"\"\n",
    "    CREATE TABLE {zorder_table_name} (\n",
    "        timestamp TIMESTAMP,\n",
    "        value DOUBLE,\n",
    "        country STRING,\n",
    "        event_id LONG,\n",
    "        actor_id LONG,\n",
    "        year INT,\n",
    "        month LONG,\n",
    "        day LONG,\n",
    "        product_id INT,          \n",
    "        location_id INT,         \n",
    "        department_id INT,      \n",
    "        campaign_id INT,         \n",
    "        customer_id INT        \n",
    "    )\n",
    "    USING delta;\n",
    "    \"\"\")\n",
    "\n",
    "    spark.sql(f\"\"\"\n",
    "    CREATE TABLE {zorder_table_name_sd} (\n",
    "        timestamp TIMESTAMP,\n",
    "        value DOUBLE,\n",
    "        country STRING,\n",
    "        event_id LONG,\n",
    "        actor_id LONG,\n",
    "        year INT,\n",
    "        month LONG,\n",
    "        day LONG,\n",
    "        product_id INT,          \n",
    "        location_id INT,         \n",
    "        department_id INT,      \n",
    "        campaign_id INT,         \n",
    "        customer_id INT        \n",
    "    )\n",
    "    USING delta;\n",
    "    \"\"\")\n",
    "\n",
    "\n",
    "\n"
   ]
  },
  {
   "cell_type": "code",
   "execution_count": 11,
   "id": "aabef712-6d9f-40b8-9e77-a10c460cd754",
   "metadata": {},
   "outputs": [
    {
     "name": "stdout",
     "output_type": "stream",
     "text": [
      "Optimizing table: zorder_eventid_actorid_table_2\n"
     ]
    },
    {
     "name": "stderr",
     "output_type": "stream",
     "text": [
      "                                                                                \r"
     ]
    },
    {
     "name": "stdout",
     "output_type": "stream",
     "text": [
      "CPU times: user 1.3 s, sys: 2.06 s, total: 3.36 s\n",
      "Wall time: 51min 9s\n",
      "Optimizing table: zorder_eventid_actorid_table_4\n"
     ]
    },
    {
     "name": "stderr",
     "output_type": "stream",
     "text": [
      "                                                                                \r"
     ]
    },
    {
     "name": "stdout",
     "output_type": "stream",
     "text": [
      "CPU times: user 2.84 s, sys: 3.9 s, total: 6.74 s\n",
      "Wall time: 1h 52min 8s\n",
      "Optimizing table: zorder_eventid_actorid_table_8\n"
     ]
    },
    {
     "name": "stderr",
     "output_type": "stream",
     "text": [
      "                                                                                \r"
     ]
    },
    {
     "name": "stdout",
     "output_type": "stream",
     "text": [
      "CPU times: user 6.01 s, sys: 8.46 s, total: 14.5 s\n",
      "Wall time: 3h 57min 26s\n",
      "Optimizing table: zorder_eventid_table_2\n"
     ]
    },
    {
     "name": "stderr",
     "output_type": "stream",
     "text": [
      "                                                                                \r"
     ]
    },
    {
     "name": "stdout",
     "output_type": "stream",
     "text": [
      "CPU times: user 1.16 s, sys: 1.74 s, total: 2.9 s\n",
      "Wall time: 46min 4s\n",
      "Optimizing table: zorder_eventid_table_4\n"
     ]
    },
    {
     "name": "stderr",
     "output_type": "stream",
     "text": [
      "                                                                                \r"
     ]
    },
    {
     "name": "stdout",
     "output_type": "stream",
     "text": [
      "CPU times: user 2.66 s, sys: 3.28 s, total: 5.94 s\n",
      "Wall time: 1h 46min 18s\n",
      "Optimizing table: zorder_eventid_table_8\n"
     ]
    },
    {
     "name": "stderr",
     "output_type": "stream",
     "text": [
      "[Stage 169:======================================>                  (2 + 1) / 3]\r"
     ]
    },
    {
     "name": "stdout",
     "output_type": "stream",
     "text": [
      "CPU times: user 5.98 s, sys: 7.22 s, total: 13.2 s\n",
      "Wall time: 4h 1min 54s\n"
     ]
    },
    {
     "name": "stderr",
     "output_type": "stream",
     "text": [
      "                                                                                \r"
     ]
    }
   ],
   "source": [
    "from delta.tables import DeltaTable\n",
    "\n",
    "table_paths = [\n",
    "    \"hdfs://192.168.0.144:9000/datalake/zorder/zorder_eventid_actorid_table_2\",\n",
    "    \"hdfs://192.168.0.144:9000/datalake/zorder/zorder_eventid_actorid_table_4\",\n",
    "    \"hdfs://192.168.0.144:9000/datalake/zorder/zorder_eventid_actorid_table_8\"\n",
    "]\n",
    "\n",
    "for path in table_paths:\n",
    "    delta_table_obj = DeltaTable.forPath(spark, path)\n",
    "    table_name = path.split(\"/\")[-1]\n",
    "    print(f\"Optimizing table: {table_name}\")\n",
    "    %time delta_table_obj.optimize().executeZOrderBy(\"event_id\", \"actor_id\")\n",
    "\n",
    "\n",
    "table_paths = [\n",
    "    \"hdfs://192.168.0.144:9000/datalake/zorder/zorder_eventid_table_2\",\n",
    "    \"hdfs://192.168.0.144:9000/datalake/zorder/zorder_eventid_table_4\",\n",
    "    \"hdfs://192.168.0.144:9000/datalake/zorder/zorder_eventid_table_8\"\n",
    "]\n",
    "\n",
    "for path in table_paths:\n",
    "    delta_table_obj = DeltaTable.forPath(spark, path)\n",
    "    table_name = path.split(\"/\")[-1]\n",
    "    print(f\"Optimizing table: {table_name}\")\n",
    "    %time delta_table_obj.optimize().executeZOrderBy(\"event_id\")"
   ]
  },
  {
   "cell_type": "code",
   "execution_count": 42,
   "id": "e4d4156b-188b-46b0-8b2e-cd275c55cd26",
   "metadata": {},
   "outputs": [
    {
     "name": "stdout",
     "output_type": "stream",
     "text": [
      "+---------+--------------------------------+-----------+\n",
      "|namespace|tableName                       |isTemporary|\n",
      "+---------+--------------------------------+-----------+\n",
      "|zorder   |nozorder_eventid_actorid_table_2|false      |\n",
      "|zorder   |nozorder_eventid_actorid_table_4|false      |\n",
      "|zorder   |nozorder_eventid_actorid_table_8|false      |\n",
      "|zorder   |zorder_eventid_actorid_table_2  |false      |\n",
      "|zorder   |zorder_eventid_actorid_table_4  |false      |\n",
      "|zorder   |zorder_eventid_actorid_table_8  |false      |\n",
      "|zorder   |zorder_eventid_table_2          |false      |\n",
      "|zorder   |zorder_eventid_table_4          |false      |\n",
      "|zorder   |zorder_eventid_table_8          |false      |\n",
      "+---------+--------------------------------+-----------+\n",
      "\n"
     ]
    }
   ],
   "source": [
    "spark.sql(\"\"\"\n",
    "show tables\n",
    "\"\"\").show(truncate = False)\n"
   ]
  },
  {
   "cell_type": "code",
   "execution_count": 13,
   "id": "c5d80778-cdb3-4e64-9392-2210e6fbdc00",
   "metadata": {},
   "outputs": [
    {
     "name": "stderr",
     "output_type": "stream",
     "text": [
      "                                                                                \r"
     ]
    },
    {
     "name": "stdout",
     "output_type": "stream",
     "text": [
      "+------------+------------+-----+-------+------------------+-----------+\n",
      "|product_name|        city|state|country|       total_value|event_count|\n",
      "+------------+------------+-----+-------+------------------+-----------+\n",
      "|   Product G| San Antonio|   TX|    USA|16325.645384546517|      32631|\n",
      "|   Product A|    New York|   NY|    USA|16293.041773393488|      32485|\n",
      "|   Product B| Los Angeles|   CA|    USA| 16260.50695098313|      32449|\n",
      "|   Product F|Philadelphia|   PA|    USA| 16259.04758088331|      32521|\n",
      "|   Product H|   San Diego|   CA|    USA|16238.377853609758|      32430|\n",
      "|   Product I|      Dallas|   TX|    USA|16214.700816333421|      32415|\n",
      "|   Product C|     Chicago|   IL|    USA|16212.334961552868|      32367|\n",
      "|   Product J|    San Jose|   CA|    USA|16205.668117725005|      32434|\n",
      "|   Product D|     Houston|   TX|    USA| 16115.73627295299|      32344|\n",
      "|   Product E|     Phoenix|   AZ|    USA| 15993.69845353664|      31985|\n",
      "+------------+------------+-----+-------+------------------+-----------+\n",
      "\n",
      "zorder_eventid_table_2: 92.82154679298401 seconds\n"
     ]
    },
    {
     "name": "stderr",
     "output_type": "stream",
     "text": [
      "                                                                                \r"
     ]
    },
    {
     "name": "stdout",
     "output_type": "stream",
     "text": [
      "+------------+------------+-----+-------+------------------+-----------+\n",
      "|product_name|        city|state|country|       total_value|event_count|\n",
      "+------------+------------+-----+-------+------------------+-----------+\n",
      "|   Product G| San Antonio|   TX|    USA|16325.645384546515|      32631|\n",
      "|   Product A|    New York|   NY|    USA|16293.041773393485|      32485|\n",
      "|   Product B| Los Angeles|   CA|    USA|16260.506950983137|      32449|\n",
      "|   Product F|Philadelphia|   PA|    USA|16259.047580883302|      32521|\n",
      "|   Product H|   San Diego|   CA|    USA|16238.377853609758|      32430|\n",
      "|   Product I|      Dallas|   TX|    USA|16214.700816333421|      32415|\n",
      "|   Product C|     Chicago|   IL|    USA|16212.334961552864|      32367|\n",
      "|   Product J|    San Jose|   CA|    USA|16205.668117725008|      32434|\n",
      "|   Product D|     Houston|   TX|    USA|16115.736272952989|      32344|\n",
      "|   Product E|     Phoenix|   AZ|    USA|15993.698453536648|      31985|\n",
      "+------------+------------+-----+-------+------------------+-----------+\n",
      "\n",
      "zorder_eventid_table_2: 25.816089391708374 seconds\n"
     ]
    },
    {
     "name": "stderr",
     "output_type": "stream",
     "text": [
      "                                                                                \r"
     ]
    },
    {
     "name": "stdout",
     "output_type": "stream",
     "text": [
      "+------------+------------+-----+-------+------------------+-----------+\n",
      "|product_name|        city|state|country|       total_value|event_count|\n",
      "+------------+------------+-----+-------+------------------+-----------+\n",
      "|   Product G| San Antonio|   TX|    USA|16325.645384546511|      32631|\n",
      "|   Product A|    New York|   NY|    USA|16293.041773393488|      32485|\n",
      "|   Product B| Los Angeles|   CA|    USA|16260.506950983136|      32449|\n",
      "|   Product F|Philadelphia|   PA|    USA|16259.047580883302|      32521|\n",
      "|   Product H|   San Diego|   CA|    USA|16238.377853609756|      32430|\n",
      "|   Product I|      Dallas|   TX|    USA|16214.700816333416|      32415|\n",
      "|   Product C|     Chicago|   IL|    USA|16212.334961552868|      32367|\n",
      "|   Product J|    San Jose|   CA|    USA| 16205.66811772501|      32434|\n",
      "|   Product D|     Houston|   TX|    USA|16115.736272952987|      32344|\n",
      "|   Product E|     Phoenix|   AZ|    USA|15993.698453536643|      31985|\n",
      "+------------+------------+-----+-------+------------------+-----------+\n",
      "\n",
      "zorder_eventid_table_2: 23.15218758583069 seconds\n"
     ]
    },
    {
     "name": "stderr",
     "output_type": "stream",
     "text": [
      "                                                                                \r"
     ]
    },
    {
     "name": "stdout",
     "output_type": "stream",
     "text": [
      "+------------+------------+-----+-------+------------------+-----------+\n",
      "|product_name|        city|state|country|       total_value|event_count|\n",
      "+------------+------------+-----+-------+------------------+-----------+\n",
      "|   Product G| San Antonio|   TX|    USA|16325.645384546508|      32631|\n",
      "|   Product A|    New York|   NY|    USA|16293.041773393483|      32485|\n",
      "|   Product B| Los Angeles|   CA|    USA|16260.506950983128|      32449|\n",
      "|   Product F|Philadelphia|   PA|    USA|16259.047580883307|      32521|\n",
      "|   Product H|   San Diego|   CA|    USA|16238.377853609758|      32430|\n",
      "|   Product I|      Dallas|   TX|    USA|16214.700816333425|      32415|\n",
      "|   Product C|     Chicago|   IL|    USA|16212.334961552864|      32367|\n",
      "|   Product J|    San Jose|   CA|    USA|16205.668117725012|      32434|\n",
      "|   Product D|     Houston|   TX|    USA|16115.736272952987|      32344|\n",
      "|   Product E|     Phoenix|   AZ|    USA|15993.698453536646|      31985|\n",
      "+------------+------------+-----+-------+------------------+-----------+\n",
      "\n",
      "zorder_eventid_table_2: 21.396233320236206 seconds\n"
     ]
    },
    {
     "name": "stderr",
     "output_type": "stream",
     "text": [
      "                                                                                \r"
     ]
    },
    {
     "name": "stdout",
     "output_type": "stream",
     "text": [
      "+------------+------------+-----+-------+------------------+-----------+\n",
      "|product_name|        city|state|country|       total_value|event_count|\n",
      "+------------+------------+-----+-------+------------------+-----------+\n",
      "|   Product G| San Antonio|   TX|    USA| 16325.64538454651|      32631|\n",
      "|   Product A|    New York|   NY|    USA|16293.041773393483|      32485|\n",
      "|   Product B| Los Angeles|   CA|    USA|16260.506950983136|      32449|\n",
      "|   Product F|Philadelphia|   PA|    USA|16259.047580883307|      32521|\n",
      "|   Product H|   San Diego|   CA|    USA|16238.377853609763|      32430|\n",
      "|   Product I|      Dallas|   TX|    USA|16214.700816333418|      32415|\n",
      "|   Product C|     Chicago|   IL|    USA| 16212.33496155287|      32367|\n",
      "|   Product J|    San Jose|   CA|    USA|16205.668117725005|      32434|\n",
      "|   Product D|     Houston|   TX|    USA|16115.736272952985|      32344|\n",
      "|   Product E|     Phoenix|   AZ|    USA|15993.698453536645|      31985|\n",
      "+------------+------------+-----+-------+------------------+-----------+\n",
      "\n",
      "zorder_eventid_table_2: 21.658060312271118 seconds\n"
     ]
    },
    {
     "name": "stderr",
     "output_type": "stream",
     "text": [
      "                                                                                \r"
     ]
    },
    {
     "name": "stdout",
     "output_type": "stream",
     "text": [
      "+------------+------------+-----+-------+------------------+-----------+\n",
      "|product_name|        city|state|country|       total_value|event_count|\n",
      "+------------+------------+-----+-------+------------------+-----------+\n",
      "|   Product A|    New York|   NY|    USA| 32562.84644804069|      65019|\n",
      "|   Product F|Philadelphia|   PA|    USA| 32505.90435761468|      64727|\n",
      "|   Product D|     Houston|   TX|    USA| 32455.60556205585|      64944|\n",
      "|   Product B| Los Angeles|   CA|    USA|32439.405046678734|      64775|\n",
      "|   Product C|     Chicago|   IL|    USA|32414.757733561026|      64872|\n",
      "|   Product H|   San Diego|   CA|    USA|32358.990648691844|      64856|\n",
      "|   Product J|    San Jose|   CA|    USA| 32261.38152139002|      64522|\n",
      "|   Product G| San Antonio|   TX|    USA|32260.084995656354|      64622|\n",
      "|   Product E|     Phoenix|   AZ|    USA|32179.818614212643|      64419|\n",
      "|   Product I|      Dallas|   TX|    USA| 32112.47699721469|      64561|\n",
      "+------------+------------+-----+-------+------------------+-----------+\n",
      "\n",
      "zorder_eventid_table_4: 181.25700902938843 seconds\n"
     ]
    },
    {
     "name": "stderr",
     "output_type": "stream",
     "text": [
      "                                                                                \r"
     ]
    },
    {
     "name": "stdout",
     "output_type": "stream",
     "text": [
      "+------------+------------+-----+-------+------------------+-----------+\n",
      "|product_name|        city|state|country|       total_value|event_count|\n",
      "+------------+------------+-----+-------+------------------+-----------+\n",
      "|   Product A|    New York|   NY|    USA| 32562.84644804068|      65019|\n",
      "|   Product F|Philadelphia|   PA|    USA|32505.904357614676|      64727|\n",
      "|   Product D|     Houston|   TX|    USA| 32455.60556205583|      64944|\n",
      "|   Product B| Los Angeles|   CA|    USA|32439.405046678723|      64775|\n",
      "|   Product C|     Chicago|   IL|    USA| 32414.75773356101|      64872|\n",
      "|   Product H|   San Diego|   CA|    USA|32358.990648691833|      64856|\n",
      "|   Product J|    San Jose|   CA|    USA|32261.381521390027|      64522|\n",
      "|   Product G| San Antonio|   TX|    USA|32260.084995656358|      64622|\n",
      "|   Product E|     Phoenix|   AZ|    USA|32179.818614212636|      64419|\n",
      "|   Product I|      Dallas|   TX|    USA|32112.476997214686|      64561|\n",
      "+------------+------------+-----+-------+------------------+-----------+\n",
      "\n",
      "zorder_eventid_table_4: 176.5511724948883 seconds\n"
     ]
    },
    {
     "name": "stderr",
     "output_type": "stream",
     "text": [
      "                                                                                \r"
     ]
    },
    {
     "name": "stdout",
     "output_type": "stream",
     "text": [
      "+------------+------------+-----+-------+------------------+-----------+\n",
      "|product_name|        city|state|country|       total_value|event_count|\n",
      "+------------+------------+-----+-------+------------------+-----------+\n",
      "|   Product A|    New York|   NY|    USA|32562.846448040687|      65019|\n",
      "|   Product F|Philadelphia|   PA|    USA|32505.904357614676|      64727|\n",
      "|   Product D|     Houston|   TX|    USA|32455.605562055833|      64944|\n",
      "|   Product B| Los Angeles|   CA|    USA|32439.405046678734|      64775|\n",
      "|   Product C|     Chicago|   IL|    USA|32414.757733561026|      64872|\n",
      "|   Product H|   San Diego|   CA|    USA| 32358.99064869183|      64856|\n",
      "|   Product J|    San Jose|   CA|    USA|32261.381521389998|      64522|\n",
      "|   Product G| San Antonio|   TX|    USA|32260.084995656354|      64622|\n",
      "|   Product E|     Phoenix|   AZ|    USA|32179.818614212643|      64419|\n",
      "|   Product I|      Dallas|   TX|    USA| 32112.47699721469|      64561|\n",
      "+------------+------------+-----+-------+------------------+-----------+\n",
      "\n",
      "zorder_eventid_table_4: 177.7001576423645 seconds\n"
     ]
    },
    {
     "name": "stderr",
     "output_type": "stream",
     "text": [
      "                                                                                \r"
     ]
    },
    {
     "name": "stdout",
     "output_type": "stream",
     "text": [
      "+------------+------------+-----+-------+------------------+-----------+\n",
      "|product_name|        city|state|country|       total_value|event_count|\n",
      "+------------+------------+-----+-------+------------------+-----------+\n",
      "|   Product A|    New York|   NY|    USA|32562.846448040687|      65019|\n",
      "|   Product F|Philadelphia|   PA|    USA|32505.904357614687|      64727|\n",
      "|   Product D|     Houston|   TX|    USA|32455.605562055825|      64944|\n",
      "|   Product B| Los Angeles|   CA|    USA|32439.405046678745|      64775|\n",
      "|   Product C|     Chicago|   IL|    USA|32414.757733561022|      64872|\n",
      "|   Product H|   San Diego|   CA|    USA|32358.990648691837|      64856|\n",
      "|   Product J|    San Jose|   CA|    USA|32261.381521390016|      64522|\n",
      "|   Product G| San Antonio|   TX|    USA|32260.084995656354|      64622|\n",
      "|   Product E|     Phoenix|   AZ|    USA| 32179.81861421264|      64419|\n",
      "|   Product I|      Dallas|   TX|    USA|32112.476997214704|      64561|\n",
      "+------------+------------+-----+-------+------------------+-----------+\n",
      "\n",
      "zorder_eventid_table_4: 175.53288316726685 seconds\n"
     ]
    },
    {
     "name": "stderr",
     "output_type": "stream",
     "text": [
      "                                                                                \r"
     ]
    },
    {
     "name": "stdout",
     "output_type": "stream",
     "text": [
      "+------------+------------+-----+-------+------------------+-----------+\n",
      "|product_name|        city|state|country|       total_value|event_count|\n",
      "+------------+------------+-----+-------+------------------+-----------+\n",
      "|   Product A|    New York|   NY|    USA|  32562.8464480407|      65019|\n",
      "|   Product F|Philadelphia|   PA|    USA|  32505.9043576147|      64727|\n",
      "|   Product D|     Houston|   TX|    USA| 32455.60556205583|      64944|\n",
      "|   Product B| Los Angeles|   CA|    USA| 32439.40504667874|      64775|\n",
      "|   Product C|     Chicago|   IL|    USA|32414.757733561037|      64872|\n",
      "|   Product H|   San Diego|   CA|    USA|32358.990648691815|      64856|\n",
      "|   Product J|    San Jose|   CA|    USA|32261.381521390012|      64522|\n",
      "|   Product G| San Antonio|   TX|    USA|32260.084995656358|      64622|\n",
      "|   Product E|     Phoenix|   AZ|    USA|32179.818614212643|      64419|\n",
      "|   Product I|      Dallas|   TX|    USA|32112.476997214686|      64561|\n",
      "+------------+------------+-----+-------+------------------+-----------+\n",
      "\n",
      "zorder_eventid_table_4: 176.40692496299744 seconds\n"
     ]
    },
    {
     "name": "stderr",
     "output_type": "stream",
     "text": [
      "                                                                                \r"
     ]
    },
    {
     "name": "stdout",
     "output_type": "stream",
     "text": [
      "+------------+------------+-----+-------+------------------+-----------+\n",
      "|product_name|        city|state|country|       total_value|event_count|\n",
      "+------------+------------+-----+-------+------------------+-----------+\n",
      "|   Product E|     Phoenix|   AZ|    USA|65068.694503717285|     129858|\n",
      "|   Product H|   San Diego|   CA|    USA|65025.955152427305|     129806|\n",
      "|   Product I|      Dallas|   TX|    USA| 64772.63872117504|     129584|\n",
      "|   Product D|     Houston|   TX|    USA|  64751.8960702792|     129594|\n",
      "|   Product C|     Chicago|   IL|    USA|  64710.9935498963|     129489|\n",
      "|   Product F|Philadelphia|   PA|    USA|64700.051403774785|     129374|\n",
      "|   Product B| Los Angeles|   CA|    USA| 64590.33690941272|     129185|\n",
      "|   Product J|    San Jose|   CA|    USA|64539.430692354275|     129137|\n",
      "|   Product A|    New York|   NY|    USA| 64461.43829623051|     129076|\n",
      "|   Product G| San Antonio|   TX|    USA| 64429.90280083323|     129012|\n",
      "+------------+------------+-----+-------+------------------+-----------+\n",
      "\n",
      "zorder_eventid_table_8: 346.5788176059723 seconds\n"
     ]
    },
    {
     "name": "stderr",
     "output_type": "stream",
     "text": [
      "                                                                                \r"
     ]
    },
    {
     "name": "stdout",
     "output_type": "stream",
     "text": [
      "+------------+------------+-----+-------+------------------+-----------+\n",
      "|product_name|        city|state|country|       total_value|event_count|\n",
      "+------------+------------+-----+-------+------------------+-----------+\n",
      "|   Product E|     Phoenix|   AZ|    USA|65068.694503717306|     129858|\n",
      "|   Product H|   San Diego|   CA|    USA| 65025.95515242732|     129806|\n",
      "|   Product I|      Dallas|   TX|    USA| 64772.63872117505|     129584|\n",
      "|   Product D|     Houston|   TX|    USA| 64751.89607027923|     129594|\n",
      "|   Product C|     Chicago|   IL|    USA| 64710.99354989627|     129489|\n",
      "|   Product F|Philadelphia|   PA|    USA| 64700.05140377483|     129374|\n",
      "|   Product B| Los Angeles|   CA|    USA|64590.336909412705|     129185|\n",
      "|   Product J|    San Jose|   CA|    USA|64539.430692354355|     129137|\n",
      "|   Product A|    New York|   NY|    USA|64461.438296230524|     129076|\n",
      "|   Product G| San Antonio|   TX|    USA| 64429.90280083322|     129012|\n",
      "+------------+------------+-----+-------+------------------+-----------+\n",
      "\n",
      "zorder_eventid_table_8: 343.71110224723816 seconds\n"
     ]
    },
    {
     "name": "stderr",
     "output_type": "stream",
     "text": [
      "                                                                                \r"
     ]
    },
    {
     "name": "stdout",
     "output_type": "stream",
     "text": [
      "+------------+------------+-----+-------+------------------+-----------+\n",
      "|product_name|        city|state|country|       total_value|event_count|\n",
      "+------------+------------+-----+-------+------------------+-----------+\n",
      "|   Product E|     Phoenix|   AZ|    USA| 65068.69450371725|     129858|\n",
      "|   Product H|   San Diego|   CA|    USA|65025.955152427305|     129806|\n",
      "|   Product I|      Dallas|   TX|    USA|64772.638721175026|     129584|\n",
      "|   Product D|     Houston|   TX|    USA| 64751.89607027924|     129594|\n",
      "|   Product C|     Chicago|   IL|    USA| 64710.99354989627|     129489|\n",
      "|   Product F|Philadelphia|   PA|    USA| 64700.05140377476|     129374|\n",
      "|   Product B| Los Angeles|   CA|    USA| 64590.33690941274|     129185|\n",
      "|   Product J|    San Jose|   CA|    USA|64539.430692354385|     129137|\n",
      "|   Product A|    New York|   NY|    USA|64461.438296230466|     129076|\n",
      "|   Product G| San Antonio|   TX|    USA|64429.902800833246|     129012|\n",
      "+------------+------------+-----+-------+------------------+-----------+\n",
      "\n",
      "zorder_eventid_table_8: 344.1104371547699 seconds\n"
     ]
    },
    {
     "name": "stderr",
     "output_type": "stream",
     "text": [
      "                                                                                \r"
     ]
    },
    {
     "name": "stdout",
     "output_type": "stream",
     "text": [
      "+------------+------------+-----+-------+------------------+-----------+\n",
      "|product_name|        city|state|country|       total_value|event_count|\n",
      "+------------+------------+-----+-------+------------------+-----------+\n",
      "|   Product E|     Phoenix|   AZ|    USA| 65068.69450371721|     129858|\n",
      "|   Product H|   San Diego|   CA|    USA| 65025.95515242729|     129806|\n",
      "|   Product I|      Dallas|   TX|    USA|64772.638721175084|     129584|\n",
      "|   Product D|     Houston|   TX|    USA| 64751.89607027922|     129594|\n",
      "|   Product C|     Chicago|   IL|    USA| 64710.99354989629|     129489|\n",
      "|   Product F|Philadelphia|   PA|    USA| 64700.05140377481|     129374|\n",
      "|   Product B| Los Angeles|   CA|    USA| 64590.33690941275|     129185|\n",
      "|   Product J|    San Jose|   CA|    USA|64539.430692354385|     129137|\n",
      "|   Product A|    New York|   NY|    USA|64461.438296230444|     129076|\n",
      "|   Product G| San Antonio|   TX|    USA| 64429.90280083319|     129012|\n",
      "+------------+------------+-----+-------+------------------+-----------+\n",
      "\n",
      "zorder_eventid_table_8: 341.5985448360443 seconds\n"
     ]
    },
    {
     "name": "stderr",
     "output_type": "stream",
     "text": [
      "ERROR:root:KeyboardInterrupt while sending command.            (323 + 15) / 719]\n",
      "Traceback (most recent call last):\n",
      "  File \"/home/lh/.local/lib/python3.10/site-packages/py4j/java_gateway.py\", line 1038, in send_command\n",
      "    response = connection.send_command(command)\n",
      "  File \"/home/lh/.local/lib/python3.10/site-packages/py4j/clientserver.py\", line 511, in send_command\n",
      "    answer = smart_decode(self.stream.readline()[:-1])\n",
      "  File \"/usr/lib/python3.10/socket.py\", line 705, in readinto\n",
      "    return self._sock.recv_into(b)\n",
      "KeyboardInterrupt\n",
      "[Stage 855:=======================>                            (326 + 15) / 719]\r"
     ]
    },
    {
     "ename": "KeyboardInterrupt",
     "evalue": "",
     "output_type": "error",
     "traceback": [
      "\u001b[0;31m---------------------------------------------------------------------------\u001b[0m",
      "\u001b[0;31mKeyboardInterrupt\u001b[0m                         Traceback (most recent call last)",
      "Cell \u001b[0;32mIn[13], line 56\u001b[0m\n\u001b[1;32m     30\u001b[0m query \u001b[38;5;241m=\u001b[39m \u001b[38;5;124mf\u001b[39m\u001b[38;5;124m\"\"\"\u001b[39m\n\u001b[1;32m     31\u001b[0m \u001b[38;5;124mSELECT\u001b[39m\n\u001b[1;32m     32\u001b[0m \u001b[38;5;124m    product_dim.product_name,\u001b[39m\n\u001b[0;32m   (...)\u001b[0m\n\u001b[1;32m     52\u001b[0m \u001b[38;5;124mORDER BY\u001b[39m\n\u001b[1;32m     53\u001b[0m \u001b[38;5;124m    total_value DESC;\u001b[39m\u001b[38;5;124m\"\"\"\u001b[39m\n\u001b[1;32m     55\u001b[0m \u001b[38;5;28;01mtry\u001b[39;00m:\n\u001b[0;32m---> 56\u001b[0m     execution_time \u001b[38;5;241m=\u001b[39m \u001b[43mmeasure_execution_time\u001b[49m\u001b[43m(\u001b[49m\u001b[43mquery\u001b[49m\u001b[43m)\u001b[49m\n\u001b[1;32m     57\u001b[0m     \u001b[38;5;28mprint\u001b[39m(\u001b[38;5;124mf\u001b[39m\u001b[38;5;124m\"\u001b[39m\u001b[38;5;132;01m{\u001b[39;00mtable\u001b[38;5;132;01m}\u001b[39;00m\u001b[38;5;124m: \u001b[39m\u001b[38;5;132;01m{\u001b[39;00mexecution_time\u001b[38;5;132;01m}\u001b[39;00m\u001b[38;5;124m seconds\u001b[39m\u001b[38;5;124m\"\u001b[39m)\n\u001b[1;32m     58\u001b[0m     execution_times[table]\u001b[38;5;241m.\u001b[39mappend(execution_time)\n",
      "Cell \u001b[0;32mIn[13], line 22\u001b[0m, in \u001b[0;36mmeasure_execution_time\u001b[0;34m(query)\u001b[0m\n\u001b[1;32m     20\u001b[0m spark\u001b[38;5;241m.\u001b[39mcatalog\u001b[38;5;241m.\u001b[39mclearCache()\n\u001b[1;32m     21\u001b[0m start_time \u001b[38;5;241m=\u001b[39m time\u001b[38;5;241m.\u001b[39mtime()\n\u001b[0;32m---> 22\u001b[0m \u001b[43mspark\u001b[49m\u001b[38;5;241;43m.\u001b[39;49m\u001b[43msql\u001b[49m\u001b[43m(\u001b[49m\u001b[43mquery\u001b[49m\u001b[43m)\u001b[49m\u001b[38;5;241;43m.\u001b[39;49m\u001b[43mshow\u001b[49m\u001b[43m(\u001b[49m\u001b[43m)\u001b[49m \n\u001b[1;32m     23\u001b[0m end_time \u001b[38;5;241m=\u001b[39m time\u001b[38;5;241m.\u001b[39mtime()\n\u001b[1;32m     24\u001b[0m \u001b[38;5;28;01mreturn\u001b[39;00m end_time \u001b[38;5;241m-\u001b[39m start_time\n",
      "File \u001b[0;32m~/.local/lib/python3.10/site-packages/pyspark/sql/dataframe.py:945\u001b[0m, in \u001b[0;36mDataFrame.show\u001b[0;34m(self, n, truncate, vertical)\u001b[0m\n\u001b[1;32m    885\u001b[0m \u001b[38;5;28;01mdef\u001b[39;00m \u001b[38;5;21mshow\u001b[39m(\u001b[38;5;28mself\u001b[39m, n: \u001b[38;5;28mint\u001b[39m \u001b[38;5;241m=\u001b[39m \u001b[38;5;241m20\u001b[39m, truncate: Union[\u001b[38;5;28mbool\u001b[39m, \u001b[38;5;28mint\u001b[39m] \u001b[38;5;241m=\u001b[39m \u001b[38;5;28;01mTrue\u001b[39;00m, vertical: \u001b[38;5;28mbool\u001b[39m \u001b[38;5;241m=\u001b[39m \u001b[38;5;28;01mFalse\u001b[39;00m) \u001b[38;5;241m-\u001b[39m\u001b[38;5;241m>\u001b[39m \u001b[38;5;28;01mNone\u001b[39;00m:\n\u001b[1;32m    886\u001b[0m \u001b[38;5;250m    \u001b[39m\u001b[38;5;124;03m\"\"\"Prints the first ``n`` rows to the console.\u001b[39;00m\n\u001b[1;32m    887\u001b[0m \n\u001b[1;32m    888\u001b[0m \u001b[38;5;124;03m    .. versionadded:: 1.3.0\u001b[39;00m\n\u001b[0;32m   (...)\u001b[0m\n\u001b[1;32m    943\u001b[0m \u001b[38;5;124;03m    name | Bob\u001b[39;00m\n\u001b[1;32m    944\u001b[0m \u001b[38;5;124;03m    \"\"\"\u001b[39;00m\n\u001b[0;32m--> 945\u001b[0m     \u001b[38;5;28mprint\u001b[39m(\u001b[38;5;28;43mself\u001b[39;49m\u001b[38;5;241;43m.\u001b[39;49m\u001b[43m_show_string\u001b[49m\u001b[43m(\u001b[49m\u001b[43mn\u001b[49m\u001b[43m,\u001b[49m\u001b[43m \u001b[49m\u001b[43mtruncate\u001b[49m\u001b[43m,\u001b[49m\u001b[43m \u001b[49m\u001b[43mvertical\u001b[49m\u001b[43m)\u001b[49m)\n",
      "File \u001b[0;32m~/.local/lib/python3.10/site-packages/pyspark/sql/dataframe.py:963\u001b[0m, in \u001b[0;36mDataFrame._show_string\u001b[0;34m(self, n, truncate, vertical)\u001b[0m\n\u001b[1;32m    957\u001b[0m     \u001b[38;5;28;01mraise\u001b[39;00m PySparkTypeError(\n\u001b[1;32m    958\u001b[0m         error_class\u001b[38;5;241m=\u001b[39m\u001b[38;5;124m\"\u001b[39m\u001b[38;5;124mNOT_BOOL\u001b[39m\u001b[38;5;124m\"\u001b[39m,\n\u001b[1;32m    959\u001b[0m         message_parameters\u001b[38;5;241m=\u001b[39m{\u001b[38;5;124m\"\u001b[39m\u001b[38;5;124marg_name\u001b[39m\u001b[38;5;124m\"\u001b[39m: \u001b[38;5;124m\"\u001b[39m\u001b[38;5;124mvertical\u001b[39m\u001b[38;5;124m\"\u001b[39m, \u001b[38;5;124m\"\u001b[39m\u001b[38;5;124marg_type\u001b[39m\u001b[38;5;124m\"\u001b[39m: \u001b[38;5;28mtype\u001b[39m(vertical)\u001b[38;5;241m.\u001b[39m\u001b[38;5;18m__name__\u001b[39m},\n\u001b[1;32m    960\u001b[0m     )\n\u001b[1;32m    962\u001b[0m \u001b[38;5;28;01mif\u001b[39;00m \u001b[38;5;28misinstance\u001b[39m(truncate, \u001b[38;5;28mbool\u001b[39m) \u001b[38;5;129;01mand\u001b[39;00m truncate:\n\u001b[0;32m--> 963\u001b[0m     \u001b[38;5;28;01mreturn\u001b[39;00m \u001b[38;5;28;43mself\u001b[39;49m\u001b[38;5;241;43m.\u001b[39;49m\u001b[43m_jdf\u001b[49m\u001b[38;5;241;43m.\u001b[39;49m\u001b[43mshowString\u001b[49m\u001b[43m(\u001b[49m\u001b[43mn\u001b[49m\u001b[43m,\u001b[49m\u001b[43m \u001b[49m\u001b[38;5;241;43m20\u001b[39;49m\u001b[43m,\u001b[49m\u001b[43m \u001b[49m\u001b[43mvertical\u001b[49m\u001b[43m)\u001b[49m\n\u001b[1;32m    964\u001b[0m \u001b[38;5;28;01melse\u001b[39;00m:\n\u001b[1;32m    965\u001b[0m     \u001b[38;5;28;01mtry\u001b[39;00m:\n",
      "File \u001b[0;32m~/.local/lib/python3.10/site-packages/py4j/java_gateway.py:1321\u001b[0m, in \u001b[0;36mJavaMember.__call__\u001b[0;34m(self, *args)\u001b[0m\n\u001b[1;32m   1314\u001b[0m args_command, temp_args \u001b[38;5;241m=\u001b[39m \u001b[38;5;28mself\u001b[39m\u001b[38;5;241m.\u001b[39m_build_args(\u001b[38;5;241m*\u001b[39margs)\n\u001b[1;32m   1316\u001b[0m command \u001b[38;5;241m=\u001b[39m proto\u001b[38;5;241m.\u001b[39mCALL_COMMAND_NAME \u001b[38;5;241m+\u001b[39m\\\n\u001b[1;32m   1317\u001b[0m     \u001b[38;5;28mself\u001b[39m\u001b[38;5;241m.\u001b[39mcommand_header \u001b[38;5;241m+\u001b[39m\\\n\u001b[1;32m   1318\u001b[0m     args_command \u001b[38;5;241m+\u001b[39m\\\n\u001b[1;32m   1319\u001b[0m     proto\u001b[38;5;241m.\u001b[39mEND_COMMAND_PART\n\u001b[0;32m-> 1321\u001b[0m answer \u001b[38;5;241m=\u001b[39m \u001b[38;5;28;43mself\u001b[39;49m\u001b[38;5;241;43m.\u001b[39;49m\u001b[43mgateway_client\u001b[49m\u001b[38;5;241;43m.\u001b[39;49m\u001b[43msend_command\u001b[49m\u001b[43m(\u001b[49m\u001b[43mcommand\u001b[49m\u001b[43m)\u001b[49m\n\u001b[1;32m   1322\u001b[0m return_value \u001b[38;5;241m=\u001b[39m get_return_value(\n\u001b[1;32m   1323\u001b[0m     answer, \u001b[38;5;28mself\u001b[39m\u001b[38;5;241m.\u001b[39mgateway_client, \u001b[38;5;28mself\u001b[39m\u001b[38;5;241m.\u001b[39mtarget_id, \u001b[38;5;28mself\u001b[39m\u001b[38;5;241m.\u001b[39mname)\n\u001b[1;32m   1325\u001b[0m \u001b[38;5;28;01mfor\u001b[39;00m temp_arg \u001b[38;5;129;01min\u001b[39;00m temp_args:\n",
      "File \u001b[0;32m~/.local/lib/python3.10/site-packages/py4j/java_gateway.py:1038\u001b[0m, in \u001b[0;36mGatewayClient.send_command\u001b[0;34m(self, command, retry, binary)\u001b[0m\n\u001b[1;32m   1036\u001b[0m connection \u001b[38;5;241m=\u001b[39m \u001b[38;5;28mself\u001b[39m\u001b[38;5;241m.\u001b[39m_get_connection()\n\u001b[1;32m   1037\u001b[0m \u001b[38;5;28;01mtry\u001b[39;00m:\n\u001b[0;32m-> 1038\u001b[0m     response \u001b[38;5;241m=\u001b[39m \u001b[43mconnection\u001b[49m\u001b[38;5;241;43m.\u001b[39;49m\u001b[43msend_command\u001b[49m\u001b[43m(\u001b[49m\u001b[43mcommand\u001b[49m\u001b[43m)\u001b[49m\n\u001b[1;32m   1039\u001b[0m     \u001b[38;5;28;01mif\u001b[39;00m binary:\n\u001b[1;32m   1040\u001b[0m         \u001b[38;5;28;01mreturn\u001b[39;00m response, \u001b[38;5;28mself\u001b[39m\u001b[38;5;241m.\u001b[39m_create_connection_guard(connection)\n",
      "File \u001b[0;32m~/.local/lib/python3.10/site-packages/py4j/clientserver.py:511\u001b[0m, in \u001b[0;36mClientServerConnection.send_command\u001b[0;34m(self, command)\u001b[0m\n\u001b[1;32m    509\u001b[0m \u001b[38;5;28;01mtry\u001b[39;00m:\n\u001b[1;32m    510\u001b[0m     \u001b[38;5;28;01mwhile\u001b[39;00m \u001b[38;5;28;01mTrue\u001b[39;00m:\n\u001b[0;32m--> 511\u001b[0m         answer \u001b[38;5;241m=\u001b[39m smart_decode(\u001b[38;5;28;43mself\u001b[39;49m\u001b[38;5;241;43m.\u001b[39;49m\u001b[43mstream\u001b[49m\u001b[38;5;241;43m.\u001b[39;49m\u001b[43mreadline\u001b[49m\u001b[43m(\u001b[49m\u001b[43m)\u001b[49m[:\u001b[38;5;241m-\u001b[39m\u001b[38;5;241m1\u001b[39m])\n\u001b[1;32m    512\u001b[0m         logger\u001b[38;5;241m.\u001b[39mdebug(\u001b[38;5;124m\"\u001b[39m\u001b[38;5;124mAnswer received: \u001b[39m\u001b[38;5;132;01m{0}\u001b[39;00m\u001b[38;5;124m\"\u001b[39m\u001b[38;5;241m.\u001b[39mformat(answer))\n\u001b[1;32m    513\u001b[0m         \u001b[38;5;66;03m# Happens when a the other end is dead. There might be an empty\u001b[39;00m\n\u001b[1;32m    514\u001b[0m         \u001b[38;5;66;03m# answer before the socket raises an error.\u001b[39;00m\n",
      "File \u001b[0;32m/usr/lib/python3.10/socket.py:705\u001b[0m, in \u001b[0;36mSocketIO.readinto\u001b[0;34m(self, b)\u001b[0m\n\u001b[1;32m    703\u001b[0m \u001b[38;5;28;01mwhile\u001b[39;00m \u001b[38;5;28;01mTrue\u001b[39;00m:\n\u001b[1;32m    704\u001b[0m     \u001b[38;5;28;01mtry\u001b[39;00m:\n\u001b[0;32m--> 705\u001b[0m         \u001b[38;5;28;01mreturn\u001b[39;00m \u001b[38;5;28;43mself\u001b[39;49m\u001b[38;5;241;43m.\u001b[39;49m\u001b[43m_sock\u001b[49m\u001b[38;5;241;43m.\u001b[39;49m\u001b[43mrecv_into\u001b[49m\u001b[43m(\u001b[49m\u001b[43mb\u001b[49m\u001b[43m)\u001b[49m\n\u001b[1;32m    706\u001b[0m     \u001b[38;5;28;01mexcept\u001b[39;00m timeout:\n\u001b[1;32m    707\u001b[0m         \u001b[38;5;28mself\u001b[39m\u001b[38;5;241m.\u001b[39m_timeout_occurred \u001b[38;5;241m=\u001b[39m \u001b[38;5;28;01mTrue\u001b[39;00m\n",
      "\u001b[0;31mKeyboardInterrupt\u001b[0m: "
     ]
    },
    {
     "name": "stderr",
     "output_type": "stream",
     "text": [
      "[Stage 855:=======================>                            (327 + 15) / 719]\r"
     ]
    }
   ],
   "source": [
    "import time\n",
    "import matplotlib.pyplot as plt\n",
    "import pandas as pd\n",
    "from pyspark.sql.types import StructType, StructField, StringType\n",
    "\n",
    "\n",
    "tables = [\n",
    "    \"zorder_eventid_table_2\",\n",
    "    \"zorder_eventid_table_4\",\n",
    "    \"zorder_eventid_table_8\",\n",
    "    \"zorder_eventid_actorid_table_2\",\n",
    "    \"zorder_eventid_actorid_table_4\",\n",
    "    \"zorder_eventid_actorid_table_8\"\n",
    "]\n",
    "\n",
    "\n",
    "num_executions = 5\n",
    "\n",
    "def measure_execution_time(query):\n",
    "    spark.catalog.clearCache()\n",
    "    start_time = time.time()\n",
    "    spark.sql(query).show() \n",
    "    end_time = time.time()\n",
    "    return end_time - start_time\n",
    "\n",
    "execution_times = {table: [] for table in tables}\n",
    "\n",
    "for table in tables:\n",
    "    for _ in range(num_executions):\n",
    "        query = f\"\"\"\n",
    "        SELECT\n",
    "            product_dim.product_name,\n",
    "            location_dim.city,\n",
    "            location_dim.state,\n",
    "            location_dim.country,\n",
    "            SUM({table}.value) AS total_value,\n",
    "            COUNT({table}.event_id) AS event_count\n",
    "        FROM\n",
    "            {table}\n",
    "        JOIN\n",
    "            product_dim ON {table}.product_id = product_dim.product_id\n",
    "        JOIN\n",
    "            location_dim ON {table}.location_id = location_dim.location_id\n",
    "        WHERE\n",
    "            {table}.event_id BETWEEN 459999 AND 999999  \n",
    "            AND {table}.actor_id IN (5001, 5002, 5003)  \n",
    "        GROUP BY\n",
    "            product_dim.product_name,\n",
    "            location_dim.city,\n",
    "            location_dim.state,\n",
    "            location_dim.country\n",
    "        ORDER BY\n",
    "            total_value DESC;\"\"\"\n",
    "        \n",
    "        try:\n",
    "            execution_time = measure_execution_time(query)\n",
    "            print(f\"{table}: {execution_time} seconds\")\n",
    "            execution_times[table].append(execution_time)\n",
    "        except Exception as e:\n",
    "            print(f\"Error for table {table}: {e}\")\n",
    "\n",
    "average_times = {table: sum(times) / num_executions for table, times in execution_times.items()}\n",
    "\n",
    "df = pd.DataFrame(list(average_times.items()), columns=[\"Table\", \"Average Execution Time\"])\n",
    "print(df)\n",
    "\n",
    "plt.figure(figsize=(12, 6))\n",
    "plt.bar(df[\"Table\"], df[\"Average Execution Time\"], color='skyblue')\n",
    "plt.xlabel('Table Name')\n",
    "plt.ylabel('Average Execution Time (seconds)')\n",
    "plt.title('Average Query Execution Time for Each Table')\n",
    "plt.xticks(rotation=45)\n",
    "plt.tight_layout()\n",
    "plt.show()\n"
   ]
  },
  {
   "cell_type": "code",
   "execution_count": 5,
   "id": "937fceda-ce7a-4221-96b3-6f4a271030a4",
   "metadata": {},
   "outputs": [
    {
     "name": "stderr",
     "output_type": "stream",
     "text": [
      "                                                                                \r"
     ]
    },
    {
     "name": "stdout",
     "output_type": "stream",
     "text": [
      "+------------+------------+-----+-------+------------------+-----------+\n",
      "|product_name|        city|state|country|       total_value|event_count|\n",
      "+------------+------------+-----+-------+------------------+-----------+\n",
      "|   Product G| San Antonio|   TX|    USA|16325.645384546513|      32631|\n",
      "|   Product A|    New York|   NY|    USA|16293.041773393486|      32485|\n",
      "|   Product B| Los Angeles|   CA|    USA|16260.506950983134|      32449|\n",
      "|   Product F|Philadelphia|   PA|    USA|16259.047580883309|      32521|\n",
      "|   Product H|   San Diego|   CA|    USA|16238.377853609752|      32430|\n",
      "|   Product I|      Dallas|   TX|    USA|16214.700816333423|      32415|\n",
      "|   Product C|     Chicago|   IL|    USA|16212.334961552868|      32367|\n",
      "|   Product J|    San Jose|   CA|    USA| 16205.66811772501|      32434|\n",
      "|   Product D|     Houston|   TX|    USA| 16115.73627295299|      32344|\n",
      "|   Product E|     Phoenix|   AZ|    USA|15993.698453536641|      31985|\n",
      "+------------+------------+-----+-------+------------------+-----------+\n",
      "\n",
      "zorder_eventid_table_2: 23.286864042282104 seconds\n"
     ]
    },
    {
     "name": "stderr",
     "output_type": "stream",
     "text": [
      "                                                                                \r"
     ]
    },
    {
     "name": "stdout",
     "output_type": "stream",
     "text": [
      "+------------+------------+-----+-------+------------------+-----------+\n",
      "|product_name|        city|state|country|       total_value|event_count|\n",
      "+------------+------------+-----+-------+------------------+-----------+\n",
      "|   Product G| San Antonio|   TX|    USA|16325.645384546513|      32631|\n",
      "|   Product A|    New York|   NY|    USA|16293.041773393494|      32485|\n",
      "|   Product B| Los Angeles|   CA|    USA|16260.506950983134|      32449|\n",
      "|   Product F|Philadelphia|   PA|    USA|  16259.0475808833|      32521|\n",
      "|   Product H|   San Diego|   CA|    USA|16238.377853609763|      32430|\n",
      "|   Product I|      Dallas|   TX|    USA| 16214.70081633342|      32415|\n",
      "|   Product C|     Chicago|   IL|    USA| 16212.33496155287|      32367|\n",
      "|   Product J|    San Jose|   CA|    USA|16205.668117725018|      32434|\n",
      "|   Product D|     Houston|   TX|    USA|16115.736272952994|      32344|\n",
      "|   Product E|     Phoenix|   AZ|    USA|15993.698453536641|      31985|\n",
      "+------------+------------+-----+-------+------------------+-----------+\n",
      "\n",
      "zorder_eventid_table_2: 23.979117393493652 seconds\n"
     ]
    },
    {
     "name": "stderr",
     "output_type": "stream",
     "text": [
      "                                                                                \r"
     ]
    },
    {
     "name": "stdout",
     "output_type": "stream",
     "text": [
      "+------------+------------+-----+-------+------------------+-----------+\n",
      "|product_name|        city|state|country|       total_value|event_count|\n",
      "+------------+------------+-----+-------+------------------+-----------+\n",
      "|   Product G| San Antonio|   TX|    USA| 16325.64538454652|      32631|\n",
      "|   Product A|    New York|   NY|    USA|16293.041773393483|      32485|\n",
      "|   Product B| Los Angeles|   CA|    USA|16260.506950983126|      32449|\n",
      "|   Product F|Philadelphia|   PA|    USA|16259.047580883305|      32521|\n",
      "|   Product H|   San Diego|   CA|    USA|16238.377853609754|      32430|\n",
      "|   Product I|      Dallas|   TX|    USA| 16214.70081633342|      32415|\n",
      "|   Product C|     Chicago|   IL|    USA|16212.334961552864|      32367|\n",
      "|   Product J|    San Jose|   CA|    USA|16205.668117725007|      32434|\n",
      "|   Product D|     Houston|   TX|    USA|16115.736272952987|      32344|\n",
      "|   Product E|     Phoenix|   AZ|    USA|15993.698453536645|      31985|\n",
      "+------------+------------+-----+-------+------------------+-----------+\n",
      "\n",
      "zorder_eventid_table_2: 22.608646154403687 seconds\n"
     ]
    },
    {
     "name": "stderr",
     "output_type": "stream",
     "text": [
      "                                                                                \r"
     ]
    },
    {
     "name": "stdout",
     "output_type": "stream",
     "text": [
      "+------------+------------+-----+-------+------------------+-----------+\n",
      "|product_name|        city|state|country|       total_value|event_count|\n",
      "+------------+------------+-----+-------+------------------+-----------+\n",
      "|   Product G| San Antonio|   TX|    USA|16325.645384546515|      32631|\n",
      "|   Product A|    New York|   NY|    USA| 16293.04177339349|      32485|\n",
      "|   Product B| Los Angeles|   CA|    USA|16260.506950983137|      32449|\n",
      "|   Product F|Philadelphia|   PA|    USA|16259.047580883298|      32521|\n",
      "|   Product H|   San Diego|   CA|    USA|16238.377853609754|      32430|\n",
      "|   Product I|      Dallas|   TX|    USA|16214.700816333423|      32415|\n",
      "|   Product C|     Chicago|   IL|    USA|16212.334961552871|      32367|\n",
      "|   Product J|    San Jose|   CA|    USA|16205.668117725003|      32434|\n",
      "|   Product D|     Houston|   TX|    USA|16115.736272952992|      32344|\n",
      "|   Product E|     Phoenix|   AZ|    USA|15993.698453536645|      31985|\n",
      "+------------+------------+-----+-------+------------------+-----------+\n",
      "\n",
      "zorder_eventid_table_2: 22.7457332611084 seconds\n"
     ]
    },
    {
     "name": "stderr",
     "output_type": "stream",
     "text": [
      "                                                                                \r"
     ]
    },
    {
     "name": "stdout",
     "output_type": "stream",
     "text": [
      "+------------+------------+-----+-------+------------------+-----------+\n",
      "|product_name|        city|state|country|       total_value|event_count|\n",
      "+------------+------------+-----+-------+------------------+-----------+\n",
      "|   Product G| San Antonio|   TX|    USA| 16325.64538454652|      32631|\n",
      "|   Product A|    New York|   NY|    USA| 16293.04177339349|      32485|\n",
      "|   Product B| Los Angeles|   CA|    USA|16260.506950983125|      32449|\n",
      "|   Product F|Philadelphia|   PA|    USA|16259.047580883302|      32521|\n",
      "|   Product H|   San Diego|   CA|    USA|16238.377853609758|      32430|\n",
      "|   Product I|      Dallas|   TX|    USA|16214.700816333421|      32415|\n",
      "|   Product C|     Chicago|   IL|    USA|16212.334961552871|      32367|\n",
      "|   Product J|    San Jose|   CA|    USA|   16205.668117725|      32434|\n",
      "|   Product D|     Houston|   TX|    USA| 16115.73627295299|      32344|\n",
      "|   Product E|     Phoenix|   AZ|    USA| 15993.69845353664|      31985|\n",
      "+------------+------------+-----+-------+------------------+-----------+\n",
      "\n",
      "zorder_eventid_table_2: 22.545783042907715 seconds\n"
     ]
    },
    {
     "name": "stderr",
     "output_type": "stream",
     "text": [
      "                                                                                \r"
     ]
    },
    {
     "name": "stdout",
     "output_type": "stream",
     "text": [
      "+------------+------------+-----+-------+------------------+-----------+\n",
      "|product_name|        city|state|country|       total_value|event_count|\n",
      "+------------+------------+-----+-------+------------------+-----------+\n",
      "|   Product G| San Antonio|   TX|    USA|16325.645384546513|      32631|\n",
      "|   Product A|    New York|   NY|    USA|16293.041773393485|      32485|\n",
      "|   Product B| Los Angeles|   CA|    USA| 16260.50695098313|      32449|\n",
      "|   Product F|Philadelphia|   PA|    USA|16259.047580883309|      32521|\n",
      "|   Product H|   San Diego|   CA|    USA|16238.377853609758|      32430|\n",
      "|   Product I|      Dallas|   TX|    USA|16214.700816333421|      32415|\n",
      "|   Product C|     Chicago|   IL|    USA|16212.334961552868|      32367|\n",
      "|   Product J|    San Jose|   CA|    USA| 16205.66811772501|      32434|\n",
      "|   Product D|     Houston|   TX|    USA|16115.736272952998|      32344|\n",
      "|   Product E|     Phoenix|   AZ|    USA|15993.698453536645|      31985|\n",
      "+------------+------------+-----+-------+------------------+-----------+\n",
      "\n",
      "zorder_eventid_table_2: 22.632675170898438 seconds\n"
     ]
    },
    {
     "name": "stderr",
     "output_type": "stream",
     "text": [
      "                                                                                \r"
     ]
    },
    {
     "name": "stdout",
     "output_type": "stream",
     "text": [
      "+------------+------------+-----+-------+------------------+-----------+\n",
      "|product_name|        city|state|country|       total_value|event_count|\n",
      "+------------+------------+-----+-------+------------------+-----------+\n",
      "|   Product G| San Antonio|   TX|    USA|16325.645384546513|      32631|\n",
      "|   Product A|    New York|   NY|    USA|16293.041773393488|      32485|\n",
      "|   Product B| Los Angeles|   CA|    USA|16260.506950983128|      32449|\n",
      "|   Product F|Philadelphia|   PA|    USA|16259.047580883303|      32521|\n",
      "|   Product H|   San Diego|   CA|    USA|16238.377853609758|      32430|\n",
      "|   Product I|      Dallas|   TX|    USA|16214.700816333414|      32415|\n",
      "|   Product C|     Chicago|   IL|    USA|16212.334961552862|      32367|\n",
      "|   Product J|    San Jose|   CA|    USA|16205.668117725007|      32434|\n",
      "|   Product D|     Houston|   TX|    USA| 16115.73627295299|      32344|\n",
      "|   Product E|     Phoenix|   AZ|    USA|15993.698453536635|      31985|\n",
      "+------------+------------+-----+-------+------------------+-----------+\n",
      "\n",
      "zorder_eventid_table_2: 22.363526821136475 seconds\n"
     ]
    },
    {
     "name": "stderr",
     "output_type": "stream",
     "text": [
      "                                                                                \r"
     ]
    },
    {
     "name": "stdout",
     "output_type": "stream",
     "text": [
      "+------------+------------+-----+-------+------------------+-----------+\n",
      "|product_name|        city|state|country|       total_value|event_count|\n",
      "+------------+------------+-----+-------+------------------+-----------+\n",
      "|   Product G| San Antonio|   TX|    USA|16325.645384546508|      32631|\n",
      "|   Product A|    New York|   NY|    USA|16293.041773393483|      32485|\n",
      "|   Product B| Los Angeles|   CA|    USA| 16260.50695098313|      32449|\n",
      "|   Product F|Philadelphia|   PA|    USA|16259.047580883313|      32521|\n",
      "|   Product H|   San Diego|   CA|    USA|16238.377853609762|      32430|\n",
      "|   Product I|      Dallas|   TX|    USA|16214.700816333414|      32415|\n",
      "|   Product C|     Chicago|   IL|    USA|16212.334961552868|      32367|\n",
      "|   Product J|    San Jose|   CA|    USA|16205.668117725012|      32434|\n",
      "|   Product D|     Houston|   TX|    USA| 16115.73627295299|      32344|\n",
      "|   Product E|     Phoenix|   AZ|    USA|15993.698453536648|      31985|\n",
      "+------------+------------+-----+-------+------------------+-----------+\n",
      "\n",
      "zorder_eventid_table_2: 22.525790691375732 seconds\n"
     ]
    },
    {
     "name": "stderr",
     "output_type": "stream",
     "text": [
      "                                                                                \r"
     ]
    },
    {
     "name": "stdout",
     "output_type": "stream",
     "text": [
      "+------------+------------+-----+-------+------------------+-----------+\n",
      "|product_name|        city|state|country|       total_value|event_count|\n",
      "+------------+------------+-----+-------+------------------+-----------+\n",
      "|   Product G| San Antonio|   TX|    USA|16325.645384546515|      32631|\n",
      "|   Product A|    New York|   NY|    USA| 16293.04177339348|      32485|\n",
      "|   Product B| Los Angeles|   CA|    USA|16260.506950983128|      32449|\n",
      "|   Product F|Philadelphia|   PA|    USA|  16259.0475808833|      32521|\n",
      "|   Product H|   San Diego|   CA|    USA|16238.377853609756|      32430|\n",
      "|   Product I|      Dallas|   TX|    USA|16214.700816333416|      32415|\n",
      "|   Product C|     Chicago|   IL|    USA|16212.334961552868|      32367|\n",
      "|   Product J|    San Jose|   CA|    USA|16205.668117725008|      32434|\n",
      "|   Product D|     Houston|   TX|    USA|16115.736272952989|      32344|\n",
      "|   Product E|     Phoenix|   AZ|    USA|15993.698453536641|      31985|\n",
      "+------------+------------+-----+-------+------------------+-----------+\n",
      "\n",
      "zorder_eventid_table_2: 22.840569257736206 seconds\n"
     ]
    },
    {
     "name": "stderr",
     "output_type": "stream",
     "text": [
      "[Stage 333:====================================================>(176 + 2) / 178]\r"
     ]
    },
    {
     "name": "stdout",
     "output_type": "stream",
     "text": [
      "+------------+------------+-----+-------+------------------+-----------+\n",
      "|product_name|        city|state|country|       total_value|event_count|\n",
      "+------------+------------+-----+-------+------------------+-----------+\n",
      "|   Product G| San Antonio|   TX|    USA| 16325.64538454651|      32631|\n",
      "|   Product A|    New York|   NY|    USA|16293.041773393488|      32485|\n",
      "|   Product B| Los Angeles|   CA|    USA|16260.506950983126|      32449|\n",
      "|   Product F|Philadelphia|   PA|    USA|16259.047580883307|      32521|\n",
      "|   Product H|   San Diego|   CA|    USA|16238.377853609758|      32430|\n",
      "|   Product I|      Dallas|   TX|    USA|16214.700816333414|      32415|\n",
      "|   Product C|     Chicago|   IL|    USA|16212.334961552871|      32367|\n",
      "|   Product J|    San Jose|   CA|    USA|16205.668117725012|      32434|\n",
      "|   Product D|     Houston|   TX|    USA|16115.736272952994|      32344|\n",
      "|   Product E|     Phoenix|   AZ|    USA|15993.698453536637|      31985|\n",
      "+------------+------------+-----+-------+------------------+-----------+\n",
      "\n",
      "zorder_eventid_table_2: 22.491729974746704 seconds\n",
      "{'zorder_eventid_table_2': 22.80204358100891}\n"
     ]
    },
    {
     "name": "stderr",
     "output_type": "stream",
     "text": [
      "                                                                                \r"
     ]
    }
   ],
   "source": [
    "import time\n",
    "import matplotlib.pyplot as plt\n",
    "import pandas as pd\n",
    "from pyspark.sql.types import StructType, StructField, StringType\n",
    "\n",
    "\n",
    "tables = [\n",
    "    \"zorder_eventid_table_2\"\n",
    "]\n",
    "\n",
    "\n",
    "num_executions = 10\n",
    "\n",
    "def measure_execution_time(query):\n",
    "    spark.catalog.clearCache()\n",
    "    start_time = time.time()\n",
    "    spark.sql(query).show() \n",
    "    end_time = time.time()\n",
    "    return end_time - start_time\n",
    "\n",
    "execution_times = {table: [] for table in tables}\n",
    "\n",
    "for table in tables:\n",
    "    for _ in range(num_executions):\n",
    "        query = f\"\"\"\n",
    "        SELECT\n",
    "            product_dim.product_name,\n",
    "            location_dim.city,\n",
    "            location_dim.state,\n",
    "            location_dim.country,\n",
    "            SUM({table}.value) AS total_value,\n",
    "            COUNT({table}.event_id) AS event_count\n",
    "        FROM\n",
    "            {table}\n",
    "        JOIN\n",
    "            product_dim ON {table}.product_id = product_dim.product_id\n",
    "        JOIN\n",
    "            location_dim ON {table}.location_id = location_dim.location_id\n",
    "        WHERE\n",
    "            {table}.event_id BETWEEN 459999 AND 999999  \n",
    "            AND {table}.actor_id IN (5001, 5002, 5003)  \n",
    "        GROUP BY\n",
    "            product_dim.product_name,\n",
    "            location_dim.city,\n",
    "            location_dim.state,\n",
    "            location_dim.country\n",
    "        ORDER BY\n",
    "            total_value DESC;\"\"\"\n",
    "        \n",
    "        try:\n",
    "            execution_time = measure_execution_time(query)\n",
    "            print(f\"{table}: {execution_time} seconds\")\n",
    "            execution_times[table].append(execution_time)\n",
    "        except Exception as e:\n",
    "            print(f\"Error for table {table}: {e}\")\n",
    "\n",
    "average_times = {table: sum(times) / num_executions for table, times in execution_times.items()}\n",
    "print(average_times)\n"
   ]
  },
  {
   "cell_type": "code",
   "execution_count": 4,
   "id": "deb47c21-6c37-40fa-9749-421ffdb4be0c",
   "metadata": {},
   "outputs": [
    {
     "name": "stderr",
     "output_type": "stream",
     "text": [
      "                                                                                \r"
     ]
    },
    {
     "name": "stdout",
     "output_type": "stream",
     "text": [
      "+------------+------------+-----+-------+------------------+-----------+\n",
      "|product_name|        city|state|country|       total_value|event_count|\n",
      "+------------+------------+-----+-------+------------------+-----------+\n",
      "|   Product G| San Antonio|   TX|    USA|16325.645384546522|      32631|\n",
      "|   Product A|    New York|   NY|    USA|16293.041773393494|      32485|\n",
      "|   Product B| Los Angeles|   CA|    USA|16260.506950983132|      32449|\n",
      "|   Product F|Philadelphia|   PA|    USA|16259.047580883305|      32521|\n",
      "|   Product H|   San Diego|   CA|    USA| 16238.37785360976|      32430|\n",
      "|   Product I|      Dallas|   TX|    USA|16214.700816333425|      32415|\n",
      "|   Product C|     Chicago|   IL|    USA|16212.334961552875|      32367|\n",
      "|   Product J|    San Jose|   CA|    USA|16205.668117725007|      32434|\n",
      "|   Product D|     Houston|   TX|    USA|16115.736272952989|      32344|\n",
      "|   Product E|     Phoenix|   AZ|    USA|15993.698453536645|      31985|\n",
      "+------------+------------+-----+-------+------------------+-----------+\n",
      "\n",
      "zorder_eventid_table_2: 23.320268154144287 seconds\n"
     ]
    },
    {
     "name": "stderr",
     "output_type": "stream",
     "text": [
      "                                                                                \r"
     ]
    },
    {
     "name": "stdout",
     "output_type": "stream",
     "text": [
      "+------------+------------+-----+-------+------------------+-----------+\n",
      "|product_name|        city|state|country|       total_value|event_count|\n",
      "+------------+------------+-----+-------+------------------+-----------+\n",
      "|   Product G| San Antonio|   TX|    USA|16325.645384546515|      32631|\n",
      "|   Product A|    New York|   NY|    USA| 16293.04177339348|      32485|\n",
      "|   Product B| Los Angeles|   CA|    USA| 16260.50695098313|      32449|\n",
      "|   Product F|Philadelphia|   PA|    USA|16259.047580883305|      32521|\n",
      "|   Product H|   San Diego|   CA|    USA|16238.377853609763|      32430|\n",
      "|   Product I|      Dallas|   TX|    USA|16214.700816333427|      32415|\n",
      "|   Product C|     Chicago|   IL|    USA|16212.334961552868|      32367|\n",
      "|   Product J|    San Jose|   CA|    USA|16205.668117725012|      32434|\n",
      "|   Product D|     Houston|   TX|    USA|16115.736272952992|      32344|\n",
      "|   Product E|     Phoenix|   AZ|    USA| 15993.69845353664|      31985|\n",
      "+------------+------------+-----+-------+------------------+-----------+\n",
      "\n",
      "zorder_eventid_table_2: 22.738220691680908 seconds\n"
     ]
    },
    {
     "name": "stderr",
     "output_type": "stream",
     "text": [
      "                                                                                \r"
     ]
    },
    {
     "name": "stdout",
     "output_type": "stream",
     "text": [
      "+------------+------------+-----+-------+------------------+-----------+\n",
      "|product_name|        city|state|country|       total_value|event_count|\n",
      "+------------+------------+-----+-------+------------------+-----------+\n",
      "|   Product G| San Antonio|   TX|    USA|16325.645384546518|      32631|\n",
      "|   Product A|    New York|   NY|    USA|16293.041773393485|      32485|\n",
      "|   Product B| Los Angeles|   CA|    USA|16260.506950983128|      32449|\n",
      "|   Product F|Philadelphia|   PA|    USA|16259.047580883302|      32521|\n",
      "|   Product H|   San Diego|   CA|    USA|16238.377853609758|      32430|\n",
      "|   Product I|      Dallas|   TX|    USA|16214.700816333418|      32415|\n",
      "|   Product C|     Chicago|   IL|    USA|16212.334961552875|      32367|\n",
      "|   Product J|    San Jose|   CA|    USA|16205.668117725008|      32434|\n",
      "|   Product D|     Houston|   TX|    USA|16115.736272952989|      32344|\n",
      "|   Product E|     Phoenix|   AZ|    USA|15993.698453536643|      31985|\n",
      "+------------+------------+-----+-------+------------------+-----------+\n",
      "\n",
      "zorder_eventid_table_2: 22.261163473129272 seconds\n"
     ]
    },
    {
     "name": "stderr",
     "output_type": "stream",
     "text": [
      "                                                                                \r"
     ]
    },
    {
     "name": "stdout",
     "output_type": "stream",
     "text": [
      "+------------+------------+-----+-------+------------------+-----------+\n",
      "|product_name|        city|state|country|       total_value|event_count|\n",
      "+------------+------------+-----+-------+------------------+-----------+\n",
      "|   Product G| San Antonio|   TX|    USA|16325.645384546517|      32631|\n",
      "|   Product A|    New York|   NY|    USA|16293.041773393486|      32485|\n",
      "|   Product B| Los Angeles|   CA|    USA|16260.506950983134|      32449|\n",
      "|   Product F|Philadelphia|   PA|    USA|16259.047580883307|      32521|\n",
      "|   Product H|   San Diego|   CA|    USA|16238.377853609758|      32430|\n",
      "|   Product I|      Dallas|   TX|    USA|16214.700816333418|      32415|\n",
      "|   Product C|     Chicago|   IL|    USA|16212.334961552862|      32367|\n",
      "|   Product J|    San Jose|   CA|    USA|16205.668117725012|      32434|\n",
      "|   Product D|     Houston|   TX|    USA|16115.736272952989|      32344|\n",
      "|   Product E|     Phoenix|   AZ|    USA|15993.698453536645|      31985|\n",
      "+------------+------------+-----+-------+------------------+-----------+\n",
      "\n",
      "zorder_eventid_table_2: 22.615946769714355 seconds\n"
     ]
    },
    {
     "name": "stderr",
     "output_type": "stream",
     "text": [
      "                                                                                \r"
     ]
    },
    {
     "name": "stdout",
     "output_type": "stream",
     "text": [
      "+------------+------------+-----+-------+------------------+-----------+\n",
      "|product_name|        city|state|country|       total_value|event_count|\n",
      "+------------+------------+-----+-------+------------------+-----------+\n",
      "|   Product G| San Antonio|   TX|    USA|16325.645384546513|      32631|\n",
      "|   Product A|    New York|   NY|    USA|16293.041773393492|      32485|\n",
      "|   Product B| Los Angeles|   CA|    USA|16260.506950983125|      32449|\n",
      "|   Product F|Philadelphia|   PA|    USA|16259.047580883302|      32521|\n",
      "|   Product H|   San Diego|   CA|    USA|16238.377853609747|      32430|\n",
      "|   Product I|      Dallas|   TX|    USA|16214.700816333423|      32415|\n",
      "|   Product C|     Chicago|   IL|    USA| 16212.33496155286|      32367|\n",
      "|   Product J|    San Jose|   CA|    USA|16205.668117725008|      32434|\n",
      "|   Product D|     Houston|   TX|    USA|16115.736272952992|      32344|\n",
      "|   Product E|     Phoenix|   AZ|    USA| 15993.69845353664|      31985|\n",
      "+------------+------------+-----+-------+------------------+-----------+\n",
      "\n",
      "zorder_eventid_table_2: 22.55669140815735 seconds\n"
     ]
    },
    {
     "name": "stderr",
     "output_type": "stream",
     "text": [
      "                                                                                \r"
     ]
    },
    {
     "name": "stdout",
     "output_type": "stream",
     "text": [
      "+------------+------------+-----+-------+------------------+-----------+\n",
      "|product_name|        city|state|country|       total_value|event_count|\n",
      "+------------+------------+-----+-------+------------------+-----------+\n",
      "|   Product G| San Antonio|   TX|    USA|16325.645384546511|      32631|\n",
      "|   Product A|    New York|   NY|    USA|16293.041773393486|      32485|\n",
      "|   Product B| Los Angeles|   CA|    USA|16260.506950983128|      32449|\n",
      "|   Product F|Philadelphia|   PA|    USA|16259.047580883298|      32521|\n",
      "|   Product H|   San Diego|   CA|    USA|16238.377853609762|      32430|\n",
      "|   Product I|      Dallas|   TX|    USA|16214.700816333421|      32415|\n",
      "|   Product C|     Chicago|   IL|    USA| 16212.33496155287|      32367|\n",
      "|   Product J|    San Jose|   CA|    USA|16205.668117725012|      32434|\n",
      "|   Product D|     Houston|   TX|    USA| 16115.73627295299|      32344|\n",
      "|   Product E|     Phoenix|   AZ|    USA|15993.698453536637|      31985|\n",
      "+------------+------------+-----+-------+------------------+-----------+\n",
      "\n",
      "zorder_eventid_table_2: 22.874922275543213 seconds\n"
     ]
    },
    {
     "name": "stderr",
     "output_type": "stream",
     "text": [
      "                                                                                \r"
     ]
    },
    {
     "name": "stdout",
     "output_type": "stream",
     "text": [
      "+------------+------------+-----+-------+------------------+-----------+\n",
      "|product_name|        city|state|country|       total_value|event_count|\n",
      "+------------+------------+-----+-------+------------------+-----------+\n",
      "|   Product G| San Antonio|   TX|    USA|16325.645384546513|      32631|\n",
      "|   Product A|    New York|   NY|    USA|16293.041773393483|      32485|\n",
      "|   Product B| Los Angeles|   CA|    USA|16260.506950983136|      32449|\n",
      "|   Product F|Philadelphia|   PA|    USA|16259.047580883294|      32521|\n",
      "|   Product H|   San Diego|   CA|    USA|16238.377853609754|      32430|\n",
      "|   Product I|      Dallas|   TX|    USA|16214.700816333425|      32415|\n",
      "|   Product C|     Chicago|   IL|    USA|16212.334961552866|      32367|\n",
      "|   Product J|    San Jose|   CA|    USA|16205.668117725008|      32434|\n",
      "|   Product D|     Houston|   TX|    USA|16115.736272952992|      32344|\n",
      "|   Product E|     Phoenix|   AZ|    USA|15993.698453536645|      31985|\n",
      "+------------+------------+-----+-------+------------------+-----------+\n",
      "\n",
      "zorder_eventid_table_2: 22.8943989276886 seconds\n"
     ]
    },
    {
     "name": "stderr",
     "output_type": "stream",
     "text": [
      "                                                                                \r"
     ]
    },
    {
     "name": "stdout",
     "output_type": "stream",
     "text": [
      "+------------+------------+-----+-------+------------------+-----------+\n",
      "|product_name|        city|state|country|       total_value|event_count|\n",
      "+------------+------------+-----+-------+------------------+-----------+\n",
      "|   Product G| San Antonio|   TX|    USA|16325.645384546513|      32631|\n",
      "|   Product A|    New York|   NY|    USA|16293.041773393483|      32485|\n",
      "|   Product B| Los Angeles|   CA|    USA|16260.506950983128|      32449|\n",
      "|   Product F|Philadelphia|   PA|    USA| 16259.04758088331|      32521|\n",
      "|   Product H|   San Diego|   CA|    USA|16238.377853609763|      32430|\n",
      "|   Product I|      Dallas|   TX|    USA|16214.700816333425|      32415|\n",
      "|   Product C|     Chicago|   IL|    USA|16212.334961552875|      32367|\n",
      "|   Product J|    San Jose|   CA|    USA|16205.668117725007|      32434|\n",
      "|   Product D|     Houston|   TX|    USA|16115.736272952996|      32344|\n",
      "|   Product E|     Phoenix|   AZ|    USA|15993.698453536634|      31985|\n",
      "+------------+------------+-----+-------+------------------+-----------+\n",
      "\n",
      "zorder_eventid_table_2: 22.43939709663391 seconds\n"
     ]
    },
    {
     "name": "stderr",
     "output_type": "stream",
     "text": [
      "                                                                                \r"
     ]
    },
    {
     "name": "stdout",
     "output_type": "stream",
     "text": [
      "+------------+------------+-----+-------+------------------+-----------+\n",
      "|product_name|        city|state|country|       total_value|event_count|\n",
      "+------------+------------+-----+-------+------------------+-----------+\n",
      "|   Product G| San Antonio|   TX|    USA|16325.645384546515|      32631|\n",
      "|   Product A|    New York|   NY|    USA|16293.041773393485|      32485|\n",
      "|   Product B| Los Angeles|   CA|    USA| 16260.50695098313|      32449|\n",
      "|   Product F|Philadelphia|   PA|    USA|16259.047580883309|      32521|\n",
      "|   Product H|   San Diego|   CA|    USA|16238.377853609758|      32430|\n",
      "|   Product I|      Dallas|   TX|    USA|16214.700816333416|      32415|\n",
      "|   Product C|     Chicago|   IL|    USA| 16212.33496155286|      32367|\n",
      "|   Product J|    San Jose|   CA|    USA|16205.668117725007|      32434|\n",
      "|   Product D|     Houston|   TX|    USA|16115.736272952978|      32344|\n",
      "|   Product E|     Phoenix|   AZ|    USA|15993.698453536648|      31985|\n",
      "+------------+------------+-----+-------+------------------+-----------+\n",
      "\n",
      "zorder_eventid_table_2: 22.25293493270874 seconds\n"
     ]
    },
    {
     "name": "stderr",
     "output_type": "stream",
     "text": [
      "[Stage 223:====================================================>(176 + 2) / 178]\r"
     ]
    },
    {
     "name": "stdout",
     "output_type": "stream",
     "text": [
      "+------------+------------+-----+-------+------------------+-----------+\n",
      "|product_name|        city|state|country|       total_value|event_count|\n",
      "+------------+------------+-----+-------+------------------+-----------+\n",
      "|   Product G| San Antonio|   TX|    USA|16325.645384546515|      32631|\n",
      "|   Product A|    New York|   NY|    USA|16293.041773393485|      32485|\n",
      "|   Product B| Los Angeles|   CA|    USA|16260.506950983132|      32449|\n",
      "|   Product F|Philadelphia|   PA|    USA|16259.047580883303|      32521|\n",
      "|   Product H|   San Diego|   CA|    USA|16238.377853609758|      32430|\n",
      "|   Product I|      Dallas|   TX|    USA|16214.700816333421|      32415|\n",
      "|   Product C|     Chicago|   IL|    USA|16212.334961552866|      32367|\n",
      "|   Product J|    San Jose|   CA|    USA|16205.668117725016|      32434|\n",
      "|   Product D|     Houston|   TX|    USA|16115.736272952987|      32344|\n",
      "|   Product E|     Phoenix|   AZ|    USA| 15993.69845353664|      31985|\n",
      "+------------+------------+-----+-------+------------------+-----------+\n",
      "\n",
      "zorder_eventid_table_2: 22.754924058914185 seconds\n",
      "{'zorder_eventid_table_2': 22.67088677883148}\n"
     ]
    },
    {
     "name": "stderr",
     "output_type": "stream",
     "text": [
      "                                                                                \r"
     ]
    }
   ],
   "source": [
    "import time\n",
    "import matplotlib.pyplot as plt\n",
    "import pandas as pd\n",
    "from pyspark.sql import SparkSession\n",
    "from pyspark.sql.functions import col, sum as spark_sum, count\n",
    "from pyspark.sql.types import StructType, StructField, StringType\n",
    "\n",
    "\n",
    "tables = [\n",
    "    \"zorder_eventid_table_2\"\n",
    "]\n",
    "\n",
    "num_executions = 10\n",
    "\n",
    "def measure_execution_time(df):\n",
    "    spark.catalog.clearCache()\n",
    "    start_time = time.time()\n",
    "    df.show() \n",
    "    end_time = time.time()\n",
    "    return end_time - start_time\n",
    "\n",
    "execution_times = {table: [] for table in tables}\n",
    "\n",
    "for table in tables:\n",
    "\n",
    "    main_df = spark.table(table)\n",
    "    product_dim_df = spark.table(\"product_dim\")\n",
    "    location_dim_df = spark.table(\"location_dim\")\n",
    "    \n",
    "    for _ in range(num_executions):\n",
    "        try:\n",
    "            result_df = (\n",
    "                main_df\n",
    "                .join(product_dim_df, col(f\"{table}.product_id\") == col(\"product_dim.product_id\"))\n",
    "                .join(location_dim_df, col(f\"{table}.location_id\") == col(\"location_dim.location_id\"))\n",
    "                .filter((col(f\"{table}.event_id\").between(459999, 999999)) & (col(f\"{table}.actor_id\").isin(5001, 5002, 5003)))\n",
    "                .groupBy(\"product_dim.product_name\", \"location_dim.city\", \"location_dim.state\", \"location_dim.country\")\n",
    "                .agg(\n",
    "                    spark_sum(col(f\"{table}.value\")).alias(\"total_value\"),\n",
    "                    count(col(f\"{table}.event_id\")).alias(\"event_count\")\n",
    "                )\n",
    "                .orderBy(col(\"total_value\").desc())\n",
    "            )\n",
    "            \n",
    "            execution_time = measure_execution_time(result_df)\n",
    "            print(f\"{table}: {execution_time} seconds\")\n",
    "            execution_times[table].append(execution_time)\n",
    "        except Exception as e:\n",
    "            print(f\"Error for table {table}: {e}\")\n",
    "\n",
    "average_times = {table: sum(times) / num_executions for table, times in execution_times.items()}\n",
    "\n",
    "print(average_times)\n"
   ]
  },
  {
   "cell_type": "code",
   "execution_count": null,
   "id": "4a8452ad-f314-441d-9d35-8b8888361020",
   "metadata": {},
   "outputs": [],
   "source": [
    "import time\n",
    "import matplotlib.pyplot as plt\n",
    "import pandas as pd\n",
    "from pyspark.sql.types import StructType, StructField, StringType\n",
    "\n",
    "\n",
    "tables = [\n",
    "    \"zorder_eventid_table_2\",\n",
    "    \"zorder_eventid_table_4\",\n",
    "    \"zorder_eventid_table_8\",\n",
    "    \"zorder_eventid_actorid_table_2\",\n",
    "    \"zorder_eventid_actorid_table_4\",\n",
    "    \"zorder_eventid_actorid_table_8\"\n",
    "]\n",
    "\n",
    "\n",
    "num_executions = 5\n",
    "\n",
    "def measure_execution_time(query):\n",
    "    spark.catalog.clearCache()\n",
    "    start_time = time.time()\n",
    "    spark.sql(query).show() \n",
    "    end_time = time.time()\n",
    "    return end_time - start_time\n",
    "\n",
    "execution_times = {table: [] for table in tables}\n",
    "\n",
    "for table in tables:\n",
    "    for _ in range(num_executions):\n",
    "        query = f\"\"\"\n",
    "        SELECT\n",
    "            product_dim.product_name,\n",
    "            location_dim.city,\n",
    "            location_dim.state,\n",
    "            location_dim.country,\n",
    "            SUM({table}.value) AS total_value,\n",
    "            COUNT({table}.event_id) AS event_count\n",
    "        FROM\n",
    "            {table}\n",
    "        JOIN\n",
    "            product_dim ON {table}.product_id = product_dim.product_id\n",
    "        JOIN\n",
    "            location_dim ON {table}.location_id = location_dim.location_id\n",
    "        WHERE\n",
    "            {table}.event_id BETWEEN 459999 AND 999999  \n",
    "            AND {table}.actor_id IN (5001, 5002, 5003)  \n",
    "        GROUP BY\n",
    "            product_dim.product_name,\n",
    "            location_dim.city,\n",
    "            location_dim.state,\n",
    "            location_dim.country\n",
    "        ORDER BY\n",
    "            total_value DESC;\"\"\"\n",
    "        \n",
    "        try:\n",
    "            execution_time = measure_execution_time(query)\n",
    "            print(f\"{table}: {execution_time} seconds\")\n",
    "            execution_times[table].append(execution_time)\n",
    "        except Exception as e:\n",
    "            print(f\"Error for table {table}: {e}\")\n",
    "\n",
    "# Calculate average execution time\n",
    "average_times = {table: sum(times) / num_executions for table, times in execution_times.items()}\n",
    "\n",
    "# Create DataFrame for plotting\n",
    "df = pd.DataFrame(list(average_times.items()), columns=[\"Table\", \"Average Execution Time\"])\n",
    "print(df)\n",
    "\n",
    "# Plot the results\n",
    "plt.figure(figsize=(12, 6))\n",
    "plt.bar(df[\"Table\"], df[\"Average Execution Time\"], color='skyblue')\n",
    "plt.xlabel('Table Name')\n",
    "plt.ylabel('Average Execution Time (seconds)')\n",
    "plt.title('Average Query Execution Time for Each Table')\n",
    "plt.xticks(rotation=45)\n",
    "plt.tight_layout()\n",
    "plt.show()\n"
   ]
  },
  {
   "cell_type": "code",
   "execution_count": 10,
   "id": "a228f4d6-bb2a-482c-860e-17c4024c02da",
   "metadata": {},
   "outputs": [
    {
     "name": "stdout",
     "output_type": "stream",
     "text": [
      "Inserting data for table zorder.zorder_eventid_actorid_table_8\n"
     ]
    },
    {
     "name": "stderr",
     "output_type": "stream",
     "text": [
      "                                                                                \r"
     ]
    },
    {
     "name": "stdout",
     "output_type": "stream",
     "text": [
      "CPU times: user 2.22 s, sys: 2.07 s, total: 4.29 s\n",
      "Wall time: 1h 47min 29s\n",
      "Inserting data for table zorder.zorder_eventid_table_8\n"
     ]
    },
    {
     "name": "stderr",
     "output_type": "stream",
     "text": [
      "                                                                                \r"
     ]
    },
    {
     "name": "stdout",
     "output_type": "stream",
     "text": [
      "CPU times: user 2.21 s, sys: 1.62 s, total: 3.83 s\n",
      "Wall time: 1h 44min 42s\n",
      "Inserting data for table zorder.zorder_eventid_actorid_table_4\n"
     ]
    },
    {
     "name": "stderr",
     "output_type": "stream",
     "text": [
      "                                                                                \r"
     ]
    },
    {
     "name": "stdout",
     "output_type": "stream",
     "text": [
      "CPU times: user 1.12 s, sys: 753 ms, total: 1.87 s\n",
      "Wall time: 54min 13s\n",
      "Inserting data for table zorder.zorder_eventid_table_4\n"
     ]
    },
    {
     "name": "stderr",
     "output_type": "stream",
     "text": [
      "                                                                                \r"
     ]
    },
    {
     "name": "stdout",
     "output_type": "stream",
     "text": [
      "CPU times: user 1.09 s, sys: 906 ms, total: 2 s\n",
      "Wall time: 49min 49s\n",
      "Inserting data for table zorder.zorder_eventid_actorid_table_2\n"
     ]
    },
    {
     "name": "stderr",
     "output_type": "stream",
     "text": [
      "                                                                                \r"
     ]
    },
    {
     "name": "stdout",
     "output_type": "stream",
     "text": [
      "CPU times: user 475 ms, sys: 518 ms, total: 993 ms\n",
      "Wall time: 25min 41s\n",
      "Inserting data for table zorder.zorder_eventid_table_2\n"
     ]
    },
    {
     "name": "stderr",
     "output_type": "stream",
     "text": [
      "[Stage 76:=====================================================>(327 + 3) / 330]\r"
     ]
    },
    {
     "name": "stdout",
     "output_type": "stream",
     "text": [
      "CPU times: user 640 ms, sys: 307 ms, total: 947 ms\n",
      "Wall time: 28min 50s\n"
     ]
    },
    {
     "name": "stderr",
     "output_type": "stream",
     "text": [
      "                                                                                \r"
     ]
    }
   ],
   "source": [
    "table_pairs = [\n",
    "    ('zorder.zorder_eventid_actorid_table_8', 'raw_data.raw_data_8'),\n",
    "    ('zorder.zorder_eventid_table_8', 'raw_data.raw_data_8'),\n",
    "    ('zorder.zorder_eventid_actorid_table_4', 'raw_data.raw_data_4'),\n",
    "    ('zorder.zorder_eventid_table_4', 'raw_data.raw_data_4'),\n",
    "    ('zorder.zorder_eventid_actorid_table_2', 'raw_data.raw_data_2'),\n",
    "    ('zorder.zorder_eventid_table_2', 'raw_data.raw_data_2'),\n",
    "]\n",
    "\n",
    "for target_table, source_table in table_pairs:\n",
    "    insert_sql = f\"\"\"\n",
    "    INSERT INTO {target_table}\n",
    "    SELECT * FROM {source_table}\n",
    "    \"\"\"\n",
    "    print(f\"Inserting data for table {target_table}\")\n",
    "    %time spark.sql(insert_sql)\n"
   ]
  },
  {
   "cell_type": "code",
   "execution_count": 12,
   "id": "2d5c3b71-65af-4bd7-a7b5-42554b011189",
   "metadata": {},
   "outputs": [
    {
     "name": "stdout",
     "output_type": "stream",
     "text": [
      "Deleting unused files for table hdfs://192.168.0.144:9000/datalake/zorder/zorder_eventid_table_2\n"
     ]
    },
    {
     "name": "stderr",
     "output_type": "stream",
     "text": [
      "                                                                                \r"
     ]
    },
    {
     "name": "stdout",
     "output_type": "stream",
     "text": [
      "Deleted 330 files and directories in a total of 1 directories.\n",
      "CPU times: user 77.8 ms, sys: 66.4 ms, total: 144 ms\n",
      "Wall time: 38.1 s\n",
      "Deleting unused files for table hdfs://192.168.0.144:9000/datalake/zorder/zorder_eventid_table_4\n"
     ]
    },
    {
     "name": "stderr",
     "output_type": "stream",
     "text": [
      "                                                                                \r"
     ]
    },
    {
     "name": "stdout",
     "output_type": "stream",
     "text": [
      "Deleted 647 files and directories in a total of 1 directories.\n",
      "CPU times: user 44.4 ms, sys: 100 ms, total: 145 ms\n",
      "Wall time: 21.1 s\n",
      "Deleting unused files for table hdfs://192.168.0.144:9000/datalake/zorder/zorder_eventid_table_8\n"
     ]
    },
    {
     "name": "stderr",
     "output_type": "stream",
     "text": [
      "                                                                                \r"
     ]
    },
    {
     "name": "stdout",
     "output_type": "stream",
     "text": [
      "Deleted 1293 files and directories in a total of 1 directories.\n",
      "CPU times: user 48.9 ms, sys: 84.8 ms, total: 134 ms\n",
      "Wall time: 20.9 s\n",
      "Deleting unused files for table hdfs://192.168.0.144:9000/datalake/zorder/zorder_eventid_actorid_table_2\n"
     ]
    },
    {
     "name": "stderr",
     "output_type": "stream",
     "text": [
      "                                                                                \r"
     ]
    },
    {
     "name": "stdout",
     "output_type": "stream",
     "text": [
      "Deleted 330 files and directories in a total of 1 directories.\n",
      "CPU times: user 67.8 ms, sys: 78.6 ms, total: 146 ms\n",
      "Wall time: 18.8 s\n",
      "Deleting unused files for table hdfs://192.168.0.144:9000/datalake/zorder/zorder_eventid_actorid_table_4\n"
     ]
    },
    {
     "name": "stderr",
     "output_type": "stream",
     "text": [
      "                                                                                \r"
     ]
    },
    {
     "name": "stdout",
     "output_type": "stream",
     "text": [
      "Deleted 647 files and directories in a total of 1 directories.\n",
      "CPU times: user 18.6 ms, sys: 152 ms, total: 171 ms\n",
      "Wall time: 18.7 s\n",
      "Deleting unused files for table hdfs://192.168.0.144:9000/datalake/zorder/zorder_eventid_actorid_table_8\n"
     ]
    },
    {
     "name": "stderr",
     "output_type": "stream",
     "text": [
      "                                                                                \r"
     ]
    },
    {
     "name": "stdout",
     "output_type": "stream",
     "text": [
      "Deleted 1293 files and directories in a total of 1 directories.\n",
      "CPU times: user 42.4 ms, sys: 93.7 ms, total: 136 ms\n",
      "Wall time: 19.6 s\n"
     ]
    }
   ],
   "source": [
    "from delta.tables import DeltaTable\n",
    "\n",
    "spark.conf.set(\"spark.databricks.delta.retentionDurationCheck.enabled\", \"false\")\n",
    "\n",
    "table_paths = [\n",
    "    'hdfs://192.168.0.144:9000/datalake/zorder/zorder_eventid_table_2',\n",
    "    'hdfs://192.168.0.144:9000/datalake/zorder/zorder_eventid_table_4',\n",
    "    'hdfs://192.168.0.144:9000/datalake/zorder/zorder_eventid_table_8',\n",
    "    'hdfs://192.168.0.144:9000/datalake/zorder/zorder_eventid_actorid_table_2',\n",
    "    'hdfs://192.168.0.144:9000/datalake/zorder/zorder_eventid_actorid_table_4',\n",
    "    'hdfs://192.168.0.144:9000/datalake/zorder/zorder_eventid_actorid_table_8'\n",
    "]\n",
    "\n",
    "for path in table_paths:\n",
    "    print(f\"Deleting unused files for table {path}\")\n",
    "    delta_table_obj = DeltaTable.forPath(spark, path)\n",
    "    %time delta_table_obj.vacuum(0)\n",
    "\n"
   ]
  },
  {
   "cell_type": "code",
   "execution_count": null,
   "id": "2582a6d6-85d4-4ca7-9d6f-830aa54762fe",
   "metadata": {},
   "outputs": [],
   "source": [
    "                              Table  Average Execution Time\n",
    "0  nozorder_eventid_actorid_table_2              233.319613\n",
    "1  nozorder_eventid_actorid_table_4              461.165444\n",
    "2  nozorder_eventid_actorid_table_8              989.810002\n",
    "3            zorder_eventid_table_2               66.869337\n",
    "4            zorder_eventid_table_4              237.478777\n",
    "5            zorder_eventid_table_8              443.057015\n",
    "6    zorder_eventid_actorid_table_2               14.115593\n",
    "7    zorder_eventid_actorid_table_4               35.281418\n",
    "8    zorder_eventid_actorid_table_8               45.288971"
   ]
  },
  {
   "cell_type": "code",
   "execution_count": 29,
   "id": "aabb5920-27ed-48b2-8f4c-06858bf39ec8",
   "metadata": {},
   "outputs": [],
   "source": [
    "average_times_part1_before = {\n",
    "    'small_table\\n($2\\\\times10^9$ rows)': 233.319613,\n",
    "    'medium_table\\n($4\\\\times10^9$ rows)': 461.165444,\n",
    "    'big_table\\n($8\\\\times10^9$ rows)': 989.810002\n",
    "}\n",
    "average_times_part2_before = {\n",
    "    'small_table\\n($2\\\\times10^9$ rows)': 233.319613,\n",
    "    'medium_table\\n($4\\\\times10^9$ rows)': 461.165444,\n",
    "    'big_table\\n($8\\\\times10^9$ rows)': 989.810002\n",
    "}\n",
    "\n",
    "\n",
    "average_times_part1_after = {\n",
    "    'small_table\\n($2\\\\times10^9$ rows)': 66.869337,\n",
    "    'medium_table\\n($4\\\\times10^9$ rows)': 237.478777,\n",
    "    'big_table\\n($8\\\\times10^9$ rows)': 443.057015\n",
    "}\n",
    "\n",
    "average_times_part2_after = {\n",
    "    'small_table\\n($2\\\\times10^9$ rows)': 14.115593,\n",
    "    'medium_table\\n($4\\\\times10^9$ rows)': 35.281418,\n",
    "    'big_table\\n($8\\\\times10^9$ rows)': 45.288971\n",
    "}"
   ]
  },
  {
   "cell_type": "code",
   "execution_count": 11,
   "id": "f91cccb1-5b10-4ea2-b178-8eeecebdbb69",
   "metadata": {},
   "outputs": [],
   "source": [
    "import pandas as pd\n",
    "import matplotlib.pyplot as plt\n",
    "\n",
    "def plot_comparison(before_times, after_times, query_num):\n",
    "\n",
    "    plt.rcParams.update({'font.size': 14})  \n",
    "    plt.rcParams.update({'axes.titlesize': 14}) \n",
    "    plt.rcParams.update({'axes.labelsize': 14})  \n",
    "    plt.rcParams.update({'xtick.labelsize': 14})  \n",
    "    plt.rcParams.update({'ytick.labelsize': 14}) \n",
    "    plt.rcParams.update({'legend.fontsize': 14})  \n",
    "\n",
    "    plt.rcParams.update({'font.family': 'serif'})\n",
    "    plt.rcParams.update({'font.serif': 'DejaVu Serif'})\n",
    "\n",
    "\n",
    "    df_before = pd.DataFrame(list(before_times.items()), columns=[\"Table\", \"Average Execution Time Before Z-Order\"])\n",
    "    df_after = pd.DataFrame(list(after_times.items()), columns=[\"Table\", \"Average Execution Time After Z-Order\"])\n",
    "    df = df_before.merge(df_after, on=\"Table\")\n",
    "\n",
    "    df.plot(kind=\"bar\", x=\"Table\", figsize=(12, 6))\n",
    "    plt.ylabel('Average Execution Time (seconds)')\n",
    "    plt.xlabel('')\n",
    "    plt.title(f'Average Query Execution Time for Each Table (Query 1, Z-Order column {query_num})')\n",
    "    plt.xticks(rotation=0)\n",
    "    plt.tight_layout()\n",
    "    plt.savefig(f'zorder_table_performance_{query_num}.png', dpi=500)\n",
    "    plt.show()"
   ]
  },
  {
   "cell_type": "code",
   "execution_count": 30,
   "id": "f4b923b4-7418-418c-af41-fdf9fac237b4",
   "metadata": {},
   "outputs": [
    {
     "data": {
      "image/png": "[encoded data removed]",
      "text/plain": [
       "<Figure size 1200x600 with 1 Axes>"
      ]
     },
     "metadata": {},
     "output_type": "display_data"
    }
   ],
   "source": [
    "plot_comparison(average_times_part1_before, average_times_part1_after, \"[event_id]\")"
   ]
  },
  {
   "cell_type": "code",
   "execution_count": 31,
   "id": "17b47bb0-b9d8-4040-8a60-781d27b77a97",
   "metadata": {},
   "outputs": [
    {
     "data": {
      "image/png": "[encoded data removed]",
      "text/plain": [
       "<Figure size 1200x600 with 1 Axes>"
      ]
     },
     "metadata": {},
     "output_type": "display_data"
    }
   ],
   "source": [
    "plot_comparison(average_times_part2_before, average_times_part2_after, \"[event_id, actor_id]\")"
   ]
  },
  {
   "cell_type": "code",
   "execution_count": 26,
   "id": "f0d1b2cb-6155-4716-8963-262a35c4a6e9",
   "metadata": {},
   "outputs": [
    {
     "data": {
      "image/png": "[encoded data removed]",
      "text/plain": [
       "<Figure size 1200x600 with 1 Axes>"
      ]
     },
     "metadata": {},
     "output_type": "display_data"
    }
   ],
   "source": [
    "import pandas as pd\n",
    "import matplotlib.pyplot as plt\n",
    "\n",
    "average_times_part1_before = {\n",
    "    'small_table\\n($2\\\\times10^9$ rows)': 66.869337,\n",
    "    'medium_table\\n($4\\\\times10^9$ rows)': 237.478777,\n",
    "    'big_table\\n($8\\\\times10^9$ rows)': 443.057015\n",
    "}\n",
    "\n",
    "average_times_part1_after = {\n",
    "    'small_table\\n($2\\\\times10^9$ rows)': 14.115593,\n",
    "    'medium_table\\n($4\\\\times10^9$ rows)': 35.281418,\n",
    "    'big_table\\n($8\\\\times10^9$ rows)': 45.288971\n",
    "}\n",
    "\n",
    "def plot_comparison(before_times, after_times, query_num):\n",
    "    plt.rcParams.update({'font.size': 14})  \n",
    "    plt.rcParams.update({'axes.titlesize': 14}) \n",
    "    plt.rcParams.update({'axes.labelsize': 14})  \n",
    "    plt.rcParams.update({'xtick.labelsize': 14})  \n",
    "    plt.rcParams.update({'ytick.labelsize': 14}) \n",
    "    plt.rcParams.update({'legend.fontsize': 14})  \n",
    "    plt.rcParams.update({'font.family': 'serif'})\n",
    "    plt.rcParams.update({'font.serif': 'DejaVu Serif'})\n",
    "\n",
    "    df_before = pd.DataFrame(list(before_times.items()), columns=[\"Table\", \"Average Execution Time Before Z-Order\"])\n",
    "    df_after = pd.DataFrame(list(after_times.items()), columns=[\"Table\", \"Average Execution Time After Z-Order\"])\n",
    "    df = df_before.merge(df_after, on=\"Table\")\n",
    "\n",
    "    ax = df.plot(kind=\"bar\", x=\"Table\", figsize=(12, 6))\n",
    "    plt.ylabel('Average Execution Time (seconds)')\n",
    "    plt.xlabel('')\n",
    "    plt.title(f'Average Query Execution Time for Each Table (Query 1, Z-Order column {query_num})')\n",
    "    plt.xticks(rotation=0)\n",
    "    \n",
    "    # Set y-axis limit to 500\n",
    "    plt.ylim(0, 1100)\n",
    "\n",
    "    # Annotate the bars with the values\n",
    "    for p in ax.patches:\n",
    "        height = p.get_height()\n",
    "        ax.annotate(f'{height:.2f}', \n",
    "                    (p.get_x() + p.get_width() / 2., height * 1.01),  # Center and slightly above the bar\n",
    "                    ha='center', va='bottom')\n",
    "\n",
    "    plt.tight_layout()\n",
    "    plt.savefig(f'zorder_table_performance_{query_num}.png', dpi=500)\n",
    "    plt.show()\n",
    "\n",
    "plot_comparison(average_times_part1_before, average_times_part1_after, \"[event_id]\")\n"
   ]
  },
  {
   "cell_type": "code",
   "execution_count": null,
   "id": "e4e526ac-439c-4e6e-8bc5-4486b71e74ed",
   "metadata": {},
   "outputs": [],
   "source": []
  },
  {
   "cell_type": "code",
   "execution_count": 29,
   "id": "fd67de38-357f-4272-98e6-d2c9a2674508",
   "metadata": {},
   "outputs": [
    {
     "name": "stdout",
     "output_type": "stream",
     "text": [
      "+--------------------+-------------------+-------------------+-------------------+-------------------+\n",
      "|                path|min_increasing_int1|max_increasing_int1|min_increasing_int2|max_increasing_int2|\n",
      "+--------------------+-------------------+-------------------+-------------------+-------------------+\n",
      "|part-00000-3db53b...|                  1|           51048444|                  1|           51048444|\n",
      "|part-00001-9c3944...|           50763053|           99905801|           50763053|           99905801|\n",
      "|part-00002-a5951f...|           99670151|          148429046|           99670151|          148429046|\n",
      "|part-00003-8753a2...|          148210156|          198300745|          148210156|          198300745|\n",
      "|part-00004-c4f7d6...|          198259554|          249887875|          198259554|          249887875|\n",
      "|part-00005-e9b547...|          249630218|          300000000|          249630218|          300000000|\n",
      "+--------------------+-------------------+-------------------+-------------------+-------------------+\n",
      "\n"
     ]
    },
    {
     "data": {
      "image/png": "[encoded data removed]",
      "text/plain": [
       "<Figure size 640x480 with 1 Axes>"
      ]
     },
     "metadata": {},
     "output_type": "display_data"
    }
   ],
   "source": [
    "import json\n",
    "import matplotlib.pyplot as plt\n",
    "from pyspark.sql import SparkSession\n",
    "from pyspark.sql import Row\n",
    "\n",
    "\n",
    "\n",
    "file_path = \"hdfs://192.168.0.144:9000/datalake/zorder/zorder_monotonic/_delta_log/00000000000000000002.json\"\n",
    "\n",
    "df = spark.read.text(file_path)\n",
    "\n",
    "rows = []\n",
    "\n",
    "for row in df.collect():\n",
    "    json_obj = json.loads(row.value)\n",
    "    if 'add' in json_obj and 'stats' in json_obj['add']:\n",
    "        path = json_obj['add']['path']\n",
    "        stats = json.loads(json_obj['add']['stats'])\n",
    "        min_increasing_int1 = stats['minValues']['event_id']\n",
    "        max_increasing_int1 = stats['maxValues']['event_id']\n",
    "        min_increasing_int2 = stats['minValues']['actor_id']\n",
    "        max_increasing_int2 = stats['maxValues']['actor_id']\n",
    "        \n",
    "        rows.append(Row(path=path, \n",
    "                        min_increasing_int1=min_increasing_int1, \n",
    "                        max_increasing_int1=max_increasing_int1,\n",
    "                        min_increasing_int2=min_increasing_int2,\n",
    "                        max_increasing_int2=max_increasing_int2))\n",
    "\n",
    "result_df = spark.createDataFrame(rows)\n",
    "\n",
    "rectangles = result_df.collect()\n",
    "result_df.show()\n",
    "fig, ax = plt.subplots()\n",
    "\n",
    "for rect in rectangles:\n",
    "    bottom_left_x = rect.min_increasing_int1\n",
    "    bottom_left_y = rect.min_increasing_int2\n",
    "    top_right_x = rect.max_increasing_int1\n",
    "    top_right_y = rect.max_increasing_int2\n",
    "\n",
    "    width = top_right_x - bottom_left_x\n",
    "    height = top_right_y - bottom_left_y\n",
    "\n",
    "    rectangle = plt.Rectangle((bottom_left_x, bottom_left_y), width, height, linewidth=1, edgecolor='red', facecolor='blue', alpha=0.3)\n",
    "\n",
    "    ax.add_patch(rectangle)\n",
    "\n",
    "all_x = [rect.min_increasing_int1 for rect in rectangles] + [rect.max_increasing_int1 for rect in rectangles]\n",
    "all_y = [rect.min_increasing_int2 for rect in rectangles] + [rect.max_increasing_int2 for rect in rectangles]\n",
    "padding_x = (max(all_x) - min(all_x)) * 0.1\n",
    "padding_y = (max(all_y) - min(all_y)) * 0.1\n",
    "ax.set_xlim(min(all_x) - padding_x, max(all_x) + padding_x)\n",
    "ax.set_ylim(min(all_y) - padding_y, max(all_y) + padding_y)\n",
    "\n",
    "ax.set_xlabel('event_id')\n",
    "ax.set_ylabel('actor_id')\n",
    "\n",
    "plt.savefig('zorder_monotonic.png', dpi=500)\n",
    "plt.show()\n",
    "\n"
   ]
  },
  {
   "cell_type": "code",
   "execution_count": 12,
   "id": "6bbb48ea-d022-4d9b-a98f-c72ce3107f37",
   "metadata": {},
   "outputs": [
    {
     "name": "stderr",
     "output_type": "stream",
     "text": [
      "                                                                                \r"
     ]
    },
    {
     "name": "stdout",
     "output_type": "stream",
     "text": [
      "+--------------------+-------------------+-------------------+-------------------+-------------------+\n",
      "|                path|min_increasing_int1|max_increasing_int1|min_increasing_int2|max_increasing_int2|\n",
      "+--------------------+-------------------+-------------------+-------------------+-------------------+\n",
      "|part-00000-0d96dd...|                  0|              64462|                  0|               1278|\n",
      "|part-00001-628568...|              32492|             129467|                  0|               1278|\n",
      "|part-00002-05573f...|                  0|             129467|                636|               1920|\n",
      "|part-00003-a5ce2e...|                  0|              76161|               1279|               2562|\n",
      "|part-00004-d3519c...|              64463|             129467|               1279|               2562|\n",
      "|part-00005-0cfaf5...|              96865|             193299|                  0|               2562|\n",
      "|part-00006-34aecd...|             129468|             256970|                  0|               1278|\n",
      "|part-00007-2fdbf7...|             129468|             256970|                316|               1920|\n",
      "|part-00008-63fd23...|             129468|             209252|               1279|               2562|\n",
      "|part-00009-ea20e6...|             193300|             256970|               1279|               2562|\n",
      "|part-00010-981223...|                  0|             256970|               1921|               3192|\n",
      "|part-00011-2ed037...|                  0|             100939|               2563|               3830|\n",
      "|part-00012-74beb3...|                  0|             129467|               2563|               4156|\n",
      "|part-00013-0c40d4...|                  0|              64462|               3831|               5118|\n",
      "|part-00014-1617ad...|              32492|             129467|               3831|               5118|\n",
      "|part-00015-28a226...|              64463|             185349|               2563|               5118|\n",
      "|part-00016-297841...|             129468|             209252|               2563|               3830|\n",
      "|part-00017-50ac1a...|             193300|             256970|               2563|               3830|\n",
      "|part-00018-1f616f...|             129468|             256970|               3314|               5118|\n",
      "|part-00019-7ef2b9...|             137465|             256970|               3831|               5118|\n",
      "+--------------------+-------------------+-------------------+-------------------+-------------------+\n",
      "only showing top 20 rows\n",
      "\n"
     ]
    },
    {
     "data": {
      "image/png": "[encoded data removed]",
      "text/plain": [
       "<Figure size 640x480 with 1 Axes>"
      ]
     },
     "metadata": {},
     "output_type": "display_data"
    }
   ],
   "source": [
    "import json\n",
    "import matplotlib.pyplot as plt\n",
    "from pyspark.sql import SparkSession\n",
    "from pyspark.sql import Row\n",
    "\n",
    "\n",
    "\n",
    "file_path = \"hdfs://192.168.0.144:9000/datalake/zorder/zorder_eventid_actorid_table_8000000000/_delta_log/00000000000000000002.json\"\n",
    "\n",
    "df = spark.read.text(file_path)\n",
    "\n",
    "rows = []\n",
    "\n",
    "for row in df.collect():\n",
    "    json_obj = json.loads(row.value)\n",
    "    if 'add' in json_obj and 'stats' in json_obj['add']:\n",
    "        path = json_obj['add']['path']\n",
    "        stats = json.loads(json_obj['add']['stats'])\n",
    "        min_increasing_int1 = stats['minValues']['event_id']\n",
    "        max_increasing_int1 = stats['maxValues']['event_id']\n",
    "        min_increasing_int2 = stats['minValues']['actor_id']\n",
    "        max_increasing_int2 = stats['maxValues']['actor_id']\n",
    "        \n",
    "        rows.append(Row(path=path, \n",
    "                        min_increasing_int1=min_increasing_int1, \n",
    "                        max_increasing_int1=max_increasing_int1,\n",
    "                        min_increasing_int2=min_increasing_int2,\n",
    "                        max_increasing_int2=max_increasing_int2))\n",
    "\n",
    "result_df = spark.createDataFrame(rows)\n",
    "\n",
    "rectangles = result_df.collect()\n",
    "result_df.show()\n",
    "fig, ax = plt.subplots()\n",
    "\n",
    "for rect in rectangles:\n",
    "    bottom_left_x = rect.min_increasing_int1\n",
    "    bottom_left_y = rect.min_increasing_int2\n",
    "    top_right_x = rect.max_increasing_int1\n",
    "    top_right_y = rect.max_increasing_int2\n",
    "\n",
    "    width = top_right_x - bottom_left_x\n",
    "    height = top_right_y - bottom_left_y\n",
    "\n",
    "    rectangle = plt.Rectangle((bottom_left_x, bottom_left_y), width, height, linewidth=1, edgecolor='red', facecolor='blue', alpha=0.3)\n",
    "\n",
    "    ax.add_patch(rectangle)\n",
    "\n",
    "all_x = [rect.min_increasing_int1 for rect in rectangles] + [rect.max_increasing_int1 for rect in rectangles]\n",
    "all_y = [rect.min_increasing_int2 for rect in rectangles] + [rect.max_increasing_int2 for rect in rectangles]\n",
    "padding_x = (max(all_x) - min(all_x)) * 0.1\n",
    "padding_y = (max(all_y) - min(all_y)) * 0.1\n",
    "ax.set_xlim(min(all_x) - padding_x, max(all_x) + padding_x)\n",
    "ax.set_ylim(min(all_y) - padding_y, max(all_y) + padding_y)\n",
    "\n",
    "ax.set_xlabel('event_id')\n",
    "ax.set_ylabel('actor_id')\n",
    "\n",
    "plt.savefig('zorder_monotonic.png', dpi=500)\n",
    "plt.show()\n",
    "\n"
   ]
  },
  {
   "cell_type": "code",
   "execution_count": 132,
   "id": "4214c3a9-2da4-4de8-be4c-cb50f933d8bc",
   "metadata": {},
   "outputs": [
    {
     "data": {
      "image/png": "[encoded data removed]",
      "text/plain": [
       "<Figure size 640x480 with 1 Axes>"
      ]
     },
     "metadata": {},
     "output_type": "display_data"
    }
   ],
   "source": [
    "import json\n",
    "import matplotlib.pyplot as plt\n",
    "from pyspark.sql import SparkSession\n",
    "from pyspark.sql import Row\n",
    "\n",
    "\n",
    "file_path = \"hdfs://192.168.0.144:9000/datalake/zorder/zorder_random/_delta_log/00000000000000000002.json\"\n",
    "\n",
    "df = spark.read.text(file_path)\n",
    "\n",
    "rows = []\n",
    "\n",
    "for row in df.collect():\n",
    "    json_obj = json.loads(row.value)\n",
    "    if 'add' in json_obj and 'stats' in json_obj['add']:\n",
    "        path = json_obj['add']['path']\n",
    "        stats = json.loads(json_obj['add']['stats'])\n",
    "        min_increasing_int1 = stats['minValues']['random_int1']\n",
    "        max_increasing_int1 = stats['maxValues']['random_int1']\n",
    "        min_increasing_int2 = stats['minValues']['random_int2']\n",
    "        max_increasing_int2 = stats['maxValues']['random_int2']\n",
    "        \n",
    "        rows.append(Row(path=path, \n",
    "                        min_increasing_int1=min_increasing_int1, \n",
    "                        max_increasing_int1=max_increasing_int1,\n",
    "                        min_increasing_int2=min_increasing_int2,\n",
    "                        max_increasing_int2=max_increasing_int2))\n",
    "\n",
    "result_df = spark.createDataFrame(rows)\n",
    "\n",
    "rectangles = result_df.collect()\n",
    "\n",
    "fig, ax = plt.subplots()\n",
    "\n",
    "for rect in rectangles:\n",
    "    bottom_left_x = rect.min_increasing_int1\n",
    "    bottom_left_y = rect.min_increasing_int2\n",
    "    top_right_x = rect.max_increasing_int1\n",
    "    top_right_y = rect.max_increasing_int2\n",
    "\n",
    "    width = top_right_x - bottom_left_x\n",
    "    height = top_right_y - bottom_left_y\n",
    "\n",
    "    rectangle = plt.Rectangle((bottom_left_x, bottom_left_y), width, height, linewidth=1, edgecolor='r', facecolor='blue', alpha=0.1)\n",
    "\n",
    "    ax.add_patch(rectangle)\n",
    "\n",
    "all_x = [rect.min_increasing_int1 for rect in rectangles] + [rect.max_increasing_int1 for rect in rectangles]\n",
    "all_y = [rect.min_increasing_int2 for rect in rectangles] + [rect.max_increasing_int2 for rect in rectangles]\n",
    "padding_x = (max(all_x) - min(all_x)) * 0.1\n",
    "padding_y = (max(all_y) - min(all_y)) * 0.1\n",
    "ax.set_xlim(min(all_x) - padding_x, max(all_x) + padding_x)\n",
    "ax.set_ylim(min(all_y) - padding_y, max(all_y) + padding_y)\n",
    "\n",
    "ax.set_xlabel('increasing_int1')\n",
    "ax.set_ylabel('increasing_int2')\n",
    "ax.set_title('Rectangles Plot')\n",
    "\n",
    "plt.savefig('zorder_monotonic.png', dpi=500)\n",
    "plt.show()\n",
    "\n"
   ]
  },
  {
   "cell_type": "code",
   "execution_count": 33,
   "id": "db401f1b-9e5d-44cd-af36-1558789a0fef",
   "metadata": {},
   "outputs": [
    {
     "data": {
      "image/png": "[encoded data removed]",
      "text/plain": [
       "<Figure size 640x480 with 1 Axes>"
      ]
     },
     "metadata": {},
     "output_type": "display_data"
    }
   ],
   "source": [
    "import json\n",
    "import matplotlib.pyplot as plt\n",
    "from pyspark.sql import SparkSession\n",
    "from pyspark.sql import Row\n",
    "\n",
    "\n",
    "file_path = \"hdfs://192.168.0.144:9000/datalake/zorder/zorder_optimized_small/_delta_log/00000000000000000002.json\"\n",
    "\n",
    "df = spark.read.text(file_path)\n",
    "\n",
    "rows = []\n",
    "\n",
    "for row in df.collect():\n",
    "    json_obj = json.loads(row.value)\n",
    "    if 'add' in json_obj and 'stats' in json_obj['add']:\n",
    "        path = json_obj['add']['path']\n",
    "        stats = json.loads(json_obj['add']['stats'])\n",
    "        min_increasing_int1 = stats['minValues']['actor_id']\n",
    "        max_increasing_int1 = stats['maxValues']['actor_id']\n",
    "        min_increasing_int2 = stats['minValues']['event_id']\n",
    "        max_increasing_int2 = stats['maxValues']['event_id']\n",
    "        \n",
    "        rows.append(Row(path=path, \n",
    "                        min_increasing_int1=min_increasing_int1, \n",
    "                        max_increasing_int1=max_increasing_int1,\n",
    "                        min_increasing_int2=min_increasing_int2,\n",
    "                        max_increasing_int2=max_increasing_int2))\n",
    "\n",
    "result_df = spark.createDataFrame(rows)\n",
    "\n",
    "rectangles = result_df.collect()\n",
    "\n",
    "fig, ax = plt.subplots()\n",
    "\n",
    "for rect in rectangles:\n",
    "    bottom_left_x = rect.min_increasing_int1\n",
    "    bottom_left_y = rect.min_increasing_int2\n",
    "    top_right_x = rect.max_increasing_int1\n",
    "    top_right_y = rect.max_increasing_int2\n",
    "\n",
    "    width = top_right_x - bottom_left_x\n",
    "    height = top_right_y - bottom_left_y\n",
    "\n",
    "    rectangle = plt.Rectangle((bottom_left_x, bottom_left_y), width, height, linewidth=1, edgecolor='r', facecolor='blue', alpha=0.1)\n",
    "\n",
    "    ax.add_patch(rectangle)\n",
    "\n",
    "all_x = [rect.min_increasing_int1 for rect in rectangles] + [rect.max_increasing_int1 for rect in rectangles]\n",
    "all_y = [rect.min_increasing_int2 for rect in rectangles] + [rect.max_increasing_int2 for rect in rectangles]\n",
    "padding_x = (max(all_x) - min(all_x)) * 0.1\n",
    "padding_y = (max(all_y) - min(all_y)) * 0.1\n",
    "ax.set_xlim(min(all_x) - padding_x, max(all_x) + padding_x)\n",
    "ax.set_ylim(min(all_y) - padding_y, max(all_y) + padding_y)\n",
    "\n",
    "ax.set_xlabel('actor_id')\n",
    "ax.set_ylabel('event_id')\n",
    "\n",
    "plt.savefig('zorder_random.png', dpi=500)\n",
    "plt.show()\n",
    "\n"
   ]
  }
 ],
 "metadata": {
  "kernelspec": {
   "display_name": "Python 3 (ipykernel)",
   "language": "python",
   "name": "python3"
  },
  "language_info": {
   "codemirror_mode": {
    "name": "ipython",
    "version": 3
   },
   "file_extension": ".py",
   "mimetype": "text/x-python",
   "name": "python",
   "nbconvert_exporter": "python",
   "pygments_lexer": "ipython3",
   "version": "3.10.12"
  }
 },
 "nbformat": 4,
 "nbformat_minor": 5
}
