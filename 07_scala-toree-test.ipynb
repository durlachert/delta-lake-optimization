{
 "cells": [
  {
   "cell_type": "markdown",
   "id": "9e7e4481-c901-44d5-a041-2b2a74df98a6",
   "metadata": {},
   "source": [
    "# Scala Notebook"
   ]
  },
  {
   "cell_type": "markdown",
   "id": "d6019916-f042-41bc-bcb7-e23507191bef",
   "metadata": {},
   "source": [
    "This notebook performs the following operations:\n",
    "\n",
    "- Execute query with SQL API\n",
    "- Execute query with Dataframe API\n",
    "- Create tables and fill them with data\n",
    "\n",
    "Intended as a simple test to see if Scala has significant performance benefist in contrast to PySpark. The accompaning code is in the pyspark-test notebook."
   ]
  },
  {
   "cell_type": "code",
   "execution_count": 3,
   "id": "78e3e6af-6fe2-47cb-a064-8871905b7c51",
   "metadata": {},
   "outputs": [],
   "source": [
    "spark.stop()"
   ]
  },
  {
   "cell_type": "code",
   "execution_count": 1,
   "id": "4a42be28-1fdc-41c1-a19b-b6c8923eb2f7",
   "metadata": {},
   "outputs": [
    {
     "data": {
      "text/plain": [
       "spark = org.apache.spark.sql.SparkSession@7878b9df\n"
      ]
     },
     "metadata": {},
     "output_type": "display_data",
     "source": "user"
    },
    {
     "data": {
      "text/plain": [
       "org.apache.spark.sql.SparkSession@7878b9df"
      ]
     },
     "execution_count": 1,
     "metadata": {},
     "output_type": "execute_result"
    }
   ],
   "source": [
    "import org.apache.spark.sql.SparkSession\n",
    "import sys.env\n",
    "\n",
    "val spark = SparkSession.builder()\n",
    "    .appName(\"MyAppScala\")\n",
    "    .master(\"spark://192.168.0.144:7077\")\n",
    "    .config(\"spark.hadoop.hive.metastore.uris\", \"thrift://192.168.0.144:9083\")\n",
    "    .config(\"spark.hadoop.javax.jdo.option.ConnectionURL\", \"jdbc:mysql://192.168.0.144:3306/metastore_db\")\n",
    "    .config(\"spark.hadoop.javax.jdo.option.ConnectionDriverName\", \"com.mysql.cj.jdbc.Driver\")\n",
    "    .config(\"spark.hadoop.javax.jdo.option.ConnectionUserName\", \"lh\")\n",
    "    .config(\"spark.hadoop.javax.jdo.option.ConnectionPassword\", env.getOrElse(\"MYSQL\", \"Default_Value\"))\n",
    "    .config(\"spark.jars.packages\", \"org.apache.spark:spark-sql-kafka-0-10_2.12:3.1.2\")\n",
    "    .config(\"spark.delta.logStore.class\", \"org.apache.spark.sql.delta.storage.HDFSLogStore\")\n",
    "    .config(\"spark.sql.extensions\", \"io.delta.sql.DeltaSparkSessionExtension\")\n",
    "    .config(\"spark.sql.catalog.spark_catalog\", \"org.apache.spark.sql.delta.catalog.DeltaCatalog\")\n",
    "    .config(\"spark.jars\", \"/usr/local/spark/jars/delta_2.12-3.2.0.jar,/usr/local/spark/jars/delta-storage-3.2.0.jar,/usr/local/spark/jars/delta-spark_2.12-3.2.0.jar\")    \n",
    "    .config(\"spark.executor.memory\", \"9g\")\n",
    "    .config(\"spark.executor.cores\", \"3\")\n",
    "    .config(\"spark.driver.memory\", \"19g\")\n",
    "    .config(\"spark.driver.maxResultSize\", \"2g\") \n",
    "    .config(\"spark.sql.adaptive.enabled\", \"true\")\n",
    "    .config(\"spark.sql.shuffle.partitions\", \"1000\")\n",
    "    .config(\"spark.hadoop.fs.defaultFS\", \"hdfs://192.168.0.144:9000\")\n",
    "    .config(\"spark.databricks.delta.clusteredTable.enableClusteringTablePreview\", \"true\")\n",
    "    .enableHiveSupport()\n",
    "    .getOrCreate()\n"
   ]
  },
  {
   "cell_type": "code",
   "execution_count": 3,
   "id": "68b1a6c4-470e-469a-9180-5f813227c036",
   "metadata": {},
   "outputs": [
    {
     "name": "stdout",
     "output_type": "stream",
     "text": [
      "+---------+--------------------+-----------+\n",
      "|namespace|           tableName|isTemporary|\n",
      "+---------+--------------------+-----------+\n",
      "|   zorder|        campaign_dim|      false|\n",
      "|   zorder|        customer_dim|      false|\n",
      "|   zorder|      department_dim|      false|\n",
      "|   zorder|        location_dim|      false|\n",
      "|   zorder|         product_dim|      false|\n",
      "|   zorder|zorder_eventid_ac...|      false|\n",
      "|   zorder|zorder_eventid_ac...|      false|\n",
      "|   zorder|zorder_eventid_ac...|      false|\n",
      "|   zorder|zorder_eventid_ta...|      false|\n",
      "|   zorder|zorder_eventid_ta...|      false|\n",
      "|   zorder|zorder_eventid_ta...|      false|\n",
      "+---------+--------------------+-----------+\n"
     ]
    },
    {
     "data": {
      "text/plain": [
       "tablesDf = ()\n"
      ]
     },
     "metadata": {},
     "output_type": "display_data",
     "source": "user"
    },
    {
     "data": {
      "text/plain": [
       "()"
      ]
     },
     "execution_count": 3,
     "metadata": {},
     "output_type": "execute_result"
    }
   ],
   "source": [
    "spark.sql(\"USE zorder\")\n",
    "val tablesDf = spark.sql(\"SHOW TABLES\").show()"
   ]
  },
  {
   "cell_type": "code",
   "execution_count": 25,
   "id": "b65d026e-9089-4dd0-9712-5953fe3ecea2",
   "metadata": {},
   "outputs": [
    {
     "name": "stdout",
     "output_type": "stream",
     "text": [
      "+------------+------------+-----+-------+------------------+-----------+\n",
      "|product_name|        city|state|country|       total_value|event_count|\n",
      "+------------+------------+-----+-------+------------------+-----------+\n",
      "|   Product G| San Antonio|   TX|    USA|16325.645384546515|      32631|\n",
      "|   Product A|    New York|   NY|    USA|16293.041773393486|      32485|\n",
      "|   Product B| Los Angeles|   CA|    USA|16260.506950983132|      32449|\n",
      "|   Product F|Philadelphia|   PA|    USA|16259.047580883303|      32521|\n",
      "|   Product H|   San Diego|   CA|    USA|16238.377853609752|      32430|\n",
      "|   Product I|      Dallas|   TX|    USA|16214.700816333423|      32415|\n",
      "|   Product C|     Chicago|   IL|    USA|16212.334961552868|      32367|\n",
      "|   Product J|    San Jose|   CA|    USA|16205.668117725005|      32434|\n",
      "|   Product D|     Houston|   TX|    USA|16115.736272952989|      32344|\n",
      "|   Product E|     Phoenix|   AZ|    USA|15993.698453536646|      31985|\n",
      "+------------+------------+-----+-------+------------------+-----------+\n",
      "\n",
      "zorder_eventid_table_2: 23.022801957 seconds\n",
      "+------------+------------+-----+-------+------------------+-----------+\n",
      "|product_name|        city|state|country|       total_value|event_count|\n",
      "+------------+------------+-----+-------+------------------+-----------+\n",
      "|   Product G| San Antonio|   TX|    USA| 16325.64538454651|      32631|\n",
      "|   Product A|    New York|   NY|    USA|16293.041773393483|      32485|\n",
      "|   Product B| Los Angeles|   CA|    USA|16260.506950983132|      32449|\n",
      "|   Product F|Philadelphia|   PA|    USA|16259.047580883303|      32521|\n",
      "|   Product H|   San Diego|   CA|    USA|16238.377853609756|      32430|\n",
      "|   Product I|      Dallas|   TX|    USA|16214.700816333421|      32415|\n",
      "|   Product C|     Chicago|   IL|    USA|16212.334961552873|      32367|\n",
      "|   Product J|    San Jose|   CA|    USA|16205.668117725016|      32434|\n",
      "|   Product D|     Houston|   TX|    USA|16115.736272952989|      32344|\n",
      "|   Product E|     Phoenix|   AZ|    USA|15993.698453536643|      31985|\n",
      "+------------+------------+-----+-------+------------------+-----------+\n",
      "\n",
      "zorder_eventid_table_2: 22.734479329 seconds\n",
      "+------------+------------+-----+-------+------------------+-----------+\n",
      "|product_name|        city|state|country|       total_value|event_count|\n",
      "+------------+------------+-----+-------+------------------+-----------+\n",
      "|   Product G| San Antonio|   TX|    USA|16325.645384546515|      32631|\n",
      "|   Product A|    New York|   NY|    USA|16293.041773393486|      32485|\n",
      "|   Product B| Los Angeles|   CA|    USA|16260.506950983126|      32449|\n",
      "|   Product F|Philadelphia|   PA|    USA|16259.047580883305|      32521|\n",
      "|   Product H|   San Diego|   CA|    USA|16238.377853609756|      32430|\n",
      "|   Product I|      Dallas|   TX|    USA|16214.700816333421|      32415|\n",
      "|   Product C|     Chicago|   IL|    USA|16212.334961552866|      32367|\n",
      "|   Product J|    San Jose|   CA|    USA|16205.668117725003|      32434|\n",
      "|   Product D|     Houston|   TX|    USA|16115.736272952994|      32344|\n",
      "|   Product E|     Phoenix|   AZ|    USA|15993.698453536646|      31985|\n",
      "+------------+------------+-----+-------+------------------+-----------+\n",
      "\n",
      "zorder_eventid_table_2: 22.798117126 seconds\n",
      "+------------+------------+-----+-------+------------------+-----------+\n",
      "|product_name|        city|state|country|       total_value|event_count|\n",
      "+------------+------------+-----+-------+------------------+-----------+\n",
      "|   Product G| San Antonio|   TX|    USA|16325.645384546511|      32631|\n",
      "|   Product A|    New York|   NY|    USA| 16293.04177339349|      32485|\n",
      "|   Product B| Los Angeles|   CA|    USA|16260.506950983136|      32449|\n",
      "|   Product F|Philadelphia|   PA|    USA|16259.047580883303|      32521|\n",
      "|   Product H|   San Diego|   CA|    USA|16238.377853609754|      32430|\n",
      "|   Product I|      Dallas|   TX|    USA|16214.700816333425|      32415|\n",
      "|   Product C|     Chicago|   IL|    USA| 16212.33496155287|      32367|\n",
      "|   Product J|    San Jose|   CA|    USA| 16205.66811772501|      32434|\n",
      "|   Product D|     Houston|   TX|    USA|16115.736272952994|      32344|\n",
      "|   Product E|     Phoenix|   AZ|    USA|15993.698453536641|      31985|\n",
      "+------------+------------+-----+-------+------------------+-----------+\n",
      "\n",
      "zorder_eventid_table_2: 22.484545177 seconds\n",
      "+------------+------------+-----+-------+------------------+-----------+\n",
      "|product_name|        city|state|country|       total_value|event_count|\n",
      "+------------+------------+-----+-------+------------------+-----------+\n",
      "|   Product G| San Antonio|   TX|    USA|16325.645384546518|      32631|\n",
      "|   Product A|    New York|   NY|    USA|16293.041773393488|      32485|\n",
      "|   Product B| Los Angeles|   CA|    USA|16260.506950983128|      32449|\n",
      "|   Product F|Philadelphia|   PA|    USA|16259.047580883307|      32521|\n",
      "|   Product H|   San Diego|   CA|    USA|16238.377853609758|      32430|\n",
      "|   Product I|      Dallas|   TX|    USA|16214.700816333421|      32415|\n",
      "|   Product C|     Chicago|   IL|    USA|16212.334961552866|      32367|\n",
      "|   Product J|    San Jose|   CA|    USA|16205.668117725012|      32434|\n",
      "|   Product D|     Houston|   TX|    USA|16115.736272952992|      32344|\n",
      "|   Product E|     Phoenix|   AZ|    USA|15993.698453536645|      31985|\n",
      "+------------+------------+-----+-------+------------------+-----------+\n",
      "\n",
      "zorder_eventid_table_2: 23.115967342 seconds\n",
      "+------------+------------+-----+-------+------------------+-----------+\n",
      "|product_name|        city|state|country|       total_value|event_count|\n",
      "+------------+------------+-----+-------+------------------+-----------+\n",
      "|   Product G| San Antonio|   TX|    USA|16325.645384546511|      32631|\n",
      "|   Product A|    New York|   NY|    USA|16293.041773393494|      32485|\n",
      "|   Product B| Los Angeles|   CA|    USA|16260.506950983128|      32449|\n",
      "|   Product F|Philadelphia|   PA|    USA|16259.047580883307|      32521|\n",
      "|   Product H|   San Diego|   CA|    USA|16238.377853609758|      32430|\n",
      "|   Product I|      Dallas|   TX|    USA|16214.700816333425|      32415|\n",
      "|   Product C|     Chicago|   IL|    USA|16212.334961552866|      32367|\n",
      "|   Product J|    San Jose|   CA|    USA|16205.668117725003|      32434|\n",
      "|   Product D|     Houston|   TX|    USA|16115.736272952992|      32344|\n",
      "|   Product E|     Phoenix|   AZ|    USA| 15993.69845353664|      31985|\n",
      "+------------+------------+-----+-------+------------------+-----------+\n",
      "\n",
      "zorder_eventid_table_2: 22.956612631 seconds\n",
      "+------------+------------+-----+-------+------------------+-----------+\n",
      "|product_name|        city|state|country|       total_value|event_count|\n",
      "+------------+------------+-----+-------+------------------+-----------+\n",
      "|   Product G| San Antonio|   TX|    USA|16325.645384546508|      32631|\n",
      "|   Product A|    New York|   NY|    USA|16293.041773393494|      32485|\n",
      "|   Product B| Los Angeles|   CA|    USA|16260.506950983128|      32449|\n",
      "|   Product F|Philadelphia|   PA|    USA|16259.047580883307|      32521|\n",
      "|   Product H|   San Diego|   CA|    USA| 16238.37785360976|      32430|\n",
      "|   Product I|      Dallas|   TX|    USA|16214.700816333414|      32415|\n",
      "|   Product C|     Chicago|   IL|    USA|16212.334961552868|      32367|\n",
      "|   Product J|    San Jose|   CA|    USA|16205.668117725007|      32434|\n",
      "|   Product D|     Houston|   TX|    USA|16115.736272952992|      32344|\n",
      "|   Product E|     Phoenix|   AZ|    USA|15993.698453536637|      31985|\n",
      "+------------+------------+-----+-------+------------------+-----------+\n",
      "\n",
      "zorder_eventid_table_2: 23.741194325 seconds\n",
      "+------------+------------+-----+-------+------------------+-----------+\n",
      "|product_name|        city|state|country|       total_value|event_count|\n",
      "+------------+------------+-----+-------+------------------+-----------+\n",
      "|   Product G| San Antonio|   TX|    USA|16325.645384546517|      32631|\n",
      "|   Product A|    New York|   NY|    USA|16293.041773393485|      32485|\n",
      "|   Product B| Los Angeles|   CA|    USA|16260.506950983134|      32449|\n",
      "|   Product F|Philadelphia|   PA|    USA|16259.047580883303|      32521|\n",
      "|   Product H|   San Diego|   CA|    USA| 16238.37785360976|      32430|\n",
      "|   Product I|      Dallas|   TX|    USA|16214.700816333421|      32415|\n",
      "|   Product C|     Chicago|   IL|    USA| 16212.33496155286|      32367|\n",
      "|   Product J|    San Jose|   CA|    USA|16205.668117725008|      32434|\n",
      "|   Product D|     Houston|   TX|    USA|16115.736272952987|      32344|\n",
      "|   Product E|     Phoenix|   AZ|    USA|15993.698453536643|      31985|\n",
      "+------------+------------+-----+-------+------------------+-----------+\n",
      "\n",
      "zorder_eventid_table_2: 23.222408678 seconds\n",
      "+------------+------------+-----+-------+------------------+-----------+\n",
      "|product_name|        city|state|country|       total_value|event_count|\n",
      "+------------+------------+-----+-------+------------------+-----------+\n",
      "|   Product G| San Antonio|   TX|    USA|16325.645384546517|      32631|\n",
      "|   Product A|    New York|   NY|    USA|16293.041773393486|      32485|\n",
      "|   Product B| Los Angeles|   CA|    USA|16260.506950983128|      32449|\n",
      "|   Product F|Philadelphia|   PA|    USA|16259.047580883305|      32521|\n",
      "|   Product H|   San Diego|   CA|    USA| 16238.37785360975|      32430|\n",
      "|   Product I|      Dallas|   TX|    USA|16214.700816333423|      32415|\n",
      "|   Product C|     Chicago|   IL|    USA|16212.334961552866|      32367|\n",
      "|   Product J|    San Jose|   CA|    USA|16205.668117725008|      32434|\n",
      "|   Product D|     Houston|   TX|    USA|   16115.736272953|      32344|\n",
      "|   Product E|     Phoenix|   AZ|    USA|15993.698453536652|      31985|\n",
      "+------------+------------+-----+-------+------------------+-----------+\n",
      "\n",
      "zorder_eventid_table_2: 22.326311432 seconds\n",
      "+------------+------------+-----+-------+------------------+-----------+\n",
      "|product_name|        city|state|country|       total_value|event_count|\n",
      "+------------+------------+-----+-------+------------------+-----------+\n",
      "|   Product G| San Antonio|   TX|    USA|16325.645384546508|      32631|\n",
      "|   Product A|    New York|   NY|    USA|16293.041773393492|      32485|\n",
      "|   Product B| Los Angeles|   CA|    USA|16260.506950983126|      32449|\n",
      "|   Product F|Philadelphia|   PA|    USA|16259.047580883305|      32521|\n",
      "|   Product H|   San Diego|   CA|    USA|16238.377853609752|      32430|\n",
      "|   Product I|      Dallas|   TX|    USA|16214.700816333425|      32415|\n",
      "|   Product C|     Chicago|   IL|    USA|16212.334961552868|      32367|\n",
      "|   Product J|    San Jose|   CA|    USA|16205.668117725001|      32434|\n",
      "|   Product D|     Houston|   TX|    USA|16115.736272952989|      32344|\n",
      "|   Product E|     Phoenix|   AZ|    USA|15993.698453536646|      31985|\n",
      "+------------+------------+-----+-------+------------------+-----------+\n",
      "\n",
      "zorder_eventid_table_2: 22.240243592 seconds\n",
      "+--------------------+----------------------+\n",
      "|               Table|Average Execution Time|\n",
      "+--------------------+----------------------+\n",
      "|zorder_eventid_ta...|         22.8642681589|\n",
      "+--------------------+----------------------+\n"
     ]
    },
    {
     "data": {
      "text/plain": [
       "tables: Seq[String] = List(zorder_eventid_table_2)\n",
       "numExecutions: Int = 10\n",
       "measureExecutionTime: (query: String)Double\n",
       "executionTimes: scala.collection.immutable.Map[String,scala.collection.mutable.ListBuffer[Double]] = Map(zorder_eventid_table_2 -> ListBuffer(23.022801957, 22.734479329, 22.798117126, 22.484545177, 23.115967342, 22.956612631, 23.741194325, 23.222408678, 22.326311432, 22.240243592))\n",
       "averageTimes: scala.collection.immutable.Map[String,Double] = Map(zorder_eventid_table_2 -> 22.8642681589)\n",
       "df: org.apache.spark.sql.DataFrame = [Table: string, Average Execution Time: double]\n"
      ]
     },
     "metadata": {},
     "output_type": "display_data",
     "source": "user"
    }
   ],
   "source": [
    "import org.apache.spark.sql.SparkSession\n",
    "import scala.collection.mutable.ListBuffer\n",
    "import scala.util.{Try, Success, Failure}\n",
    "\n",
    "\n",
    "spark.sql(\"USE zorder\")\n",
    "\n",
    "val tables = Seq(\"zorder_eventid_table_2\")\n",
    "val numExecutions = 10\n",
    "\n",
    "def measureExecutionTime(query: String): Double = {\n",
    "  spark.catalog.clearCache()\n",
    "  val startTime = System.nanoTime()\n",
    "  spark.sql(query).show()\n",
    "  val endTime = System.nanoTime()\n",
    "  (endTime - startTime) / 1e9\n",
    "}\n",
    "\n",
    "val executionTimes = tables.map(table => table -> ListBuffer[Double]()).toMap\n",
    "\n",
    "for (table <- tables) {\n",
    "  for (_ <- 1 to numExecutions) {\n",
    "    val query =\n",
    "      s\"\"\"\n",
    "        |SELECT\n",
    "        |    product_dim.product_name,\n",
    "        |    location_dim.city,\n",
    "        |    location_dim.state,\n",
    "        |    location_dim.country,\n",
    "        |    SUM($table.value) AS total_value,\n",
    "        |    COUNT($table.event_id) AS event_count\n",
    "        |FROM\n",
    "        |    $table\n",
    "        |JOIN\n",
    "        |    product_dim ON $table.product_id = product_dim.product_id\n",
    "        |JOIN\n",
    "        |    location_dim ON $table.location_id = location_dim.location_id\n",
    "        |WHERE\n",
    "        |    $table.event_id BETWEEN 459999 AND 999999\n",
    "        |    AND $table.actor_id IN (5001, 5002, 5003)\n",
    "        |GROUP BY\n",
    "        |    product_dim.product_name,\n",
    "        |    location_dim.city,\n",
    "        |    location_dim.state,\n",
    "        |    location_dim.country\n",
    "        |ORDER BY\n",
    "        |    total_value DESC;\n",
    "      \"\"\".stripMargin\n",
    "\n",
    "    val executionTime = Try(measureExecutionTime(query)) match {\n",
    "      case Success(time) => \n",
    "        println(s\"$table: $time seconds\")\n",
    "        executionTimes(table) += time\n",
    "      case Failure(e) =>\n",
    "        println(s\"Error for table $table: ${e.getMessage}\")\n",
    "    }\n",
    "  }\n",
    "}\n",
    "\n",
    "val averageTimes = executionTimes.mapValues(times => times.sum / numExecutions)\n",
    "\n",
    "import spark.implicits._\n",
    "val df = averageTimes.toSeq.toDF(\"Table\", \"Average Execution Time\")\n",
    "df.show()\n"
   ]
  },
  {
   "cell_type": "code",
   "execution_count": 26,
   "id": "7d8485d9-498f-4025-815a-d97b8bdabbc9",
   "metadata": {},
   "outputs": [
    {
     "name": "stdout",
     "output_type": "stream",
     "text": [
      "+------------+------------+-----+-------+------------------+-----------+\n",
      "|product_name|        city|state|country|       total_value|event_count|\n",
      "+------------+------------+-----+-------+------------------+-----------+\n",
      "|   Product G| San Antonio|   TX|    USA|16325.645384546513|      32631|\n",
      "|   Product A|    New York|   NY|    USA|16293.041773393485|      32485|\n",
      "|   Product B| Los Angeles|   CA|    USA| 16260.50695098313|      32449|\n",
      "|   Product F|Philadelphia|   PA|    USA|16259.047580883309|      32521|\n",
      "|   Product H|   San Diego|   CA|    USA|16238.377853609754|      32430|\n",
      "|   Product I|      Dallas|   TX|    USA|16214.700816333418|      32415|\n",
      "|   Product C|     Chicago|   IL|    USA|16212.334961552868|      32367|\n",
      "|   Product J|    San Jose|   CA|    USA| 16205.66811772501|      32434|\n",
      "|   Product D|     Houston|   TX|    USA| 16115.73627295299|      32344|\n",
      "|   Product E|     Phoenix|   AZ|    USA|15993.698453536652|      31985|\n",
      "+------------+------------+-----+-------+------------------+-----------+\n",
      "\n",
      "zorder_eventid_table_2: 21.751158897 seconds\n",
      "+------------+------------+-----+-------+------------------+-----------+\n",
      "|product_name|        city|state|country|       total_value|event_count|\n",
      "+------------+------------+-----+-------+------------------+-----------+\n",
      "|   Product G| San Antonio|   TX|    USA|16325.645384546511|      32631|\n",
      "|   Product A|    New York|   NY|    USA|16293.041773393488|      32485|\n",
      "|   Product B| Los Angeles|   CA|    USA|16260.506950983134|      32449|\n",
      "|   Product F|Philadelphia|   PA|    USA|16259.047580883313|      32521|\n",
      "|   Product H|   San Diego|   CA|    USA|16238.377853609762|      32430|\n",
      "|   Product I|      Dallas|   TX|    USA| 16214.70081633342|      32415|\n",
      "|   Product C|     Chicago|   IL|    USA|16212.334961552864|      32367|\n",
      "|   Product J|    San Jose|   CA|    USA|16205.668117725014|      32434|\n",
      "|   Product D|     Houston|   TX|    USA|16115.736272952994|      32344|\n",
      "|   Product E|     Phoenix|   AZ|    USA|15993.698453536641|      31985|\n",
      "+------------+------------+-----+-------+------------------+-----------+\n",
      "\n",
      "zorder_eventid_table_2: 23.635414218 seconds\n",
      "+------------+------------+-----+-------+------------------+-----------+\n",
      "|product_name|        city|state|country|       total_value|event_count|\n",
      "+------------+------------+-----+-------+------------------+-----------+\n",
      "|   Product G| San Antonio|   TX|    USA|16325.645384546504|      32631|\n",
      "|   Product A|    New York|   NY|    USA|16293.041773393483|      32485|\n",
      "|   Product B| Los Angeles|   CA|    USA|16260.506950983136|      32449|\n",
      "|   Product F|Philadelphia|   PA|    USA|16259.047580883309|      32521|\n",
      "|   Product H|   San Diego|   CA|    USA|16238.377853609752|      32430|\n",
      "|   Product I|      Dallas|   TX|    USA|16214.700816333427|      32415|\n",
      "|   Product C|     Chicago|   IL|    USA|16212.334961552871|      32367|\n",
      "|   Product J|    San Jose|   CA|    USA|16205.668117725001|      32434|\n",
      "|   Product D|     Houston|   TX|    USA|16115.736272952983|      32344|\n",
      "|   Product E|     Phoenix|   AZ|    USA|15993.698453536646|      31985|\n",
      "+------------+------------+-----+-------+------------------+-----------+\n",
      "\n",
      "zorder_eventid_table_2: 22.433264602 seconds\n",
      "+------------+------------+-----+-------+------------------+-----------+\n",
      "|product_name|        city|state|country|       total_value|event_count|\n",
      "+------------+------------+-----+-------+------------------+-----------+\n",
      "|   Product G| San Antonio|   TX|    USA|16325.645384546515|      32631|\n",
      "|   Product A|    New York|   NY|    USA|16293.041773393486|      32485|\n",
      "|   Product B| Los Angeles|   CA|    USA|16260.506950983134|      32449|\n",
      "|   Product F|Philadelphia|   PA|    USA|16259.047580883309|      32521|\n",
      "|   Product H|   San Diego|   CA|    USA|16238.377853609754|      32430|\n",
      "|   Product I|      Dallas|   TX|    USA|16214.700816333414|      32415|\n",
      "|   Product C|     Chicago|   IL|    USA| 16212.33496155287|      32367|\n",
      "|   Product J|    San Jose|   CA|    USA|   16205.668117725|      32434|\n",
      "|   Product D|     Houston|   TX|    USA|16115.736272952996|      32344|\n",
      "|   Product E|     Phoenix|   AZ|    USA| 15993.69845353664|      31985|\n",
      "+------------+------------+-----+-------+------------------+-----------+\n",
      "\n",
      "zorder_eventid_table_2: 22.483855331 seconds\n",
      "+------------+------------+-----+-------+------------------+-----------+\n",
      "|product_name|        city|state|country|       total_value|event_count|\n",
      "+------------+------------+-----+-------+------------------+-----------+\n",
      "|   Product G| San Antonio|   TX|    USA| 16325.64538454651|      32631|\n",
      "|   Product A|    New York|   NY|    USA|16293.041773393483|      32485|\n",
      "|   Product B| Los Angeles|   CA|    USA| 16260.50695098313|      32449|\n",
      "|   Product F|Philadelphia|   PA|    USA| 16259.04758088331|      32521|\n",
      "|   Product H|   San Diego|   CA|    USA| 16238.37785360976|      32430|\n",
      "|   Product I|      Dallas|   TX|    USA|16214.700816333416|      32415|\n",
      "|   Product C|     Chicago|   IL|    USA|16212.334961552871|      32367|\n",
      "|   Product J|    San Jose|   CA|    USA|16205.668117725014|      32434|\n",
      "|   Product D|     Houston|   TX|    USA|16115.736272952998|      32344|\n",
      "|   Product E|     Phoenix|   AZ|    USA| 15993.69845353664|      31985|\n",
      "+------------+------------+-----+-------+------------------+-----------+\n",
      "\n",
      "zorder_eventid_table_2: 22.216420412 seconds\n",
      "+------------+------------+-----+-------+------------------+-----------+\n",
      "|product_name|        city|state|country|       total_value|event_count|\n",
      "+------------+------------+-----+-------+------------------+-----------+\n",
      "|   Product G| San Antonio|   TX|    USA|16325.645384546515|      32631|\n",
      "|   Product A|    New York|   NY|    USA|16293.041773393486|      32485|\n",
      "|   Product B| Los Angeles|   CA|    USA|16260.506950983132|      32449|\n",
      "|   Product F|Philadelphia|   PA|    USA|16259.047580883302|      32521|\n",
      "|   Product H|   San Diego|   CA|    USA|16238.377853609767|      32430|\n",
      "|   Product I|      Dallas|   TX|    USA|16214.700816333418|      32415|\n",
      "|   Product C|     Chicago|   IL|    USA|16212.334961552868|      32367|\n",
      "|   Product J|    San Jose|   CA|    USA|16205.668117725014|      32434|\n",
      "|   Product D|     Houston|   TX|    USA|16115.736272952992|      32344|\n",
      "|   Product E|     Phoenix|   AZ|    USA|15993.698453536641|      31985|\n",
      "+------------+------------+-----+-------+------------------+-----------+\n",
      "\n",
      "zorder_eventid_table_2: 22.870801321 seconds\n",
      "+------------+------------+-----+-------+------------------+-----------+\n",
      "|product_name|        city|state|country|       total_value|event_count|\n",
      "+------------+------------+-----+-------+------------------+-----------+\n",
      "|   Product G| San Antonio|   TX|    USA|16325.645384546515|      32631|\n",
      "|   Product A|    New York|   NY|    USA|16293.041773393483|      32485|\n",
      "|   Product B| Los Angeles|   CA|    USA|16260.506950983128|      32449|\n",
      "|   Product F|Philadelphia|   PA|    USA| 16259.04758088331|      32521|\n",
      "|   Product H|   San Diego|   CA|    USA|16238.377853609752|      32430|\n",
      "|   Product I|      Dallas|   TX|    USA| 16214.70081633342|      32415|\n",
      "|   Product C|     Chicago|   IL|    USA|16212.334961552868|      32367|\n",
      "|   Product J|    San Jose|   CA|    USA|16205.668117725007|      32434|\n",
      "|   Product D|     Houston|   TX|    USA|16115.736272952996|      32344|\n",
      "|   Product E|     Phoenix|   AZ|    USA|15993.698453536637|      31985|\n",
      "+------------+------------+-----+-------+------------------+-----------+\n",
      "\n",
      "zorder_eventid_table_2: 23.12979216 seconds\n",
      "+------------+------------+-----+-------+------------------+-----------+\n",
      "|product_name|        city|state|country|       total_value|event_count|\n",
      "+------------+------------+-----+-------+------------------+-----------+\n",
      "|   Product G| San Antonio|   TX|    USA|16325.645384546515|      32631|\n",
      "|   Product A|    New York|   NY|    USA|16293.041773393488|      32485|\n",
      "|   Product B| Los Angeles|   CA|    USA|16260.506950983132|      32449|\n",
      "|   Product F|Philadelphia|   PA|    USA|16259.047580883302|      32521|\n",
      "|   Product H|   San Diego|   CA|    USA|16238.377853609754|      32430|\n",
      "|   Product I|      Dallas|   TX|    USA|16214.700816333423|      32415|\n",
      "|   Product C|     Chicago|   IL|    USA|16212.334961552868|      32367|\n",
      "|   Product J|    San Jose|   CA|    USA|16205.668117725016|      32434|\n",
      "|   Product D|     Houston|   TX|    USA|16115.736272952989|      32344|\n",
      "|   Product E|     Phoenix|   AZ|    USA|15993.698453536641|      31985|\n",
      "+------------+------------+-----+-------+------------------+-----------+\n",
      "\n",
      "zorder_eventid_table_2: 22.197630428 seconds\n",
      "+------------+------------+-----+-------+------------------+-----------+\n",
      "|product_name|        city|state|country|       total_value|event_count|\n",
      "+------------+------------+-----+-------+------------------+-----------+\n",
      "|   Product G| San Antonio|   TX|    USA|16325.645384546515|      32631|\n",
      "|   Product A|    New York|   NY|    USA|16293.041773393486|      32485|\n",
      "|   Product B| Los Angeles|   CA|    USA|16260.506950983123|      32449|\n",
      "|   Product F|Philadelphia|   PA|    USA|16259.047580883307|      32521|\n",
      "|   Product H|   San Diego|   CA|    USA|16238.377853609754|      32430|\n",
      "|   Product I|      Dallas|   TX|    USA| 16214.70081633342|      32415|\n",
      "|   Product C|     Chicago|   IL|    USA|16212.334961552864|      32367|\n",
      "|   Product J|    San Jose|   CA|    USA| 16205.66811772501|      32434|\n",
      "|   Product D|     Houston|   TX|    USA|16115.736272952996|      32344|\n",
      "|   Product E|     Phoenix|   AZ|    USA|15993.698453536652|      31985|\n",
      "+------------+------------+-----+-------+------------------+-----------+\n",
      "\n",
      "zorder_eventid_table_2: 22.480985652 seconds\n",
      "+------------+------------+-----+-------+------------------+-----------+\n",
      "|product_name|        city|state|country|       total_value|event_count|\n",
      "+------------+------------+-----+-------+------------------+-----------+\n",
      "|   Product G| San Antonio|   TX|    USA|16325.645384546513|      32631|\n",
      "|   Product A|    New York|   NY|    USA|16293.041773393492|      32485|\n",
      "|   Product B| Los Angeles|   CA|    USA|16260.506950983136|      32449|\n",
      "|   Product F|Philadelphia|   PA|    USA|  16259.0475808833|      32521|\n",
      "|   Product H|   San Diego|   CA|    USA|16238.377853609762|      32430|\n",
      "|   Product I|      Dallas|   TX|    USA|16214.700816333418|      32415|\n",
      "|   Product C|     Chicago|   IL|    USA|16212.334961552864|      32367|\n",
      "|   Product J|    San Jose|   CA|    USA|16205.668117725008|      32434|\n",
      "|   Product D|     Houston|   TX|    USA|16115.736272952987|      32344|\n",
      "|   Product E|     Phoenix|   AZ|    USA|15993.698453536648|      31985|\n",
      "+------------+------------+-----+-------+------------------+-----------+\n",
      "\n",
      "zorder_eventid_table_2: 22.802940655 seconds\n"
     ]
    },
    {
     "data": {
      "text/plain": [
       "tables: Seq[String] = List(zorder_eventid_table_2)\n",
       "numExecutions: Int = 10\n",
       "measureExecutionTime: (df: org.apache.spark.sql.DataFrame)Double\n",
       "executionTimes: scala.collection.immutable.Map[String,scala.collection.mutable.ListBuffer[Double]] = Map(zorder_eventid_table_2 -> ListBuffer(21.751158897, 23.635414218, 22.433264602, 22.483855331, 22.216420412, 22.870801321, 23.12979216, 22.197630428, 22.480985652, 22.802940655))\n",
       "averageTimes: scala.collection.immutable.Map[String,Double] = Map(zorder_eventid_table_2 -> 22.600226367599998)\n",
       "df: org.apache.spark.sql.DataFrame = [Table: string, Average Execution T...\n"
      ]
     },
     "metadata": {},
     "output_type": "display_data",
     "source": "user"
    }
   ],
   "source": [
    "import org.apache.spark.sql.SparkSession\n",
    "import org.apache.spark.sql.functions._\n",
    "import scala.collection.mutable.ListBuffer\n",
    "import scala.util.{Try, Success, Failure}\n",
    "\n",
    "\n",
    "\n",
    "spark.sql(\"USE zorder\")\n",
    "\n",
    "val tables = Seq(\"zorder_eventid_table_2\")\n",
    "val numExecutions = 10\n",
    "\n",
    "def measureExecutionTime(df: org.apache.spark.sql.DataFrame): Double = {\n",
    "  spark.catalog.clearCache()\n",
    "  val startTime = System.nanoTime()\n",
    "  df.show()\n",
    "  val endTime = System.nanoTime()\n",
    "  (endTime - startTime) / 1e9\n",
    "}\n",
    "\n",
    "val executionTimes = tables.map(table => table -> ListBuffer[Double]()).toMap\n",
    "\n",
    "for (table <- tables) {\n",
    "  val df = spark.table(table)\n",
    "    .join(spark.table(\"product_dim\"), col(s\"$table.product_id\") === col(\"product_dim.product_id\"))\n",
    "    .join(spark.table(\"location_dim\"), col(s\"$table.location_id\") === col(\"location_dim.location_id\"))\n",
    "    .filter(col(s\"$table.event_id\").between(459999, 999999) && col(s\"$table.actor_id\").isin(5001, 5002, 5003))\n",
    "    .groupBy(\"product_dim.product_name\", \"location_dim.city\", \"location_dim.state\", \"location_dim.country\")\n",
    "    .agg(\n",
    "      sum(col(s\"$table.value\")).alias(\"total_value\"),\n",
    "      count(col(s\"$table.event_id\")).alias(\"event_count\")\n",
    "    )\n",
    "    .orderBy(desc(\"total_value\"))\n",
    "\n",
    "\n",
    "  for (_ <- 1 to numExecutions) {\n",
    "    Try(measureExecutionTime(df)) match {\n",
    "      case Success(time) => \n",
    "        println(s\"$table: $time seconds\")\n",
    "        executionTimes(table) += time\n",
    "      case Failure(e) =>\n",
    "        println(s\"Error for table $table: ${e.getMessage}\")\n",
    "    }\n",
    "  }\n",
    "}\n",
    "\n",
    "val averageTimes = executionTimes.mapValues(times => times.sum / numExecutions)\n",
    "\n",
    "import spark.implicits._\n",
    "val df = averageTimes.toSeq.toDF(\"Table\", \"Average Execution Time\")\n"
   ]
  },
  {
   "cell_type": "code",
   "execution_count": 2,
   "id": "f1bd4da2-edbf-44a1-abe4-cc671a9ab843",
   "metadata": {},
   "outputs": [
    {
     "data": {
      "text/plain": [
       "db = scala_test\n",
       "deltaDbPath = hdfs://192.168.0.144:9000/datalake/scala_test\n"
      ]
     },
     "metadata": {},
     "output_type": "display_data",
     "source": "user"
    },
    {
     "data": {
      "text/plain": [
       "hdfs://192.168.0.144:9000/datalake/scala_test"
      ]
     },
     "execution_count": 2,
     "metadata": {},
     "output_type": "execute_result"
    }
   ],
   "source": [
    "val db = \"scala_test\"\n",
    "val deltaDbPath = \"hdfs://192.168.0.144:9000/datalake/scala_test\""
   ]
  },
  {
   "cell_type": "code",
   "execution_count": 3,
   "id": "8de7c159-6bed-41c7-893f-e62efd7f2c07",
   "metadata": {},
   "outputs": [
    {
     "data": {
      "text/plain": [
       "[]"
      ]
     },
     "execution_count": 3,
     "metadata": {},
     "output_type": "execute_result"
    }
   ],
   "source": [
    "// spark.sql(s\"DROP DATABASE $db CASCADE\")\n",
    "\n",
    "spark.sql(s\"CREATE DATABASE $db LOCATION '$deltaDbPath'\")\n",
    "spark.sql(s\"USE $db\")"
   ]
  },
  {
   "cell_type": "code",
   "execution_count": 4,
   "id": "8f6d6b6c-babf-4ac5-8e6b-d6967d6c9a42",
   "metadata": {},
   "outputs": [
    {
     "data": {
      "text/plain": [
       "num = 3\n",
       "maxRows = 8000000000\n",
       "rowCounts = Vector(8000000000, 4000000000, 2000000000)\n"
      ]
     },
     "metadata": {},
     "output_type": "display_data",
     "source": "user"
    },
    {
     "data": {
      "text/plain": [
       "Vector(8000000000, 4000000000, 2000000000)"
      ]
     },
     "execution_count": 4,
     "metadata": {},
     "output_type": "execute_result"
    }
   ],
   "source": [
    "val num = 3 \n",
    "val maxRows = 8000000000L\n",
    "\n",
    "val rowCounts = (0 until num).map(i => maxRows / (math.pow(2, i).toLong))\n",
    "\n",
    "for (i <- 0 until num) {\n",
    "  val compactionTableName = s\"scala_test_${rowCounts(i)}\"\n",
    "  spark.sql(s\"DROP TABLE IF EXISTS $compactionTableName\")\n",
    "  spark.sql(s\"\"\"\n",
    "    CREATE TABLE $compactionTableName (\n",
    "      timestamp TIMESTAMP,\n",
    "      value DOUBLE,\n",
    "      country STRING,\n",
    "      event_id LONG,\n",
    "      actor_id LONG,\n",
    "      year INT,\n",
    "      month LONG,\n",
    "      day LONG,\n",
    "      product_id INT,\n",
    "      location_id INT,\n",
    "      department_id INT,\n",
    "      campaign_id INT,\n",
    "      customer_id INT\n",
    "    )\n",
    "    USING delta\n",
    "  \"\"\")\n",
    "}\n"
   ]
  },
  {
   "cell_type": "code",
   "execution_count": 6,
   "id": "17eb7b6c-b5eb-4479-b308-1f59789d779d",
   "metadata": {},
   "outputs": [
    {
     "name": "stdout",
     "output_type": "stream",
     "text": [
      "Inserting data for table scala_test.scala_test_2000000000\n",
      "Time taken: 2193.026517604 seconds\n"
     ]
    },
    {
     "data": {
      "text/plain": [
       "lastException = null\n",
       "tablePairs = List((scala_test.scala_test_2000000000,raw_data.raw_data_2))\n"
      ]
     },
     "metadata": {},
     "output_type": "display_data",
     "source": "user"
    },
    {
     "data": {
      "text/plain": [
       "List((scala_test.scala_test_2000000000,raw_data.raw_data_2))"
      ]
     },
     "execution_count": 6,
     "metadata": {},
     "output_type": "execute_result"
    }
   ],
   "source": [
    "val tablePairs = Seq(\n",
    "  (\"scala_test.scala_test_2000000000\", \"raw_data.raw_data_2\")\n",
    ")\n",
    "\n",
    "for ((targetTable, sourceTable) <- tablePairs) {\n",
    "  val insertSql = s\"\"\"\n",
    "    INSERT INTO $targetTable\n",
    "    SELECT * FROM $sourceTable\n",
    "  \"\"\"\n",
    "  println(s\"Inserting data for table $targetTable\")\n",
    "  val startTime = System.nanoTime()\n",
    "  spark.sql(insertSql)\n",
    "  val endTime = System.nanoTime()\n",
    "  val duration = (endTime - startTime) / 1e9\n",
    "  println(s\"Time taken: $duration seconds\")\n",
    "}"
   ]
  },
  {
   "cell_type": "code",
   "execution_count": 7,
   "id": "a4f06042-cf93-4456-9143-55228e933d33",
   "metadata": {},
   "outputs": [
    {
     "name": "stdout",
     "output_type": "stream",
     "text": [
      "+-----+------+\n",
      "|   id| value|\n",
      "+-----+------+\n",
      "|29077| 58154|\n",
      "|30650| 61300|\n",
      "|27330| 54660|\n",
      "|38002| 76004|\n",
      "|12380| 24760|\n",
      "| 9533| 19066|\n",
      "|45961| 91922|\n",
      "|58194|116388|\n",
      "|62814|125628|\n",
      "|28900| 57800|\n",
      "|38297| 76594|\n",
      "| 2469|  4938|\n",
      "|15480| 30960|\n",
      "|56232|112464|\n",
      "|29772| 59544|\n",
      "|63957|127914|\n",
      "|63725|127450|\n",
      "|  652|  1304|\n",
      "|51374|102748|\n",
      "|34207| 68414|\n",
      "+-----+------+\n",
      "only showing top 20 rows\n",
      "\n",
      "Scala execution time: 4.612249832 seconds\n"
     ]
    },
    {
     "data": {
      "text/plain": [
       "numRows = 1000000\n",
       "numPartitions = 10\n",
       "df = [id: bigint, value: bigint]\n",
       "startTime = 19356594084873\n",
       "result = Array([92620,1], [90398,1], [123688,1], [38108,1], [54184,1], [13518,1], [60882,1], [699492,1], [783848,1], [749836,1], [797856,1], [725018,1], [727744,1], [715112,1], [1400632,1], [1381588,1], [1387108,1], [1391936,1], [1335392,1], [1333766,1], [1394200,1], [595768,1], [538090,1], [618626,1], [617410,1], [659334,1], [604110,1], [559532,1], [590390,1], [1266854,1], [1297432,1], [1255270,1], [1274588,1], [1284128,1], [1281372,1], [1283356,1], [1294130,1], [1261808,1], [1288982,1], [1919826,1], [1877402,1], [1874138,1], [1998964,1], [1996550,1], [1996882,1], [269650...\n"
      ]
     },
     "metadata": {},
     "output_type": "display_data",
     "source": "user"
    },
    {
     "data": {
      "text/plain": [
       "Array([92620,1], [90398,1], [123688,1], [38108,1], [54184,1], [13518,1], [60882,1], [699492,1], [783848,1], [749836,1], [797856,1], [725018,1], [727744,1], [715112,1], [1400632,1], [1381588,1], [1387108,1], [1391936,1], [1335392,1], [1333766,1], [1394200,1], [595768,1], [538090,1], [618626,1], [617410,1], [659334,1], [604110,1], [559532,1], [590390,1], [1266854,1], [1297432,1], [1255270,1], [1274588,1], [1284128,1], [1281372,1], [1283356,1], [1294130,1], [1261808,1], [1288982,1], [1919826,1], [1877402,1], [1874138,1], [1998964,1], [1996550,1], [1996882,1], [269650..."
      ]
     },
     "execution_count": 7,
     "metadata": {},
     "output_type": "execute_result"
    }
   ],
   "source": [
    "import org.apache.spark.sql.functions._\n",
    "\n",
    "\n",
    "val numRows = 1000000\n",
    "val numPartitions = 10\n",
    "\n",
    "val df = spark.range(numRows).repartition(numPartitions)\n",
    "  .withColumn(\"value\", col(\"id\") * 2)\n",
    "\n",
    "val startTime = System.nanoTime()\n",
    "\n",
    "val result = df\n",
    "  .filter(col(\"value\") % 2 === 0)\n",
    "  .groupBy(\"value\")\n",
    "  .count()\n",
    "  .collect()\n",
    "\n",
    "df.show()\n",
    "\n",
    "val endTime = System.nanoTime()\n",
    "val duration = (endTime - startTime) / 1e9 \n",
    "\n",
    "println(s\"Scala execution time: $duration seconds\")\n"
   ]
  }
 ],
 "metadata": {
  "kernelspec": {
   "display_name": "Apache Toree - Scala",
   "language": "scala",
   "name": "apache_toree_scala"
  },
  "language_info": {
   "codemirror_mode": "text/x-scala",
   "file_extension": ".scala",
   "mimetype": "text/x-scala",
   "name": "scala",
   "pygments_lexer": "scala",
   "version": "2.12.15"
  }
 },
 "nbformat": 4,
 "nbformat_minor": 5
}
