{
 "cells": [
  {
   "cell_type": "markdown",
   "id": "82e78f00-a242-4f4d-bc01-1e626ddf6f6b",
   "metadata": {},
   "source": [
    "# PySpark Notebook"
   ]
  },
  {
   "cell_type": "markdown",
   "id": "70a355ad-5537-45d2-9e3c-847e58aa016a",
   "metadata": {},
   "source": [
    "This notebook performs the following operations:\n",
    "\n",
    "- Execute query with SQL API\n",
    "- Execute query with Dataframe API\n",
    "- Create tables and fill them with data\n",
    "\n",
    "This experiment was designed to ascertain whether Scala offers a notable advantage in terms of performance when compared to PySpark. The corresponding code can be found in the scala-toree notebook."
   ]
  },
  {
   "cell_type": "code",
   "execution_count": 3,
   "id": "1fcb0612-12b0-4fff-9e1f-6b685fcbe325",
   "metadata": {},
   "outputs": [],
   "source": [
    "spark.stop()"
   ]
  },
  {
   "cell_type": "code",
   "execution_count": 15,
   "id": "530d2783-7b0f-4ae5-9ac4-1de6c1757b13",
   "metadata": {},
   "outputs": [],
   "source": [
    "from pyspark.sql import SparkSession\n",
    "import os\n",
    "\n",
    "spark = SparkSession.builder \\\n",
    "    .appName(\"PySparkTest\") \\\n",
    "    .master(\"spark://192.168.0.144:7077\") \\\n",
    "    .config(\"spark.sql.extensions\", \"io.delta.sql.DeltaSparkSessionExtension\") \\\n",
    "    .config(\"spark.sql.catalog.spark_catalog\", \"org.apache.spark.sql.delta.catalog.DeltaCatalog\") \\\n",
    "    .config(\"spark.hadoop.hive.metastore.uris\", \"thrift://192.168.0.144:9083\") \\\n",
    "    .config(\"spark.hadoop.javax.jdo.option.ConnectionURL\", \"jdbc:mysql://192.168.0.144:3306/metastore_db\") \\\n",
    "    .config(\"spark.hadoop.javax.jdo.option.ConnectionDriverName\", \"com.mysql.cj.jdbc.Driver\") \\\n",
    "    .config(\"spark.hadoop.javax.jdo.option.ConnectionUserName\", \"lh\") \\\n",
    "    .config(\"spark.hadoop.javax.jdo.option.ConnectionPassword\", os.getenv('MYSQL', 'Default_Value')) \\\n",
    "    .config(\"spark.jars\", \"/usr/local/spark/jars/delta-storage-3.2.0.jar,/usr/local/spark/jars/delta-spark_2.12-3.2.0.jar\")    \\\n",
    "    .config(\"spark.delta.logStore.class\", \"org.apache.spark.sql.delta.storage.HDFSLogStore\") \\\n",
    "    .config(\"spark.executor.memory\", \"9g\") \\\n",
    "    .config(\"spark.executor.cores\", \"3\") \\\n",
    "    .config(\"spark.driver.memory\", \"19g\") \\\n",
    "    .config(\"spark.driver.maxResultSize\", \"2g\") \\\n",
    "    .config(\"spark.hadoop.fs.defaultFS\", \"hdfs://192.168.0.144:9000\") \\\n",
    "    .config(\"spark.databricks.delta.clusteredTable.enableClusteringTablePreview\", \"true\") \\\n",
    "    .config(\"spark.sql.debug.maxToStringFields\", \"1000\") \\\n",
    "    .enableHiveSupport() \\\n",
    "    .getOrCreate()"
   ]
  },
  {
   "cell_type": "code",
   "execution_count": 6,
   "id": "a810c7af-2dda-4df1-b7d1-100d6a464f9d",
   "metadata": {},
   "outputs": [
    {
     "name": "stderr",
     "output_type": "stream",
     "text": [
      "                                                                                \r"
     ]
    },
    {
     "name": "stdout",
     "output_type": "stream",
     "text": [
      "+------------+------------+-----+-------+------------------+-----------+\n",
      "|product_name|        city|state|country|       total_value|event_count|\n",
      "+------------+------------+-----+-------+------------------+-----------+\n",
      "|   Product G| San Antonio|   TX|    USA|16325.645384546522|      32631|\n",
      "|   Product A|    New York|   NY|    USA|16293.041773393486|      32485|\n",
      "|   Product B| Los Angeles|   CA|    USA|16260.506950983123|      32449|\n",
      "|   Product F|Philadelphia|   PA|    USA|16259.047580883305|      32521|\n",
      "|   Product H|   San Diego|   CA|    USA|16238.377853609758|      32430|\n",
      "|   Product I|      Dallas|   TX|    USA|16214.700816333414|      32415|\n",
      "|   Product C|     Chicago|   IL|    USA|16212.334961552855|      32367|\n",
      "|   Product J|    San Jose|   CA|    USA|16205.668117725012|      32434|\n",
      "|   Product D|     Houston|   TX|    USA|16115.736272952996|      32344|\n",
      "|   Product E|     Phoenix|   AZ|    USA|15993.698453536641|      31985|\n",
      "+------------+------------+-----+-------+------------------+-----------+\n",
      "\n",
      "zorder_eventid_actorid_table_2: 63.76793360710144 seconds\n"
     ]
    },
    {
     "name": "stderr",
     "output_type": "stream",
     "text": [
      "                                                                                \r"
     ]
    },
    {
     "name": "stdout",
     "output_type": "stream",
     "text": [
      "+------------+------------+-----+-------+------------------+-----------+\n",
      "|product_name|        city|state|country|       total_value|event_count|\n",
      "+------------+------------+-----+-------+------------------+-----------+\n",
      "|   Product G| San Antonio|   TX|    USA| 16325.64538454652|      32631|\n",
      "|   Product A|    New York|   NY|    USA|16293.041773393483|      32485|\n",
      "|   Product B| Los Angeles|   CA|    USA|16260.506950983121|      32449|\n",
      "|   Product F|Philadelphia|   PA|    USA|16259.047580883309|      32521|\n",
      "|   Product H|   San Diego|   CA|    USA|16238.377853609756|      32430|\n",
      "|   Product I|      Dallas|   TX|    USA|16214.700816333416|      32415|\n",
      "|   Product C|     Chicago|   IL|    USA|16212.334961552853|      32367|\n",
      "|   Product J|    San Jose|   CA|    USA|16205.668117725012|      32434|\n",
      "|   Product D|     Houston|   TX|    USA|16115.736272952996|      32344|\n",
      "|   Product E|     Phoenix|   AZ|    USA|15993.698453536641|      31985|\n",
      "+------------+------------+-----+-------+------------------+-----------+\n",
      "\n",
      "zorder_eventid_actorid_table_2: 11.138405323028564 seconds\n"
     ]
    },
    {
     "name": "stderr",
     "output_type": "stream",
     "text": [
      "                                                                                \r"
     ]
    },
    {
     "name": "stdout",
     "output_type": "stream",
     "text": [
      "+------------+------------+-----+-------+------------------+-----------+\n",
      "|product_name|        city|state|country|       total_value|event_count|\n",
      "+------------+------------+-----+-------+------------------+-----------+\n",
      "|   Product G| San Antonio|   TX|    USA|16325.645384546518|      32631|\n",
      "|   Product A|    New York|   NY|    USA|16293.041773393486|      32485|\n",
      "|   Product B| Los Angeles|   CA|    USA|16260.506950983123|      32449|\n",
      "|   Product F|Philadelphia|   PA|    USA|16259.047580883309|      32521|\n",
      "|   Product H|   San Diego|   CA|    USA| 16238.37785360976|      32430|\n",
      "|   Product I|      Dallas|   TX|    USA|16214.700816333414|      32415|\n",
      "|   Product C|     Chicago|   IL|    USA|16212.334961552859|      32367|\n",
      "|   Product J|    San Jose|   CA|    USA| 16205.66811772501|      32434|\n",
      "|   Product D|     Houston|   TX|    USA|16115.736272952998|      32344|\n",
      "|   Product E|     Phoenix|   AZ|    USA|15993.698453536641|      31985|\n",
      "+------------+------------+-----+-------+------------------+-----------+\n",
      "\n",
      "zorder_eventid_actorid_table_2: 10.415256977081299 seconds\n"
     ]
    },
    {
     "name": "stderr",
     "output_type": "stream",
     "text": [
      "                                                                                \r"
     ]
    },
    {
     "name": "stdout",
     "output_type": "stream",
     "text": [
      "+------------+------------+-----+-------+------------------+-----------+\n",
      "|product_name|        city|state|country|       total_value|event_count|\n",
      "+------------+------------+-----+-------+------------------+-----------+\n",
      "|   Product G| San Antonio|   TX|    USA|16325.645384546522|      32631|\n",
      "|   Product A|    New York|   NY|    USA|16293.041773393481|      32485|\n",
      "|   Product B| Los Angeles|   CA|    USA|16260.506950983125|      32449|\n",
      "|   Product F|Philadelphia|   PA|    USA|16259.047580883305|      32521|\n",
      "|   Product H|   San Diego|   CA|    USA| 16238.37785360976|      32430|\n",
      "|   Product I|      Dallas|   TX|    USA|16214.700816333416|      32415|\n",
      "|   Product C|     Chicago|   IL|    USA|16212.334961552855|      32367|\n",
      "|   Product J|    San Jose|   CA|    USA|16205.668117725018|      32434|\n",
      "|   Product D|     Houston|   TX|    USA|   16115.736272953|      32344|\n",
      "|   Product E|     Phoenix|   AZ|    USA|15993.698453536637|      31985|\n",
      "+------------+------------+-----+-------+------------------+-----------+\n",
      "\n",
      "zorder_eventid_actorid_table_2: 9.937813520431519 seconds\n"
     ]
    },
    {
     "name": "stderr",
     "output_type": "stream",
     "text": [
      "                                                                                \r"
     ]
    },
    {
     "name": "stdout",
     "output_type": "stream",
     "text": [
      "+------------+------------+-----+-------+------------------+-----------+\n",
      "|product_name|        city|state|country|       total_value|event_count|\n",
      "+------------+------------+-----+-------+------------------+-----------+\n",
      "|   Product G| San Antonio|   TX|    USA|16325.645384546518|      32631|\n",
      "|   Product A|    New York|   NY|    USA|16293.041773393485|      32485|\n",
      "|   Product B| Los Angeles|   CA|    USA|16260.506950983123|      32449|\n",
      "|   Product F|Philadelphia|   PA|    USA| 16259.04758088331|      32521|\n",
      "|   Product H|   San Diego|   CA|    USA|16238.377853609758|      32430|\n",
      "|   Product I|      Dallas|   TX|    USA|16214.700816333418|      32415|\n",
      "|   Product C|     Chicago|   IL|    USA|16212.334961552857|      32367|\n",
      "|   Product J|    San Jose|   CA|    USA|16205.668117725014|      32434|\n",
      "|   Product D|     Houston|   TX|    USA|16115.736272952998|      32344|\n",
      "|   Product E|     Phoenix|   AZ|    USA| 15993.69845353664|      31985|\n",
      "+------------+------------+-----+-------+------------------+-----------+\n",
      "\n",
      "zorder_eventid_actorid_table_2: 10.415547609329224 seconds\n"
     ]
    },
    {
     "name": "stderr",
     "output_type": "stream",
     "text": [
      "                                                                                \r"
     ]
    },
    {
     "name": "stdout",
     "output_type": "stream",
     "text": [
      "+------------+------------+-----+-------+------------------+-----------+\n",
      "|product_name|        city|state|country|       total_value|event_count|\n",
      "+------------+------------+-----+-------+------------------+-----------+\n",
      "|   Product G| San Antonio|   TX|    USA|16325.645384546518|      32631|\n",
      "|   Product A|    New York|   NY|    USA|16293.041773393481|      32485|\n",
      "|   Product B| Los Angeles|   CA|    USA|16260.506950983123|      32449|\n",
      "|   Product F|Philadelphia|   PA|    USA|16259.047580883309|      32521|\n",
      "|   Product H|   San Diego|   CA|    USA|16238.377853609763|      32430|\n",
      "|   Product I|      Dallas|   TX|    USA|16214.700816333414|      32415|\n",
      "|   Product C|     Chicago|   IL|    USA|16212.334961552857|      32367|\n",
      "|   Product J|    San Jose|   CA|    USA|16205.668117725008|      32434|\n",
      "|   Product D|     Houston|   TX|    USA|16115.736272952992|      32344|\n",
      "|   Product E|     Phoenix|   AZ|    USA|15993.698453536641|      31985|\n",
      "+------------+------------+-----+-------+------------------+-----------+\n",
      "\n",
      "zorder_eventid_actorid_table_2: 10.553846597671509 seconds\n"
     ]
    },
    {
     "name": "stderr",
     "output_type": "stream",
     "text": [
      "                                                                                \r"
     ]
    },
    {
     "name": "stdout",
     "output_type": "stream",
     "text": [
      "+------------+------------+-----+-------+------------------+-----------+\n",
      "|product_name|        city|state|country|       total_value|event_count|\n",
      "+------------+------------+-----+-------+------------------+-----------+\n",
      "|   Product G| San Antonio|   TX|    USA|16325.645384546522|      32631|\n",
      "|   Product A|    New York|   NY|    USA|16293.041773393485|      32485|\n",
      "|   Product B| Los Angeles|   CA|    USA|16260.506950983125|      32449|\n",
      "|   Product F|Philadelphia|   PA|    USA|16259.047580883313|      32521|\n",
      "|   Product H|   San Diego|   CA|    USA| 16238.37785360976|      32430|\n",
      "|   Product I|      Dallas|   TX|    USA|16214.700816333416|      32415|\n",
      "|   Product C|     Chicago|   IL|    USA|16212.334961552857|      32367|\n",
      "|   Product J|    San Jose|   CA|    USA|16205.668117725016|      32434|\n",
      "|   Product D|     Houston|   TX|    USA|16115.736272952996|      32344|\n",
      "|   Product E|     Phoenix|   AZ|    USA|15993.698453536637|      31985|\n",
      "+------------+------------+-----+-------+------------------+-----------+\n",
      "\n",
      "zorder_eventid_actorid_table_2: 10.450222253799438 seconds\n"
     ]
    },
    {
     "name": "stderr",
     "output_type": "stream",
     "text": [
      "                                                                                \r"
     ]
    },
    {
     "name": "stdout",
     "output_type": "stream",
     "text": [
      "+------------+------------+-----+-------+------------------+-----------+\n",
      "|product_name|        city|state|country|       total_value|event_count|\n",
      "+------------+------------+-----+-------+------------------+-----------+\n",
      "|   Product G| San Antonio|   TX|    USA|16325.645384546518|      32631|\n",
      "|   Product A|    New York|   NY|    USA|16293.041773393485|      32485|\n",
      "|   Product B| Los Angeles|   CA|    USA| 16260.50695098312|      32449|\n",
      "|   Product F|Philadelphia|   PA|    USA|16259.047580883305|      32521|\n",
      "|   Product H|   San Diego|   CA|    USA|16238.377853609756|      32430|\n",
      "|   Product I|      Dallas|   TX|    USA| 16214.70081633342|      32415|\n",
      "|   Product C|     Chicago|   IL|    USA|16212.334961552857|      32367|\n",
      "|   Product J|    San Jose|   CA|    USA|16205.668117725014|      32434|\n",
      "|   Product D|     Houston|   TX|    USA|16115.736272952998|      32344|\n",
      "|   Product E|     Phoenix|   AZ|    USA|15993.698453536643|      31985|\n",
      "+------------+------------+-----+-------+------------------+-----------+\n",
      "\n",
      "zorder_eventid_actorid_table_2: 9.936419486999512 seconds\n"
     ]
    },
    {
     "name": "stderr",
     "output_type": "stream",
     "text": [
      "                                                                                \r"
     ]
    },
    {
     "name": "stdout",
     "output_type": "stream",
     "text": [
      "+------------+------------+-----+-------+------------------+-----------+\n",
      "|product_name|        city|state|country|       total_value|event_count|\n",
      "+------------+------------+-----+-------+------------------+-----------+\n",
      "|   Product G| San Antonio|   TX|    USA|16325.645384546517|      32631|\n",
      "|   Product A|    New York|   NY|    USA|16293.041773393485|      32485|\n",
      "|   Product B| Los Angeles|   CA|    USA|16260.506950983121|      32449|\n",
      "|   Product F|Philadelphia|   PA|    USA| 16259.04758088331|      32521|\n",
      "|   Product H|   San Diego|   CA|    USA|16238.377853609758|      32430|\n",
      "|   Product I|      Dallas|   TX|    USA|16214.700816333418|      32415|\n",
      "|   Product C|     Chicago|   IL|    USA|16212.334961552857|      32367|\n",
      "|   Product J|    San Jose|   CA|    USA|16205.668117725014|      32434|\n",
      "|   Product D|     Houston|   TX|    USA|16115.736272952996|      32344|\n",
      "|   Product E|     Phoenix|   AZ|    USA|15993.698453536641|      31985|\n",
      "+------------+------------+-----+-------+------------------+-----------+\n",
      "\n",
      "zorder_eventid_actorid_table_2: 10.365187406539917 seconds\n"
     ]
    },
    {
     "name": "stderr",
     "output_type": "stream",
     "text": [
      "                                                                                \r"
     ]
    },
    {
     "name": "stdout",
     "output_type": "stream",
     "text": [
      "+------------+------------+-----+-------+------------------+-----------+\n",
      "|product_name|        city|state|country|       total_value|event_count|\n",
      "+------------+------------+-----+-------+------------------+-----------+\n",
      "|   Product G| San Antonio|   TX|    USA|16325.645384546517|      32631|\n",
      "|   Product A|    New York|   NY|    USA|16293.041773393488|      32485|\n",
      "|   Product B| Los Angeles|   CA|    USA|16260.506950983123|      32449|\n",
      "|   Product F|Philadelphia|   PA|    USA| 16259.04758088331|      32521|\n",
      "|   Product H|   San Diego|   CA|    USA|16238.377853609756|      32430|\n",
      "|   Product I|      Dallas|   TX|    USA|16214.700816333412|      32415|\n",
      "|   Product C|     Chicago|   IL|    USA|16212.334961552857|      32367|\n",
      "|   Product J|    San Jose|   CA|    USA|16205.668117725014|      32434|\n",
      "|   Product D|     Houston|   TX|    USA|16115.736272952998|      32344|\n",
      "|   Product E|     Phoenix|   AZ|    USA|15993.698453536637|      31985|\n",
      "+------------+------------+-----+-------+------------------+-----------+\n",
      "\n",
      "zorder_eventid_actorid_table_2: 9.890347719192505 seconds\n"
     ]
    },
    {
     "name": "stderr",
     "output_type": "stream",
     "text": [
      "                                                                                \r"
     ]
    },
    {
     "name": "stdout",
     "output_type": "stream",
     "text": [
      "+--------------------+----------------------+\n",
      "|               Table|Average Execution Time|\n",
      "+--------------------+----------------------+\n",
      "|zorder_eventid_ac...|    15.687098050117493|\n",
      "+--------------------+----------------------+\n",
      "\n"
     ]
    },
    {
     "name": "stderr",
     "output_type": "stream",
     "text": [
      "                                                                                \r"
     ]
    }
   ],
   "source": [
    "from pyspark.sql import SparkSession\n",
    "from time import time\n",
    "from collections import defaultdict\n",
    "\n",
    "spark.sql(\"USE zorder\")\n",
    "\n",
    "tables = [\"zorder_eventid_actorid_table_2\"]\n",
    "num_executions = 10\n",
    "\n",
    "def measure_execution_time(query):\n",
    "    spark.catalog.clearCache()\n",
    "    start_time = time()\n",
    "    spark.sql(query).show()\n",
    "    end_time = time()\n",
    "    return end_time - start_time\n",
    "\n",
    "execution_times = defaultdict(list)\n",
    "\n",
    "for table in tables:\n",
    "    for _ in range(num_executions):\n",
    "        query = f\"\"\"\n",
    "        SELECT\n",
    "            product_dim.product_name,\n",
    "            location_dim.city,\n",
    "            location_dim.state,\n",
    "            location_dim.country,\n",
    "            SUM({table}.value) AS total_value,\n",
    "            COUNT({table}.event_id) AS event_count\n",
    "        FROM\n",
    "            {table}\n",
    "        JOIN\n",
    "            product_dim ON {table}.product_id = product_dim.product_id\n",
    "        JOIN\n",
    "            location_dim ON {table}.location_id = location_dim.location_id\n",
    "        WHERE\n",
    "            {table}.event_id BETWEEN 459999 AND 999999\n",
    "            AND {table}.actor_id IN (5001, 5002, 5003)\n",
    "        GROUP BY\n",
    "            product_dim.product_name,\n",
    "            location_dim.city,\n",
    "            location_dim.state,\n",
    "            location_dim.country\n",
    "        ORDER BY\n",
    "            total_value DESC\n",
    "        \"\"\"\n",
    "\n",
    "        try:\n",
    "            execution_time = measure_execution_time(query)\n",
    "            print(f\"{table}: {execution_time} seconds\")\n",
    "            execution_times[table].append(execution_time)\n",
    "        except Exception as e:\n",
    "            print(f\"Error for table {table}: {e}\")\n",
    "\n",
    "average_times = {table: sum(times) / num_executions for table, times in execution_times.items()}\n",
    "\n",
    "df = spark.createDataFrame([(table, avg_time) for table, avg_time in average_times.items()], [\"Table\", \"Average Execution Time\"])\n",
    "df.show()\n"
   ]
  },
  {
   "cell_type": "code",
   "execution_count": 9,
   "id": "4b04a011-455c-4687-ad12-f15cf30d10d6",
   "metadata": {},
   "outputs": [
    {
     "name": "stderr",
     "output_type": "stream",
     "text": [
      "                                                                                \r"
     ]
    },
    {
     "name": "stdout",
     "output_type": "stream",
     "text": [
      "+------------+------------+-----+-------+------------------+-----------+\n",
      "|product_name|        city|state|country|       total_value|event_count|\n",
      "+------------+------------+-----+-------+------------------+-----------+\n",
      "|   Product G| San Antonio|   TX|    USA|16325.645384546522|      32631|\n",
      "|   Product A|    New York|   NY|    USA|16293.041773393485|      32485|\n",
      "|   Product B| Los Angeles|   CA|    USA|16260.506950983123|      32449|\n",
      "|   Product F|Philadelphia|   PA|    USA| 16259.04758088331|      32521|\n",
      "|   Product H|   San Diego|   CA|    USA| 16238.37785360976|      32430|\n",
      "|   Product I|      Dallas|   TX|    USA|16214.700816333414|      32415|\n",
      "|   Product C|     Chicago|   IL|    USA|16212.334961552859|      32367|\n",
      "|   Product J|    San Jose|   CA|    USA| 16205.66811772501|      32434|\n",
      "|   Product D|     Houston|   TX|    USA|16115.736272952992|      32344|\n",
      "|   Product E|     Phoenix|   AZ|    USA| 15993.69845353664|      31985|\n",
      "+------------+------------+-----+-------+------------------+-----------+\n",
      "\n",
      "zorder_eventid_actorid_table_2: 9.895746231079102 seconds\n"
     ]
    },
    {
     "name": "stderr",
     "output_type": "stream",
     "text": [
      "                                                                                \r"
     ]
    },
    {
     "name": "stdout",
     "output_type": "stream",
     "text": [
      "+------------+------------+-----+-------+------------------+-----------+\n",
      "|product_name|        city|state|country|       total_value|event_count|\n",
      "+------------+------------+-----+-------+------------------+-----------+\n",
      "|   Product G| San Antonio|   TX|    USA| 16325.64538454652|      32631|\n",
      "|   Product A|    New York|   NY|    USA|16293.041773393483|      32485|\n",
      "|   Product B| Los Angeles|   CA|    USA|16260.506950983121|      32449|\n",
      "|   Product F|Philadelphia|   PA|    USA|16259.047580883307|      32521|\n",
      "|   Product H|   San Diego|   CA|    USA|16238.377853609758|      32430|\n",
      "|   Product I|      Dallas|   TX|    USA|16214.700816333416|      32415|\n",
      "|   Product C|     Chicago|   IL|    USA|16212.334961552857|      32367|\n",
      "|   Product J|    San Jose|   CA|    USA|16205.668117725016|      32434|\n",
      "|   Product D|     Houston|   TX|    USA|16115.736272952998|      32344|\n",
      "|   Product E|     Phoenix|   AZ|    USA| 15993.69845353664|      31985|\n",
      "+------------+------------+-----+-------+------------------+-----------+\n",
      "\n",
      "zorder_eventid_actorid_table_2: 18.942344665527344 seconds\n"
     ]
    },
    {
     "name": "stderr",
     "output_type": "stream",
     "text": [
      "                                                                                \r"
     ]
    },
    {
     "name": "stdout",
     "output_type": "stream",
     "text": [
      "+------------+------------+-----+-------+------------------+-----------+\n",
      "|product_name|        city|state|country|       total_value|event_count|\n",
      "+------------+------------+-----+-------+------------------+-----------+\n",
      "|   Product G| San Antonio|   TX|    USA|16325.645384546522|      32631|\n",
      "|   Product A|    New York|   NY|    USA|16293.041773393483|      32485|\n",
      "|   Product B| Los Angeles|   CA|    USA|16260.506950983121|      32449|\n",
      "|   Product F|Philadelphia|   PA|    USA|16259.047580883309|      32521|\n",
      "|   Product H|   San Diego|   CA|    USA| 16238.37785360976|      32430|\n",
      "|   Product I|      Dallas|   TX|    USA|16214.700816333416|      32415|\n",
      "|   Product C|     Chicago|   IL|    USA|16212.334961552857|      32367|\n",
      "|   Product J|    San Jose|   CA|    USA| 16205.66811772501|      32434|\n",
      "|   Product D|     Houston|   TX|    USA|16115.736272952996|      32344|\n",
      "|   Product E|     Phoenix|   AZ|    USA|15993.698453536643|      31985|\n",
      "+------------+------------+-----+-------+------------------+-----------+\n",
      "\n",
      "zorder_eventid_actorid_table_2: 9.635064125061035 seconds\n"
     ]
    },
    {
     "name": "stderr",
     "output_type": "stream",
     "text": [
      "                                                                                \r"
     ]
    },
    {
     "name": "stdout",
     "output_type": "stream",
     "text": [
      "+------------+------------+-----+-------+------------------+-----------+\n",
      "|product_name|        city|state|country|       total_value|event_count|\n",
      "+------------+------------+-----+-------+------------------+-----------+\n",
      "|   Product G| San Antonio|   TX|    USA| 16325.64538454652|      32631|\n",
      "|   Product A|    New York|   NY|    USA|16293.041773393483|      32485|\n",
      "|   Product B| Los Angeles|   CA|    USA|16260.506950983121|      32449|\n",
      "|   Product F|Philadelphia|   PA|    USA|16259.047580883307|      32521|\n",
      "|   Product H|   San Diego|   CA|    USA|16238.377853609762|      32430|\n",
      "|   Product I|      Dallas|   TX|    USA| 16214.70081633342|      32415|\n",
      "|   Product C|     Chicago|   IL|    USA|16212.334961552857|      32367|\n",
      "|   Product J|    San Jose|   CA|    USA|16205.668117725014|      32434|\n",
      "|   Product D|     Houston|   TX|    USA|16115.736272953001|      32344|\n",
      "|   Product E|     Phoenix|   AZ|    USA|15993.698453536643|      31985|\n",
      "+------------+------------+-----+-------+------------------+-----------+\n",
      "\n",
      "zorder_eventid_actorid_table_2: 10.225308656692505 seconds\n"
     ]
    },
    {
     "name": "stderr",
     "output_type": "stream",
     "text": [
      "                                                                                \r"
     ]
    },
    {
     "name": "stdout",
     "output_type": "stream",
     "text": [
      "+------------+------------+-----+-------+------------------+-----------+\n",
      "|product_name|        city|state|country|       total_value|event_count|\n",
      "+------------+------------+-----+-------+------------------+-----------+\n",
      "|   Product G| San Antonio|   TX|    USA|16325.645384546517|      32631|\n",
      "|   Product A|    New York|   NY|    USA|16293.041773393485|      32485|\n",
      "|   Product B| Los Angeles|   CA|    USA|16260.506950983123|      32449|\n",
      "|   Product F|Philadelphia|   PA|    USA|16259.047580883309|      32521|\n",
      "|   Product H|   San Diego|   CA|    USA| 16238.37785360976|      32430|\n",
      "|   Product I|      Dallas|   TX|    USA|16214.700816333418|      32415|\n",
      "|   Product C|     Chicago|   IL|    USA|16212.334961552859|      32367|\n",
      "|   Product J|    San Jose|   CA|    USA| 16205.66811772501|      32434|\n",
      "|   Product D|     Houston|   TX|    USA|   16115.736272953|      32344|\n",
      "|   Product E|     Phoenix|   AZ|    USA|15993.698453536643|      31985|\n",
      "+------------+------------+-----+-------+------------------+-----------+\n",
      "\n",
      "zorder_eventid_actorid_table_2: 9.747678518295288 seconds\n"
     ]
    },
    {
     "name": "stderr",
     "output_type": "stream",
     "text": [
      "                                                                                \r"
     ]
    },
    {
     "name": "stdout",
     "output_type": "stream",
     "text": [
      "+------------+------------+-----+-------+------------------+-----------+\n",
      "|product_name|        city|state|country|       total_value|event_count|\n",
      "+------------+------------+-----+-------+------------------+-----------+\n",
      "|   Product G| San Antonio|   TX|    USA|16325.645384546518|      32631|\n",
      "|   Product A|    New York|   NY|    USA|16293.041773393485|      32485|\n",
      "|   Product B| Los Angeles|   CA|    USA|16260.506950983123|      32449|\n",
      "|   Product F|Philadelphia|   PA|    USA| 16259.04758088331|      32521|\n",
      "|   Product H|   San Diego|   CA|    USA|16238.377853609756|      32430|\n",
      "|   Product I|      Dallas|   TX|    USA|16214.700816333418|      32415|\n",
      "|   Product C|     Chicago|   IL|    USA|16212.334961552855|      32367|\n",
      "|   Product J|    San Jose|   CA|    USA| 16205.66811772501|      32434|\n",
      "|   Product D|     Houston|   TX|    USA|16115.736272952998|      32344|\n",
      "|   Product E|     Phoenix|   AZ|    USA|15993.698453536643|      31985|\n",
      "+------------+------------+-----+-------+------------------+-----------+\n",
      "\n",
      "zorder_eventid_actorid_table_2: 9.77364730834961 seconds\n"
     ]
    },
    {
     "name": "stderr",
     "output_type": "stream",
     "text": [
      "                                                                                \r"
     ]
    },
    {
     "name": "stdout",
     "output_type": "stream",
     "text": [
      "+------------+------------+-----+-------+------------------+-----------+\n",
      "|product_name|        city|state|country|       total_value|event_count|\n",
      "+------------+------------+-----+-------+------------------+-----------+\n",
      "|   Product G| San Antonio|   TX|    USA|16325.645384546518|      32631|\n",
      "|   Product A|    New York|   NY|    USA|16293.041773393486|      32485|\n",
      "|   Product B| Los Angeles|   CA|    USA| 16260.50695098312|      32449|\n",
      "|   Product F|Philadelphia|   PA|    USA|16259.047580883307|      32521|\n",
      "|   Product H|   San Diego|   CA|    USA|16238.377853609756|      32430|\n",
      "|   Product I|      Dallas|   TX|    USA|16214.700816333416|      32415|\n",
      "|   Product C|     Chicago|   IL|    USA|16212.334961552857|      32367|\n",
      "|   Product J|    San Jose|   CA|    USA|16205.668117725008|      32434|\n",
      "|   Product D|     Houston|   TX|    USA|16115.736272952998|      32344|\n",
      "|   Product E|     Phoenix|   AZ|    USA|15993.698453536643|      31985|\n",
      "+------------+------------+-----+-------+------------------+-----------+\n",
      "\n",
      "zorder_eventid_actorid_table_2: 9.881623029708862 seconds\n"
     ]
    },
    {
     "name": "stderr",
     "output_type": "stream",
     "text": [
      "                                                                                \r"
     ]
    },
    {
     "name": "stdout",
     "output_type": "stream",
     "text": [
      "+------------+------------+-----+-------+------------------+-----------+\n",
      "|product_name|        city|state|country|       total_value|event_count|\n",
      "+------------+------------+-----+-------+------------------+-----------+\n",
      "|   Product G| San Antonio|   TX|    USA|16325.645384546517|      32631|\n",
      "|   Product A|    New York|   NY|    USA| 16293.04177339349|      32485|\n",
      "|   Product B| Los Angeles|   CA|    USA|16260.506950983125|      32449|\n",
      "|   Product F|Philadelphia|   PA|    USA| 16259.04758088331|      32521|\n",
      "|   Product H|   San Diego|   CA|    USA| 16238.37785360976|      32430|\n",
      "|   Product I|      Dallas|   TX|    USA|16214.700816333416|      32415|\n",
      "|   Product C|     Chicago|   IL|    USA|16212.334961552859|      32367|\n",
      "|   Product J|    San Jose|   CA|    USA| 16205.66811772501|      32434|\n",
      "|   Product D|     Houston|   TX|    USA|16115.736272952998|      32344|\n",
      "|   Product E|     Phoenix|   AZ|    USA|15993.698453536641|      31985|\n",
      "+------------+------------+-----+-------+------------------+-----------+\n",
      "\n",
      "zorder_eventid_actorid_table_2: 11.094537734985352 seconds\n"
     ]
    },
    {
     "name": "stderr",
     "output_type": "stream",
     "text": [
      "                                                                                \r"
     ]
    },
    {
     "name": "stdout",
     "output_type": "stream",
     "text": [
      "+------------+------------+-----+-------+------------------+-----------+\n",
      "|product_name|        city|state|country|       total_value|event_count|\n",
      "+------------+------------+-----+-------+------------------+-----------+\n",
      "|   Product G| San Antonio|   TX|    USA|16325.645384546517|      32631|\n",
      "|   Product A|    New York|   NY|    USA|16293.041773393486|      32485|\n",
      "|   Product B| Los Angeles|   CA|    USA| 16260.50695098312|      32449|\n",
      "|   Product F|Philadelphia|   PA|    USA|16259.047580883309|      32521|\n",
      "|   Product H|   San Diego|   CA|    USA| 16238.37785360976|      32430|\n",
      "|   Product I|      Dallas|   TX|    USA|16214.700816333418|      32415|\n",
      "|   Product C|     Chicago|   IL|    USA|16212.334961552855|      32367|\n",
      "|   Product J|    San Jose|   CA|    USA|16205.668117725012|      32434|\n",
      "|   Product D|     Houston|   TX|    USA|16115.736272953001|      32344|\n",
      "|   Product E|     Phoenix|   AZ|    USA|15993.698453536641|      31985|\n",
      "+------------+------------+-----+-------+------------------+-----------+\n",
      "\n",
      "zorder_eventid_actorid_table_2: 10.052589178085327 seconds\n"
     ]
    },
    {
     "name": "stderr",
     "output_type": "stream",
     "text": [
      "                                                                                \r"
     ]
    },
    {
     "name": "stdout",
     "output_type": "stream",
     "text": [
      "+------------+------------+-----+-------+------------------+-----------+\n",
      "|product_name|        city|state|country|       total_value|event_count|\n",
      "+------------+------------+-----+-------+------------------+-----------+\n",
      "|   Product G| San Antonio|   TX|    USA|16325.645384546515|      32631|\n",
      "|   Product A|    New York|   NY|    USA|16293.041773393485|      32485|\n",
      "|   Product B| Los Angeles|   CA|    USA|16260.506950983125|      32449|\n",
      "|   Product F|Philadelphia|   PA|    USA|16259.047580883309|      32521|\n",
      "|   Product H|   San Diego|   CA|    USA|16238.377853609752|      32430|\n",
      "|   Product I|      Dallas|   TX|    USA| 16214.70081633342|      32415|\n",
      "|   Product C|     Chicago|   IL|    USA|16212.334961552851|      32367|\n",
      "|   Product J|    San Jose|   CA|    USA|16205.668117725012|      32434|\n",
      "|   Product D|     Houston|   TX|    USA|   16115.736272953|      32344|\n",
      "|   Product E|     Phoenix|   AZ|    USA|15993.698453536641|      31985|\n",
      "+------------+------------+-----+-------+------------------+-----------+\n",
      "\n",
      "zorder_eventid_actorid_table_2: 9.976810455322266 seconds\n",
      "+--------------------+----------------------+\n",
      "|               Table|Average Execution Time|\n",
      "+--------------------+----------------------+\n",
      "|zorder_eventid_ac...|     10.92253499031067|\n",
      "+--------------------+----------------------+\n",
      "\n"
     ]
    }
   ],
   "source": [
    "from pyspark.sql import SparkSession\n",
    "from pyspark.sql.functions import col, sum as _sum, count, desc\n",
    "from time import time\n",
    "from collections import defaultdict\n",
    "import traceback\n",
    "\n",
    "spark.sql(\"USE zorder\")\n",
    "\n",
    "tables = [\"zorder_eventid_actorid_table_2\"]\n",
    "num_executions = 10\n",
    "\n",
    "def measure_execution_time(df):\n",
    "    spark.catalog.clearCache()\n",
    "    start_time = time()\n",
    "    df.show()\n",
    "    end_time = time()\n",
    "    return end_time - start_time\n",
    "\n",
    "execution_times = defaultdict(list)\n",
    "\n",
    "for table in tables:\n",
    "    df = spark.table(table) \\\n",
    "        .join(spark.table(\"product_dim\"), col(f\"{table}.product_id\") == col(\"product_dim.product_id\")) \\\n",
    "        .join(spark.table(\"location_dim\"), col(f\"{table}.location_id\") == col(\"location_dim.location_id\")) \\\n",
    "        .filter(col(f\"{table}.event_id\").between(459999, 999999) & col(f\"{table}.actor_id\").isin(5001, 5002, 5003)) \\\n",
    "        .groupBy(\"product_dim.product_name\", \"location_dim.city\", \"location_dim.state\", \"location_dim.country\") \\\n",
    "        .agg(\n",
    "            _sum(col(f\"{table}.value\")).alias(\"total_value\"),\n",
    "            count(col(f\"{table}.event_id\")).alias(\"event_count\")\n",
    "        ) \\\n",
    "        .orderBy(desc(\"total_value\"))\n",
    "\n",
    "    for _ in range(num_executions):\n",
    "        try:\n",
    "            execution_time = measure_execution_time(df)\n",
    "            print(f\"{table}: {execution_time} seconds\")\n",
    "            execution_times[table].append(execution_time)\n",
    "        except Exception as e:\n",
    "            print(f\"Error for table {table}: {str(e)}\")\n",
    "            traceback.print_exc()\n",
    "\n",
    "average_times = {table: sum(times) / num_executions for table, times in execution_times.items()}\n",
    "\n",
    "df = spark.createDataFrame([(table, avg_time) for table, avg_time in average_times.items()], [\"Table\", \"Average Execution Time\"])\n",
    "df.show()\n"
   ]
  },
  {
   "cell_type": "code",
   "execution_count": 21,
   "id": "b244f68e-3164-4242-b035-488e796acaf4",
   "metadata": {},
   "outputs": [],
   "source": [
    "db='pyspark_test'\n",
    "delta_db_path = 'hdfs://192.168.0.144:9000/datalake/pyspark_test'"
   ]
  },
  {
   "cell_type": "code",
   "execution_count": 23,
   "id": "aa9f997b-1ddd-4a9a-96d3-9fa930a7d758",
   "metadata": {},
   "outputs": [
    {
     "data": {
      "text/plain": [
       "DataFrame[]"
      ]
     },
     "execution_count": 23,
     "metadata": {},
     "output_type": "execute_result"
    }
   ],
   "source": [
    "#spark.sql(f\"drop DATABASE {db} CASCADE\")\n",
    "spark.sql(f\"CREATE DATABASE {db} LOCATION '{delta_db_path}'\")\n",
    "spark.sql(f\"use database {db}\")"
   ]
  },
  {
   "cell_type": "code",
   "execution_count": 24,
   "id": "ba302b8e-2e6f-41b6-96c4-b9caf638d4b9",
   "metadata": {},
   "outputs": [
    {
     "name": "stderr",
     "output_type": "stream",
     "text": [
      "24/08/07 11:41:42 WARN HiveExternalCatalog: Couldn't find corresponding Hive SerDe for data source provider delta. Persisting data source table `spark_catalog`.`pyspark_test`.`pyspark_test_8` into Hive metastore in Spark SQL specific format, which is NOT compatible with Hive.\n",
      "24/08/07 11:41:42 WARN SessionState: METASTORE_FILTER_HOOK will be ignored, since hive.security.authorization.manager is set to instance of HiveAuthorizerFactory.\n",
      "24/08/07 11:41:43 WARN HiveExternalCatalog: Couldn't find corresponding Hive SerDe for data source provider delta. Persisting data source table `spark_catalog`.`pyspark_test`.`pyspark_test_4` into Hive metastore in Spark SQL specific format, which is NOT compatible with Hive.\n",
      "24/08/07 11:41:44 WARN HiveExternalCatalog: Couldn't find corresponding Hive SerDe for data source provider delta. Persisting data source table `spark_catalog`.`pyspark_test`.`pyspark_test_2` into Hive metastore in Spark SQL specific format, which is NOT compatible with Hive.\n"
     ]
    }
   ],
   "source": [
    "num = 3  \n",
    "max_rows = 8 \n",
    "\n",
    "row_counts = [max_rows // (2 ** i) for i in range(num)]\n",
    "\n",
    "for i in range(num):\n",
    "    compaction_table_name = f\"pyspark_test_{row_counts[i]}\"\n",
    "    spark.sql(f\"DROP TABLE IF EXISTS {compaction_table_name}\")   \n",
    "    spark.sql(f\"\"\"\n",
    "    CREATE TABLE {compaction_table_name} (\n",
    "        timestamp TIMESTAMP,\n",
    "        value DOUBLE,\n",
    "        country STRING,\n",
    "        event_id LONG,\n",
    "        actor_id LONG,\n",
    "        year INT,\n",
    "        month LONG,\n",
    "        day LONG,\n",
    "        product_id INT,          \n",
    "        location_id INT,         \n",
    "        department_id INT,      \n",
    "        campaign_id INT,         \n",
    "        customer_id INT        \n",
    "    )\n",
    "    USING delta;\n",
    "    \"\"\")"
   ]
  },
  {
   "cell_type": "code",
   "execution_count": 25,
   "id": "e182bb52-ed96-40f6-ad7c-08d63f040497",
   "metadata": {},
   "outputs": [
    {
     "name": "stdout",
     "output_type": "stream",
     "text": [
      "Inserting data for table pyspark_test_2\n"
     ]
    },
    {
     "name": "stderr",
     "output_type": "stream",
     "text": [
      "                                                                                \r"
     ]
    },
    {
     "name": "stdout",
     "output_type": "stream",
     "text": [
      "CPU times: user 824 ms, sys: 379 ms, total: 1.2 s\n",
      "Wall time: 37min 54s\n"
     ]
    }
   ],
   "source": [
    "table_pairs = [\n",
    "    ('pyspark_test_2', 'raw_data.raw_data_2')\n",
    "]\n",
    "\n",
    "for target_table, source_table in table_pairs:\n",
    "    insert_sql = f\"\"\"\n",
    "    INSERT INTO {target_table}\n",
    "    SELECT * FROM {source_table}\n",
    "    \"\"\"\n",
    "    print(f\"Inserting data for table {target_table}\")\n",
    "    %time spark.sql(insert_sql)"
   ]
  },
  {
   "cell_type": "code",
   "execution_count": 26,
   "id": "64a49b43-71b3-4d17-910c-d9aee810d08f",
   "metadata": {},
   "outputs": [
    {
     "name": "stderr",
     "output_type": "stream",
     "text": [
      "                                                                                \r"
     ]
    },
    {
     "name": "stdout",
     "output_type": "stream",
     "text": [
      "PySpark execution time: 4.870447158813477 seconds\n"
     ]
    }
   ],
   "source": [
    "from pyspark.sql import SparkSession\n",
    "from pyspark.sql.functions import col\n",
    "\n",
    "def main():\n",
    "\n",
    "    num_rows = 1000000\n",
    "    num_partitions = 10\n",
    "\n",
    "    df = spark.range(num_rows).repartition(num_partitions) \\\n",
    "        .withColumn(\"value\", col(\"id\") * 2)\n",
    "\n",
    "    import time\n",
    "    start_time = time.time()\n",
    "\n",
    "    result = df.filter(col(\"value\") % 2 == 0) \\\n",
    "        .groupBy(\"value\") \\\n",
    "        .count() \\\n",
    "        .collect()\n",
    "\n",
    "    end_time = time.time()\n",
    "    duration = end_time - start_time\n",
    "\n",
    "    print(f\"PySpark execution time: {duration} seconds\")\n",
    "\n",
    "    spark.stop()\n",
    "\n",
    "if __name__ == \"__main__\":\n",
    "    main()\n"
   ]
  },
  {
   "cell_type": "code",
   "execution_count": null,
   "id": "d2067713-e95c-45e8-b05a-098f0328f6d8",
   "metadata": {},
   "outputs": [],
   "source": []
  }
 ],
 "metadata": {
  "kernelspec": {
   "display_name": "Python 3 (ipykernel)",
   "language": "python",
   "name": "python3"
  },
  "language_info": {
   "codemirror_mode": {
    "name": "ipython",
    "version": 3
   },
   "file_extension": ".py",
   "mimetype": "text/x-python",
   "name": "python",
   "nbconvert_exporter": "python",
   "pygments_lexer": "ipython3",
   "version": "3.10.12"
  }
 },
 "nbformat": 4,
 "nbformat_minor": 5
}
